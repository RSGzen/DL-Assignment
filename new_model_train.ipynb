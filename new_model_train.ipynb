{
 "cells": [
  {
   "cell_type": "code",
   "execution_count": null,
   "id": "e97bd584",
   "metadata": {},
   "outputs": [],
   "source": [
    "import torch \n",
    "import torch.nn as nn\n",
    "from torchvision.transforms import v2\n",
    "from torchvision.datasets import ImageFolder\n",
    "from torch.utils.data import DataLoader\n",
    "from torchsummary import summary\n",
    "from torchmetrics import Accuracy\n",
    "\n",
    "from tqdm import tqdm\n",
    "import matplotlib.pyplot as plt\n",
    "import os\n",
    "import json\n",
    "from math import ceil"
   ]
  },
  {
   "cell_type": "code",
   "execution_count": 5,
   "id": "ba6ea972",
   "metadata": {},
   "outputs": [],
   "source": [
    "basic_mb_params = [\n",
    "    # Expand ratio, out channels, num layers, stride, kernel_size\n",
    "    # k, c, t, s, k\n",
    "    [1, 16, 1, 1, 3],\n",
    "    [6, 24, 2, 2, 3],\n",
    "    [6, 40, 2, 2, 5],\n",
    "    [6, 80, 3, 2, 3],\n",
    "    [6, 112, 3, 1, 5],\n",
    "    [6, 192, 4, 2, 5],\n",
    "    [6, 320, 1, 1, 3],\n",
    "]\n",
    "\n",
    "alpha, beta = 1.2, 1.1\n",
    "\n",
    "scale_values = {\n",
    "    # (Phi, resolution, dropout)\n",
    "\n",
    "    \"b0\": (0, 224, 0.2),\n",
    "    \"b1\": (0.5, 240, 0.2),\n",
    "    \"b2\": (1, 260, 0.3),\n",
    "    \"b3\": (2, 300, 0.3),\n",
    "    \"b4\": (3, 380, 0.4),\n",
    "    \"b5\": (4, 456, 0.4),\n",
    "    \"b6\": (5, 528, 0.5),\n",
    "    \"b7\": (6, 600, 0.5),\n",
    "}"
   ]
  },
  {
   "cell_type": "code",
   "execution_count": 6,
   "id": "3a38b3d4",
   "metadata": {},
   "outputs": [],
   "source": [
    "\"\"\"\n",
    "Fundamental convolution block:\n",
    "    1 ==> Convolution layer\n",
    "    2 ==> Batch normalization\n",
    "    3 ==> Silu activation function\n",
    "\"\"\"\n",
    "\n",
    "class ConvBlock(nn.Module):\n",
    "    \n",
    "    def __init__(self, in_channels, out_channels, kernel_size, stride, padding, groups=1):\n",
    "        super(ConvBlock, self).__init__()\n",
    "\n",
    "        self.block = nn.Sequential(\n",
    "            \n",
    "            nn.Conv2d(in_channels=in_channels,\n",
    "                      out_channels=out_channels,\n",
    "                      kernel_size=kernel_size,\n",
    "                      stride=stride,\n",
    "                      padding=padding,\n",
    "                      groups=groups), # Specified to control how convolution is applied to input\n",
    "                                      # If group = 1, kernel is applied to one channel only\n",
    "                                      # if group = input channel, kernel is applied to one channel only\n",
    "\n",
    "            nn.BatchNorm2d(out_channels),\n",
    "            nn.SiLU()\n",
    "        )\n",
    "    \n",
    "    def forward(self, x):\n",
    "        return self.block(x)"
   ]
  },
  {
   "cell_type": "code",
   "execution_count": 7,
   "id": "a414057f",
   "metadata": {},
   "outputs": [],
   "source": [
    "\"\"\"\n",
    "Squeeze and Excitation Block:\n",
    "    Goal: To enhance feature representation by selectively amplifying important channels\n",
    "    Mechanism: Take number of input channels as input and applying adaptive pooling to condense spatial dimensions\n",
    "\"\"\"\n",
    "\n",
    "class SqueezeExcitation(nn.Module):\n",
    "    def __init__(self, in_channels, reduced_dim):\n",
    "        super(SqueezeExcitation, self).__init__()\n",
    "        \n",
    "        self.se = nn.Sequential(\n",
    "            nn.AdaptiveAvgPool2d(1),  # C x H x W -> C x 1 x 1\n",
    "            nn.Conv2d(in_channels, reduced_dim, 1),\n",
    "            nn.SiLU(),\n",
    "            nn.Conv2d(reduced_dim, in_channels, 1),\n",
    "            nn.Sigmoid(),\n",
    "        )\n",
    "\n",
    "    def forward(self, x):\n",
    "        return x * self.se(x)"
   ]
  },
  {
   "cell_type": "code",
   "execution_count": 8,
   "id": "9811b122",
   "metadata": {},
   "outputs": [],
   "source": [
    "\"\"\"\n",
    "MobileNet-style Convolution Block (MBConv):\n",
    "    Depthwise separable convolutions\n",
    "    Squeeze-and-excitation block (SE)\n",
    "\"\"\"\n",
    "\n",
    "class MBConv(nn.Module):\n",
    "\n",
    "    def __init__(self, in_channels, out_channels, kernel_size, stride, padding, ratio, reduction=2):\n",
    "        super(MBConv, self).__init__()\n",
    "\n",
    "        hidden_dim = in_channels * ratio\n",
    "        self.expand = in_channels != hidden_dim\n",
    "\n",
    "        # Squeeze and excitation block\n",
    "        reduced_dim = int(in_channels / reduction)\n",
    "\n",
    "        if self.expand:\n",
    "            self.expand_conv = ConvBlock(in_channels=in_channels,\n",
    "                                         out_channels=hidden_dim,\n",
    "                                         kernel_size=3,\n",
    "                                         stride=1,\n",
    "                                         padding=1)\n",
    "        \n",
    "        self.conv = nn.Sequential(\n",
    "            ConvBlock(in_channels=hidden_dim,\n",
    "                      out_channels=hidden_dim,\n",
    "                      kernel_size=kernel_size,\n",
    "                      stride=stride,\n",
    "                      padding=padding,\n",
    "                      groups=hidden_dim),\n",
    "\n",
    "            SqueezeExcitation(in_channels=hidden_dim,\n",
    "                              reduced_dim=reduced_dim),\n",
    "\n",
    "            nn.Conv2d(in_channels=hidden_dim,\n",
    "                      out_channels=out_channels,\n",
    "                      kernel_size=1),\n",
    "\n",
    "            nn.BatchNorm2d(out_channels)\n",
    "        )\n",
    "\n",
    "    def forward(self, inputs):\n",
    "        if self.expand:\n",
    "            x = self.expand_conv(inputs)\n",
    "        else:\n",
    "            x = inputs\n",
    "            \n",
    "        return self.conv(x)"
   ]
  },
  {
   "cell_type": "code",
   "execution_count": 9,
   "id": "aac5027c",
   "metadata": {},
   "outputs": [],
   "source": [
    "\"\"\"\n",
    "EfficientNet Class\n",
    "\"\"\"\n",
    "\n",
    "class EfficientNet(nn.Module):\n",
    "    def __init__(self, model_name, output, mb_params, dropout_newVal, linear_hiddenUnits_list=None):\n",
    "        super(EfficientNet, self).__init__()\n",
    "        \n",
    "        phi, resolution, dropout = scale_values[model_name]\n",
    "\n",
    "        if dropout_newVal != None:\n",
    "            dropout = dropout_newVal\n",
    "\n",
    "        if mb_params == None:\n",
    "            mb_params = basic_mb_params\n",
    "\n",
    "        self.mb_params = mb_params\n",
    "        self.depth_factor, self.width_factor = alpha**phi, beta**phi\n",
    "        self.last_channels = ceil(1280 * self.width_factor)\n",
    "        self.avgpool= nn.AdaptiveAvgPool2d(1)\n",
    "        self.feature_extractor()\n",
    "        self.flatten = nn.Flatten()\n",
    "        \n",
    "        if linear_hiddenUnits_list == None:\n",
    "            self.classifier = nn.Sequential(\n",
    "                nn.Dropout(p=dropout),\n",
    "                nn.Linear(in_features=self.last_channels,\n",
    "                        out_features=output),\n",
    "                nn.Softmax()\n",
    "            )\n",
    "\n",
    "        else:\n",
    "            feed_forward_network_layers = [nn.Dropout(p=dropout)]\n",
    "            feed_forward_network_layers.append(nn.Linear(self.last_channels, linear_hiddenUnits_list[0]))\n",
    "\n",
    "            for i in range(0, len(linear_hiddenUnits_list)-1):\n",
    "                feed_forward_network_layers.append(nn.Linear(linear_hiddenUnits_list[i], linear_hiddenUnits_list[i+1]))\n",
    "                feed_forward_network_layers.append(nn.ReLU())\n",
    "\n",
    "            feed_forward_network_layers.append(nn.Linear(linear_hiddenUnits_list[-1], output))\n",
    "            feed_forward_network_layers.append(nn.ReLU())\n",
    "\n",
    "            self.classifier = nn.Sequential(*feed_forward_network_layers)\n",
    "\n",
    "    def feature_extractor(self):\n",
    "        channels = int(32 * self.width_factor)\n",
    "        features = [ConvBlock(3, channels, 3, stride=2, padding=1)] # Stem convolution layer\n",
    "        in_channels = channels\n",
    "\n",
    "        for k, c_o, repeat, s, n in self.mb_params:\n",
    "            # For numeric stability, we multiply and divide by 4\n",
    "            out_channels = 4 * ceil(int(c_o * self.width_factor) / 4)\n",
    "            num_layers = ceil(repeat * self.depth_factor)\n",
    "\n",
    "            for layer in range(num_layers):\n",
    "                if layer == 0:\n",
    "                  stride = s\n",
    "                else:\n",
    "                  stride = 1\n",
    "                \n",
    "                features.append(\n",
    "                        MBConv(in_channels=in_channels,\n",
    "                               out_channels=out_channels,\n",
    "                               ratio=k,\n",
    "                               stride=stride,\n",
    "                               kernel_size=n,\n",
    "                               padding=(n//2))\n",
    "                )\n",
    "                in_channels = out_channels\n",
    "\n",
    "        features.append(\n",
    "            ConvBlock(in_channels=in_channels,\n",
    "                      out_channels=self.last_channels,\n",
    "                      kernel_size=1,\n",
    "                      stride=1,\n",
    "                      padding=0)\n",
    "        )\n",
    "        self.extractor = nn.Sequential(*features)\n",
    "\n",
    "    def forward(self, x):\n",
    "        x = self.avgpool(self.extractor(x))\n",
    "        \n",
    "        return self.classifier(self.flatten(x))"
   ]
  },
  {
   "cell_type": "code",
   "execution_count": 10,
   "id": "8ae20ace",
   "metadata": {},
   "outputs": [],
   "source": [
    "## Dictionary for encoding labels\n",
    "\n",
    "labelToNum_dict = {\n",
    "    \"angry\" : 0,\n",
    "    \"disgust\" : 1,\n",
    "    \"fear\" : 2,\n",
    "    \"happy\" : 3,\n",
    "    \"neutral\" : 4,\n",
    "    \"sad\" : 5,\n",
    "    \"surprise\" : 6,\n",
    "}\n",
    "\n",
    "numTolabel_dict = {\n",
    "    0 : \"angry\",\n",
    "    1 : \"disgust\",\n",
    "    2 : \"fear\",\n",
    "    3 : \"happy\",\n",
    "    4 : \"neutral\",\n",
    "    5 : \"sad\",\n",
    "    6: \"surprise\"\n",
    "}"
   ]
  },
  {
   "cell_type": "code",
   "execution_count": 11,
   "id": "3123708c",
   "metadata": {},
   "outputs": [],
   "source": [
    "def loadDataset(res, batch_size, datasetType):\n",
    "    base_dir = os.getcwd()\n",
    "    folder_dir = os.path.join(base_dir, \"processed_data\", datasetType)\n",
    "    \n",
    "    transformation = v2.Compose([\n",
    "        v2.ToImage(),\n",
    "        v2.ToDtype(torch.float32, scale=True), # Convert image to float ranging from 0 - 1\n",
    "        v2.Resize((res, res)),\n",
    "    ])\n",
    "\n",
    "    dataset = ImageFolder(folder_dir, transform=transformation)\n",
    "\n",
    "    loader = DataLoader(dataset, batch_size=batch_size, shuffle=True)\n",
    "\n",
    "    return loader\n"
   ]
  },
  {
   "cell_type": "code",
   "execution_count": 12,
   "id": "d4c3598c",
   "metadata": {},
   "outputs": [
    {
     "name": "stdout",
     "output_type": "stream",
     "text": [
      "Train features batch shape: torch.Size([32, 3, 224, 224])\n",
      "Train labels batch size: torch.Size([32])\n"
     ]
    },
    {
     "data": {
      "image/png": "[encoded data removed]",
      "text/plain": [
       "<Figure size 1200x700 with 2 Axes>"
      ]
     },
     "metadata": {},
     "output_type": "display_data"
    }
   ],
   "source": [
    "## New loading and testing train and validation datasets\n",
    "\n",
    "train_loader = loadDataset(224, 32, \"train\")\n",
    "val_loader = loadDataset(224, 32, \"validation\")\n",
    "\n",
    "x_train, y_train = next(iter(train_loader))\n",
    "x_val, y_val = next(iter(val_loader))\n",
    "\n",
    "print(f\"Train features batch shape: {x_train.size()}\")\n",
    "print(f\"Train labels batch size: {y_train.size()}\")\n",
    "\n",
    "imgTrain = x_train[0].squeeze()\n",
    "labelTrain = y_train[0]\n",
    "\n",
    "imgVal = x_val[0].squeeze()\n",
    "labelVal = y_val[0]\n",
    "\n",
    "fig = plt.figure(figsize=(12,7))\n",
    "\n",
    "plt.subplot(1,2,1)\n",
    "plt.imshow(imgTrain.permute(1,2,0))\n",
    "plt.title(numTolabel_dict[labelTrain.item()])\n",
    "\n",
    "plt.subplot(1,2,2)\n",
    "plt.imshow(imgVal.permute(1,2,0))\n",
    "plt.title(numTolabel_dict[labelVal.item()])\n",
    "plt.show()\n"
   ]
  },
  {
   "cell_type": "code",
   "execution_count": 13,
   "id": "9535c700",
   "metadata": {},
   "outputs": [],
   "source": [
    "def setHyperparameters(model_type, num_class, batchSize, learningRate, device, mb_params, newDropoutRate, optimChoice, linear_hiddenUnits_list=None):\n",
    "    \n",
    "    phi, resolution, dropout = scale_values[model_type]\n",
    "\n",
    "    train_loader = loadDataset(resolution, batchSize, \"train\")\n",
    "    test_loader = loadDataset(resolution, batchSize, \"test\")\n",
    "    val_loader = loadDataset(resolution, batchSize, \"validation\")\n",
    "\n",
    "    model = EfficientNet(model_name=model_type,\n",
    "                         output=num_class,\n",
    "                         mb_params=mb_params,\n",
    "                         dropout_newVal=newDropoutRate,\n",
    "                         linear_hiddenUnits_list=linear_hiddenUnits_list)\n",
    "    \n",
    "    model.to(device)\n",
    "\n",
    "    match (optimChoice):\n",
    "        case \"Adam\":\n",
    "            optimizer = torch.optim.Adam(model.parameters(), lr=learningRate)\n",
    "        \n",
    "        case \"AdamW\":\n",
    "            optimizer = torch.optim.AdamW(model.parameters(), lr=learningRate)\n",
    "        \n",
    "        case \"Adadelta\":\n",
    "            optimizer = torch.optim.Adadelta(model.parameters(), lr=learningRate)\n",
    "        \n",
    "        case \"SGD\":\n",
    "            optimizer = torch.optim.SGD(model.parameters(), lr=learningRate)\n",
    "        \n",
    "        case _:\n",
    "            print(\"ERROR. Optimizer choice inputted is not included in selection.\\n PLEASE RESET MODEL OPTIMIZER's CHOICE.\\n\")\n",
    "\n",
    "    return model, train_loader, test_loader, val_loader, optimizer"
   ]
  },
  {
   "cell_type": "code",
   "execution_count": 14,
   "id": "a0c4509b",
   "metadata": {},
   "outputs": [
    {
     "name": "stdout",
     "output_type": "stream",
     "text": [
      "Using GPU: NVIDIA GeForce RTX 4060 Ti\n"
     ]
    }
   ],
   "source": [
    "## Testing for whether CUDA is available for training\n",
    "\n",
    "if torch.cuda.is_available():\n",
    "    device = torch.device('cuda')\n",
    "    print(f\"Using GPU: {torch.cuda.get_device_name(0)}\")\n",
    "else:\n",
    "    device = torch.device('cpu')\n",
    "    print(\"CUDA not available. Using CPU.\")"
   ]
  },
  {
   "cell_type": "code",
   "execution_count": 15,
   "id": "8d2af9ba",
   "metadata": {},
   "outputs": [],
   "source": [
    "## Function for training model\n",
    "\n",
    "def train_model(model, train_loader, device, lossFn, accFn, optimizer):\n",
    "    \n",
    "    torch.manual_seed(42) # 42 is the answer to everything!\n",
    "    \n",
    "    train_loss, train_acc = 0, 0\n",
    "\n",
    "    for batch, (X, y) in enumerate(tqdm(train_loader, desc=\"Training Model on Num Batches\")):\n",
    "        model.train()\n",
    "\n",
    "        X, y = X.to(device), y.to(device)\n",
    "\n",
    "        # 1. Forward pass\n",
    "        y_pred = model(X) # Still in logits from (probabilities)\n",
    "\n",
    "        # 2. Calculate loss (per batch)\n",
    "        loss = lossFn(y_pred, y)\n",
    "        train_loss += loss\n",
    "        train_acc += accFn(y_pred.argmax(dim=1), y)\n",
    "\n",
    "        # 3. Optimizer zero grad\n",
    "        optimizer.zero_grad()\n",
    "\n",
    "        # 4. Loss backward\n",
    "        loss.backward()\n",
    "\n",
    "        # 5. Optimizer step\n",
    "        optimizer.step()\n",
    "    \n",
    "    # Divide total train loss and accuracy by length of train dataloader (average loss per batch per epoch)\n",
    "    train_loss /= len(train_loader)\n",
    "    train_acc /= len(train_loader)\n",
    "    train_acc *= 100\n",
    "\n",
    "    return model, optimizer, train_loss, train_acc"
   ]
  },
  {
   "cell_type": "code",
   "execution_count": 16,
   "id": "71eabb04",
   "metadata": {},
   "outputs": [],
   "source": [
    "## Function for testing model\n",
    "\n",
    "def test_model(model, test_loader, device, lossFn, accFn):\n",
    "    \n",
    "    torch.manual_seed(42)\n",
    "\n",
    "    test_loss, test_acc = 0, 0\n",
    "    model.eval()\n",
    "\n",
    "    with torch.inference_mode():\n",
    "        for batch, (X, y) in enumerate(tqdm(test_loader, desc=\"Testing Model\")):\n",
    "            \n",
    "            X, y = X.to(device), y.to(device)\n",
    "\n",
    "            # 1. Forward pass\n",
    "            test_pred = model(X)\n",
    "\n",
    "            # 2. Calculate loss (accumulatively)\n",
    "            test_loss += lossFn(test_pred, y)\n",
    "\n",
    "            # 3. Calculate accuracy (preds need to be same as y)\n",
    "            test_acc += accFn(test_pred.argmax(dim=1), y)\n",
    "        \n",
    "        # Divide total test loss by length of test dataloader (per batch)\n",
    "        test_loss /= len(test_loader)\n",
    "\n",
    "        # Divide total accuracy by length of test dataloader (per batch)\n",
    "        test_acc /= len(test_loader)\n",
    "\n",
    "        # Times 100 to make it into a percentage\n",
    "        test_acc *= 100\n",
    "    \n",
    "    return model, test_loss, test_acc"
   ]
  },
  {
   "cell_type": "code",
   "execution_count": 17,
   "id": "6676e323",
   "metadata": {},
   "outputs": [],
   "source": [
    "## Function for entire training and testing loop with data saving\n",
    "\n",
    "def model_train_test(model, epochs, train_loader, test_loader, device, lossFn, accFn, optimizer):\n",
    "    history = {\"train_loss\": [],\n",
    "               \"train_acc\": [],\n",
    "               \"test_loss\": [],\n",
    "               \"test_acc\": []}\n",
    "    \n",
    "    for epoch in range(0, epochs):\n",
    "\n",
    "        print(f\"\\nEpoch {epoch+1} / {epochs}: ---------------------------\")\n",
    "\n",
    "        ### Training\n",
    "        model, optimizer, train_loss, train_acc = train_model(model, train_loader, device, lossFn, accFn, optimizer)\n",
    "\n",
    "        ### Testing\n",
    "        model, test_loss, test_acc = test_model(model, test_loader, device, lossFn, accFn)\n",
    "        \n",
    "        print(f\"\\nTrain loss: {train_loss:.4f}, Train acc: {train_acc:.2f}%\")\n",
    "        print(f\"Test loss: {test_loss:.4f}, Test acc: {test_acc:.2f}%\\n\")\n",
    "\n",
    "        history[\"train_loss\"].append(train_loss)\n",
    "        history[\"train_acc\"].append(train_acc)\n",
    "        history[\"test_loss\"].append(test_loss)\n",
    "        history[\"test_acc\"].append(test_acc)\n",
    "    \n",
    "    print(\"\\n-------Model has finished training-------\\n\")\n",
    "    \n",
    "    return model, history\n",
    "    "
   ]
  },
  {
   "cell_type": "code",
   "execution_count": 18,
   "id": "d1cfc013",
   "metadata": {},
   "outputs": [],
   "source": [
    "## Function to save model and model weights\n",
    "\n",
    "def save_model_and_modelWeights(model, model_name):\n",
    "    base_path = os.getcwd()\n",
    "    folder_path = os.path.join(base_path, \"model_files\")\n",
    "\n",
    "    if not os.path.isdir(folder_path):\n",
    "        os.mkdir(folder_path)\n",
    "\n",
    "    model_path = os.path.join(folder_path, model_name)\n",
    "\n",
    "    if not os.path.isdir(model_path):\n",
    "        os.mkdir(model_path)\n",
    "\n",
    "    modelStateDictName = model_name + \"_weights.pth\"\n",
    "    modelEntireName = model_name + \".pth\"\n",
    "\n",
    "    modelStateDict_path = os.path.join(model_path, modelStateDictName)\n",
    "    modelEntire_path = os.path.join(model_path, modelEntireName)\n",
    "\n",
    "    # Save model's weight only\n",
    "    if os.path.isfile(modelStateDict_path):\n",
    "        print(f\"\\n{model_name} state dictionary file existed previously. New {model_name}'s state is not saved.\")\n",
    "    else:\n",
    "        torch.save(model.state_dict(), modelStateDict_path)\n",
    "        print(f\"\\n{model_name}'s state file has been successfully saved.\")\n",
    "\n",
    "    # Save entire model including layers and weights\n",
    "    if os.path.isfile(modelEntire_path):\n",
    "        print(f\"\\n{model_name} file existed previously. New {model_name} is not saved.\")\n",
    "    else:\n",
    "        torch.save(model, modelEntire_path)\n",
    "        print(f\"\\n{model_name} has been successfully saved.\")"
   ]
  },
  {
   "cell_type": "code",
   "execution_count": 19,
   "id": "c33fd122",
   "metadata": {},
   "outputs": [],
   "source": [
    "def save_modelSettings(model_settings, model_name):\n",
    "    base_path = os.getcwd()\n",
    "    folder_path = os.path.join(base_path, \"model_files\")\n",
    "\n",
    "    if not os.path.isdir(folder_path):\n",
    "        os.mkdir(folder_path)\n",
    "\n",
    "    model_path = os.path.join(folder_path, model_name)\n",
    "\n",
    "    if not os.path.isdir(model_path):\n",
    "        os.mkdir(model_path)\n",
    "    \n",
    "    json_path = os.path.join(model_path, model_name+\"_settings.json\")\n",
    "\n",
    "    if os.path.isfile(json_path):\n",
    "        print(f\"\\n{model_name}'s settings file existed previously. New {model_name}'s settings file is not saved.\\n\")\n",
    "\n",
    "    else:\n",
    "        with open(json_path, 'w') as file:\n",
    "            json.dump(model_settings, file)\n",
    "        \n",
    "        print(f\"\\n{model_name}'s setting has been saved.\\n\")"
   ]
  },
  {
   "cell_type": "code",
   "execution_count": 20,
   "id": "d685f92d",
   "metadata": {},
   "outputs": [],
   "source": [
    "## Function to show and save model history\n",
    "\n",
    "def show_and_save_trainTest_history(history, model_name):\n",
    "    base_path = os.getcwd()\n",
    "    folder_path = os.path.join(base_path, \"model_files\")\n",
    "\n",
    "    if not os.path.isdir(folder_path):\n",
    "        os.mkdir(folder_path)\n",
    "\n",
    "    model_path = os.path.join(folder_path, model_name)\n",
    "\n",
    "    if not os.path.isdir(model_path):\n",
    "        os.mkdir(model_path)\n",
    "    \n",
    "    json_path = os.path.join(model_path, model_name+\"_history.json\")\n",
    "\n",
    "    # Convert json in tensor to normal data\n",
    "\n",
    "    new_history = {}\n",
    "\n",
    "    for key, dataL in history.items():\n",
    "        new_history[key] = []\n",
    "        for i in range(0, len(dataL)):\n",
    "            new_history[key].append(dataL[i].item())\n",
    "\n",
    "    if os.path.isfile(json_path):\n",
    "        print(f\"\\n{model_name}'s history file existed previously. New {model_name}'s history file is not saved.\\n\")\n",
    "\n",
    "    else:\n",
    "        with open(json_path, 'w') as file:\n",
    "            json.dump(new_history, file)\n",
    "        \n",
    "        print(f\"\\n{model_name}'s training history has been saved.\\n\")\n",
    "\n",
    "    # Checking model's training history\n",
    "\n",
    "    for val_type in history:\n",
    "        print(val_type)\n",
    "        dataList = history[val_type]\n",
    "        for i in range(0, len(history[val_type])):\n",
    "            print(f\"{i+1}. {dataList[i]:.4f}\")\n",
    "        print(\"\")"
   ]
  },
  {
   "cell_type": "code",
   "execution_count": 21,
   "id": "b18d892b",
   "metadata": {},
   "outputs": [],
   "source": [
    "## Class for model hyperparameters and training settings\n",
    "\n",
    "class ModelSet:\n",
    "    def __init__(self, model_name, model_type, epochs, batchSize, learningRate, mb_params, newDropoutRate, optimChoice, linear_hiddenUnits_list):\n",
    "        self.model_name = model_name\n",
    "        self.model_type = model_type\n",
    "        self.num_class = 7\n",
    "        self.epochs = epochs\n",
    "        self.batchSize = batchSize\n",
    "        self.learningRate = learningRate\n",
    "        self.mb_params = mb_params\n",
    "        self.newDropoutRate = newDropoutRate\n",
    "        self.history = None\n",
    "        self.optimChoice = optimChoice\n",
    "        self.linear_hiddenUnits_list = linear_hiddenUnits_list\n",
    "    \n",
    "    def model_setup(self):\n",
    "        self.device = \"cuda\" if torch.cuda.is_available() else \"cpu\"\n",
    "\n",
    "        self.model, self.train_loader, self.test_loader, self.val_loader, self.optimizer = setHyperparameters(model_type=self.model_type,\n",
    "                                                                                                              num_class=self.num_class,\n",
    "                                                                                                              batchSize=self.batchSize,\n",
    "                                                                                                              learningRate=self.learningRate,\n",
    "                                                                                                              device=self.device,\n",
    "                                                                                                              mb_params=self.mb_params,\n",
    "                                                                                                              newDropoutRate=self.newDropoutRate,\n",
    "                                                                                                              optimChoice=self.optimChoice,\n",
    "                                                                                                              linear_hiddenUnits_list=self.linear_hiddenUnits_list)\n",
    "\n",
    "        self.lossFn = nn.CrossEntropyLoss()\n",
    "\n",
    "        self.accFn = Accuracy('multiclass', num_classes=self.num_class).to(self.device)\n",
    "    \n",
    "    ## Function to save model settings as json file\n",
    "\n",
    "    def generate_modelSettings_dict(self):\n",
    "\n",
    "        phi, res, ori_dp_rate = scale_values[self.model_type]\n",
    "\n",
    "        if self.newDropoutRate == None:\n",
    "            self.newDropoutRate = ori_dp_rate\n",
    "\n",
    "        modelSettings = {\"model_name\": self.model_name,\n",
    "                         \"model_type\": self.model_type,\n",
    "                         \"num_class\": 7,\n",
    "                         \"epochs\": self.epochs,\n",
    "                         \"batch_size\": self.batchSize,\n",
    "                         \"learning_rate\": self.learningRate,\n",
    "                         \"MBConv parameters\": self.mb_params,\n",
    "                         \"dropout_rate\": self.newDropoutRate,\n",
    "                         \"optimizer\": self.optimChoice,\n",
    "                         \"linear_layers_hidden_units\": self.linear_hiddenUnits_list,\n",
    "                         \"loss_function\": \"Cross Entropy Loss\"}\n",
    "        \n",
    "        return modelSettings"
   ]
  },
  {
   "cell_type": "code",
   "execution_count": 22,
   "id": "4667051d",
   "metadata": {},
   "outputs": [],
   "source": [
    "## Do not change this, only for reference!!\n",
    "basic_mb_params = [\n",
    "    # Expand ratio, out channels, num layers, stride, kernel_size\n",
    "    # k, c, t, s, k\n",
    "    [1, 16, 1, 1, 3],\n",
    "    [6, 24, 2, 2, 3],\n",
    "    [6, 40, 2, 2, 5],\n",
    "    [6, 80, 3, 2, 3],\n",
    "    [6, 112, 3, 1, 5],\n",
    "    [6, 192, 4, 2, 5],\n",
    "    [6, 320, 1, 1, 3],\n",
    "]\n",
    "\n",
    "## Change any settings you want on this one\n",
    "mb_params = [\n",
    "    # Expand ratio, out channels, num layers, stride, kernel_size\n",
    "    # k, c, t, s, k\n",
    "    [1, 16, 1, 1, 3],\n",
    "    [6, 24, 2, 2, 3],\n",
    "    [6, 40, 2, 2, 5],\n",
    "    [6, 80, 3, 2, 3],\n",
    "    [6, 112, 3, 1, 5],\n",
    "    [6, 192, 4, 2, 5],\n",
    "    [6, 320, 1, 1, 3],\n",
    "]\n",
    "\n",
    "## Do not change anything with it, only for reference!!\n",
    "scale_values = {\n",
    "    # (Phi, resolution, dropout)\n",
    "\n",
    "    \"b0\": (0, 224, 0.2),\n",
    "    \"b1\": (0.5, 240, 0.2),\n",
    "    \"b2\": (1, 260, 0.3),\n",
    "    \"b3\": (2, 300, 0.3),\n",
    "    \"b4\": (3, 380, 0.4),\n",
    "    \"b5\": (4, 456, 0.4),\n",
    "    \"b6\": (5, 528, 0.5),\n",
    "    \"b7\": (6, 600, 0.5),\n",
    "}"
   ]
  },
  {
   "cell_type": "code",
   "execution_count": 23,
   "id": "03f34953",
   "metadata": {},
   "outputs": [],
   "source": [
    "## Function for brute force grid-search hyperparameter tuning\n",
    "\n",
    "\"\"\"\n",
    "hyperparameters_lists --> Must be a dictionary with each hyperparameter as a key and the value must be a list of int/float/list with equal length\n",
    "\n",
    "Currently tunable hyperparameters --> epoch : Not to underfit / overfit\n",
    "                                  --> learningRate : Ensure model converges towards the global minimum\n",
    "                                  --> dropOutRate : Ensure model does not overfit and learn the actual features of the dataset given\n",
    "                                  --> linear_hiddenUnits_list : Ensure the feed-forward neural network can be beneficial in guessing the correct label\n",
    "\n",
    "Currently untunable hyperparameters --> model_type : EfficientNet-b0 architecture is sufficient for this project\n",
    "                                    --> batchSize : 32 is the sweet spot without risking underfit / overfit\n",
    "                                    --> mb_params : We would not change to model architecture due to it being optimal from the research paper \n",
    "                                                    (Would be resource-intensive and time-consuming to tune it anyways)\n",
    "                                    --> optimChoiceL : Adam is the most balanced and stable optimizer which does not suffer major decreases in performance when training model\n",
    "\n",
    "\"\"\"\n",
    "def hyperparameterGridSearch(hyperparameters_lists, num_sets):\n",
    "    \n",
    "    hyperparameter_history = {\"train_loss\": [],\n",
    "                              \"train_acc\" : [],\n",
    "                              \"val_loss\": [],\n",
    "                              \"val_acc\": []}\n",
    "    \n",
    "    for i in range(0, 7):\n",
    "\n",
    "        currentSet = hyperparameters_lists[i]\n",
    "\n",
    "        model_name = \"model_grid\" + str(i+1)\n",
    "\n",
    "        model_grid = ModelSet(model_name=model_name, # Change names if you want to save different versions of models\n",
    "                              model_type=\"b0\", # from b0 --> b7\n",
    "                              epochs=currentSet[0], \n",
    "                              batchSize=32, # Typically in the power of 2\n",
    "                              learningRate=currentSet[1], # Different choices for different optimizers\n",
    "                              mb_params=mb_params, # Can refer to previous block / If None, use basic_mb_params\n",
    "                              newDropoutRate=currentSet[2], # Can refer to previous block / If None, use basic dropout rate\n",
    "                              optimChoice=\"Adam\", # Available choice: Adam, AdamW, Adadelta, SGD\n",
    "                              linear_hiddenUnits_list=currentSet[3]) # Each value refers to an additional hidden Linear layer with x neuron before the final classification\n",
    "        \n",
    "        model_grid.model_setup()\n",
    "        \n",
    "        model_grid_Settings = model_grid.generate_modelSettings_dict()\n",
    "\n",
    "        model_grid.model, model_grid.history = model_train_test(model=model_grid.model,\n",
    "                                                                epochs=model_grid.epochs,\n",
    "                                                                train_loader=model_grid.train_loader,\n",
    "                                                                test_loader=model_grid.val_loader,\n",
    "                                                                device=model_grid.device,\n",
    "                                                                lossFn=model_grid.lossFn,\n",
    "                                                                accFn=model_grid.accFn,\n",
    "                                                                optimizer=model_grid.optimizer)\n",
    "\n",
    "        show_and_save_trainTest_history(model_grid.history, model_grid.model_name)\n",
    "        save_modelSettings(model_grid_Settings, model_grid.model_name)\n",
    "\n",
    "        \n",
    "        hyperparameter_history[\"train_loss\"].append((model_grid.history[\"train_loss\"])[-1])\n",
    "        hyperparameter_history[\"train_acc\"].append((model_grid.history[\"train_acc\"])[-1])\n",
    "\n",
    "        hyperparameter_history[\"val_loss\"].append((model_grid.history[\"test_loss\"])[-1])\n",
    "        hyperparameter_history[\"val_acc\"].append((model_grid.history[\"test_acc\"])[-1])\n",
    "    \n",
    "    return hyperparameter_history"
   ]
  },
  {
   "cell_type": "code",
   "execution_count": 96,
   "id": "5c0bb621",
   "metadata": {},
   "outputs": [
    {
     "name": "stdout",
     "output_type": "stream",
     "text": [
      "\n",
      "Epoch 1 / 15: ---------------------------\n"
     ]
    },
    {
     "name": "stderr",
     "output_type": "stream",
     "text": [
      "Training Model on Num Batches: 100%|██████████| 898/898 [01:46<00:00,  8.46it/s]\n",
      "Testing Model: 100%|██████████| 113/113 [00:08<00:00, 13.10it/s]\n"
     ]
    },
    {
     "name": "stdout",
     "output_type": "stream",
     "text": [
      "\n",
      "Train loss: 1.8852, Train acc: 24.75%\n",
      "Test loss: 1.9088, Test acc: 19.84%\n",
      "\n",
      "\n",
      "Epoch 2 / 15: ---------------------------\n"
     ]
    },
    {
     "name": "stderr",
     "output_type": "stream",
     "text": [
      "Training Model on Num Batches: 100%|██████████| 898/898 [01:45<00:00,  8.54it/s]\n",
      "Testing Model: 100%|██████████| 113/113 [00:07<00:00, 14.62it/s]\n"
     ]
    },
    {
     "name": "stdout",
     "output_type": "stream",
     "text": [
      "\n",
      "Train loss: 1.8712, Train acc: 25.08%\n",
      "Test loss: 1.8794, Test acc: 24.53%\n",
      "\n",
      "\n",
      "Epoch 3 / 15: ---------------------------\n"
     ]
    },
    {
     "name": "stderr",
     "output_type": "stream",
     "text": [
      "Training Model on Num Batches: 100%|██████████| 898/898 [01:45<00:00,  8.52it/s]\n",
      "Testing Model: 100%|██████████| 113/113 [00:07<00:00, 14.33it/s]\n"
     ]
    },
    {
     "name": "stdout",
     "output_type": "stream",
     "text": [
      "\n",
      "Train loss: 1.8693, Train acc: 24.98%\n",
      "Test loss: 1.8765, Test acc: 24.53%\n",
      "\n",
      "\n",
      "Epoch 4 / 15: ---------------------------\n"
     ]
    },
    {
     "name": "stderr",
     "output_type": "stream",
     "text": [
      "Training Model on Num Batches: 100%|██████████| 898/898 [01:45<00:00,  8.52it/s]\n",
      "Testing Model: 100%|██████████| 113/113 [00:08<00:00, 13.56it/s]\n"
     ]
    },
    {
     "name": "stdout",
     "output_type": "stream",
     "text": [
      "\n",
      "Train loss: 1.8641, Train acc: 25.10%\n",
      "Test loss: 1.8619, Test acc: 24.53%\n",
      "\n",
      "\n",
      "Epoch 5 / 15: ---------------------------\n"
     ]
    },
    {
     "name": "stderr",
     "output_type": "stream",
     "text": [
      "Training Model on Num Batches: 100%|██████████| 898/898 [01:45<00:00,  8.53it/s]\n",
      "Testing Model: 100%|██████████| 113/113 [00:08<00:00, 13.60it/s]\n"
     ]
    },
    {
     "name": "stdout",
     "output_type": "stream",
     "text": [
      "\n",
      "Train loss: 1.8573, Train acc: 25.30%\n",
      "Test loss: 1.8662, Test acc: 24.53%\n",
      "\n",
      "\n",
      "Epoch 6 / 15: ---------------------------\n"
     ]
    },
    {
     "name": "stderr",
     "output_type": "stream",
     "text": [
      "Training Model on Num Batches: 100%|██████████| 898/898 [01:45<00:00,  8.52it/s]\n",
      "Testing Model: 100%|██████████| 113/113 [00:08<00:00, 13.27it/s]\n"
     ]
    },
    {
     "name": "stdout",
     "output_type": "stream",
     "text": [
      "\n",
      "Train loss: 1.8521, Train acc: 25.31%\n",
      "Test loss: 1.8434, Test acc: 27.87%\n",
      "\n",
      "\n",
      "Epoch 7 / 15: ---------------------------\n"
     ]
    },
    {
     "name": "stderr",
     "output_type": "stream",
     "text": [
      "Training Model on Num Batches: 100%|██████████| 898/898 [01:45<00:00,  8.53it/s]\n",
      "Testing Model: 100%|██████████| 113/113 [00:08<00:00, 12.93it/s]\n"
     ]
    },
    {
     "name": "stdout",
     "output_type": "stream",
     "text": [
      "\n",
      "Train loss: 1.8130, Train acc: 28.31%\n",
      "Test loss: 1.7811, Test acc: 29.38%\n",
      "\n",
      "\n",
      "Epoch 8 / 15: ---------------------------\n"
     ]
    },
    {
     "name": "stderr",
     "output_type": "stream",
     "text": [
      "Training Model on Num Batches: 100%|██████████| 898/898 [01:45<00:00,  8.53it/s]\n",
      "Testing Model: 100%|██████████| 113/113 [00:09<00:00, 12.55it/s]\n"
     ]
    },
    {
     "name": "stdout",
     "output_type": "stream",
     "text": [
      "\n",
      "Train loss: 1.7640, Train acc: 30.52%\n",
      "Test loss: 1.7334, Test acc: 33.67%\n",
      "\n",
      "\n",
      "Epoch 9 / 15: ---------------------------\n"
     ]
    },
    {
     "name": "stderr",
     "output_type": "stream",
     "text": [
      "Training Model on Num Batches: 100%|██████████| 898/898 [01:45<00:00,  8.52it/s]\n",
      "Testing Model: 100%|██████████| 113/113 [00:09<00:00, 12.18it/s]\n"
     ]
    },
    {
     "name": "stdout",
     "output_type": "stream",
     "text": [
      "\n",
      "Train loss: 1.6920, Train acc: 34.50%\n",
      "Test loss: 1.6594, Test acc: 36.68%\n",
      "\n",
      "\n",
      "Epoch 10 / 15: ---------------------------\n"
     ]
    },
    {
     "name": "stderr",
     "output_type": "stream",
     "text": [
      "Training Model on Num Batches: 100%|██████████| 898/898 [01:45<00:00,  8.53it/s]\n",
      "Testing Model: 100%|██████████| 113/113 [00:09<00:00, 12.00it/s]\n"
     ]
    },
    {
     "name": "stdout",
     "output_type": "stream",
     "text": [
      "\n",
      "Train loss: 1.6300, Train acc: 37.36%\n",
      "Test loss: 1.5841, Test acc: 39.50%\n",
      "\n",
      "\n",
      "Epoch 11 / 15: ---------------------------\n"
     ]
    },
    {
     "name": "stderr",
     "output_type": "stream",
     "text": [
      "Training Model on Num Batches: 100%|██████████| 898/898 [01:45<00:00,  8.51it/s]\n",
      "Testing Model: 100%|██████████| 113/113 [00:09<00:00, 11.69it/s]\n"
     ]
    },
    {
     "name": "stdout",
     "output_type": "stream",
     "text": [
      "\n",
      "Train loss: 1.5679, Train acc: 39.97%\n",
      "Test loss: 1.5499, Test acc: 41.50%\n",
      "\n",
      "\n",
      "Epoch 12 / 15: ---------------------------\n"
     ]
    },
    {
     "name": "stderr",
     "output_type": "stream",
     "text": [
      "Training Model on Num Batches: 100%|██████████| 898/898 [01:45<00:00,  8.52it/s]\n",
      "Testing Model: 100%|██████████| 113/113 [00:09<00:00, 11.50it/s]\n"
     ]
    },
    {
     "name": "stdout",
     "output_type": "stream",
     "text": [
      "\n",
      "Train loss: 1.5177, Train acc: 42.01%\n",
      "Test loss: 1.5245, Test acc: 41.92%\n",
      "\n",
      "\n",
      "Epoch 13 / 15: ---------------------------\n"
     ]
    },
    {
     "name": "stderr",
     "output_type": "stream",
     "text": [
      "Training Model on Num Batches: 100%|██████████| 898/898 [01:45<00:00,  8.52it/s]\n",
      "Testing Model: 100%|██████████| 113/113 [00:10<00:00, 11.05it/s]\n"
     ]
    },
    {
     "name": "stdout",
     "output_type": "stream",
     "text": [
      "\n",
      "Train loss: 1.4790, Train acc: 43.16%\n",
      "Test loss: 1.5000, Test acc: 41.75%\n",
      "\n",
      "\n",
      "Epoch 14 / 15: ---------------------------\n"
     ]
    },
    {
     "name": "stderr",
     "output_type": "stream",
     "text": [
      "Training Model on Num Batches: 100%|██████████| 898/898 [01:45<00:00,  8.52it/s]\n",
      "Testing Model: 100%|██████████| 113/113 [00:10<00:00, 10.65it/s]\n"
     ]
    },
    {
     "name": "stdout",
     "output_type": "stream",
     "text": [
      "\n",
      "Train loss: 1.4482, Train acc: 44.63%\n",
      "Test loss: 1.5058, Test acc: 41.64%\n",
      "\n",
      "\n",
      "Epoch 15 / 15: ---------------------------\n"
     ]
    },
    {
     "name": "stderr",
     "output_type": "stream",
     "text": [
      "Training Model on Num Batches: 100%|██████████| 898/898 [01:45<00:00,  8.51it/s]\n",
      "Testing Model: 100%|██████████| 113/113 [00:11<00:00, 10.19it/s]\n"
     ]
    },
    {
     "name": "stdout",
     "output_type": "stream",
     "text": [
      "\n",
      "Train loss: 1.4234, Train acc: 45.31%\n",
      "Test loss: 1.4786, Test acc: 43.74%\n",
      "\n",
      "\n",
      "-------Model has finished training-------\n",
      "\n",
      "\n",
      "model_grid1's training history has been saved.\n",
      "\n",
      "train_loss\n",
      "1. 1.8852\n",
      "2. 1.8712\n",
      "3. 1.8693\n",
      "4. 1.8641\n",
      "5. 1.8573\n",
      "6. 1.8521\n",
      "7. 1.8130\n",
      "8. 1.7640\n",
      "9. 1.6920\n",
      "10. 1.6300\n",
      "11. 1.5679\n",
      "12. 1.5177\n",
      "13. 1.4790\n",
      "14. 1.4482\n",
      "15. 1.4234\n",
      "\n",
      "train_acc\n",
      "1. 24.7508\n",
      "2. 25.0849\n",
      "3. 24.9840\n",
      "4. 25.0954\n",
      "5. 25.3041\n",
      "6. 25.3146\n",
      "7. 28.3074\n",
      "8. 30.5185\n",
      "9. 34.4996\n",
      "10. 37.3650\n",
      "11. 39.9680\n",
      "12. 42.0128\n",
      "13. 43.1612\n",
      "14. 44.6346\n",
      "15. 45.3132\n",
      "\n",
      "test_loss\n",
      "1. 1.9088\n",
      "2. 1.8794\n",
      "3. 1.8765\n",
      "4. 1.8619\n",
      "5. 1.8662\n",
      "6. 1.8434\n",
      "7. 1.7811\n",
      "8. 1.7334\n",
      "9. 1.6594\n",
      "10. 1.5841\n",
      "11. 1.5499\n",
      "12. 1.5245\n",
      "13. 1.5000\n",
      "14. 1.5058\n",
      "15. 1.4786\n",
      "\n",
      "test_acc\n",
      "1. 19.8396\n",
      "2. 24.5299\n",
      "3. 24.5299\n",
      "4. 24.5299\n",
      "5. 24.5299\n",
      "6. 27.8706\n",
      "7. 29.3805\n",
      "8. 33.6670\n",
      "9. 36.6759\n",
      "10. 39.4967\n",
      "11. 41.5044\n",
      "12. 41.9193\n",
      "13. 41.7533\n",
      "14. 41.6427\n",
      "15. 43.7445\n",
      "\n",
      "\n",
      "model_grid1's setting has been saved.\n",
      "\n",
      "\n",
      "Epoch 1 / 12: ---------------------------\n"
     ]
    },
    {
     "name": "stderr",
     "output_type": "stream",
     "text": [
      "Training Model on Num Batches: 100%|██████████| 898/898 [01:45<00:00,  8.51it/s]\n",
      "Testing Model: 100%|██████████| 113/113 [00:08<00:00, 14.00it/s]\n"
     ]
    },
    {
     "name": "stdout",
     "output_type": "stream",
     "text": [
      "\n",
      "Train loss: 1.9103, Train acc: 24.34%\n",
      "Test loss: 1.9134, Test acc: 24.53%\n",
      "\n",
      "\n",
      "Epoch 2 / 12: ---------------------------\n"
     ]
    },
    {
     "name": "stderr",
     "output_type": "stream",
     "text": [
      "Training Model on Num Batches: 100%|██████████| 898/898 [01:45<00:00,  8.53it/s]\n",
      "Testing Model: 100%|██████████| 113/113 [00:08<00:00, 12.68it/s]\n"
     ]
    },
    {
     "name": "stdout",
     "output_type": "stream",
     "text": [
      "\n",
      "Train loss: 1.8984, Train acc: 25.13%\n",
      "Test loss: 1.8989, Test acc: 24.53%\n",
      "\n",
      "\n",
      "Epoch 3 / 12: ---------------------------\n"
     ]
    },
    {
     "name": "stderr",
     "output_type": "stream",
     "text": [
      "Training Model on Num Batches: 100%|██████████| 898/898 [01:45<00:00,  8.53it/s]\n",
      "Testing Model: 100%|██████████| 113/113 [00:09<00:00, 12.49it/s]\n"
     ]
    },
    {
     "name": "stdout",
     "output_type": "stream",
     "text": [
      "\n",
      "Train loss: 1.8966, Train acc: 25.04%\n",
      "Test loss: 1.9002, Test acc: 24.53%\n",
      "\n",
      "\n",
      "Epoch 4 / 12: ---------------------------\n"
     ]
    },
    {
     "name": "stderr",
     "output_type": "stream",
     "text": [
      "Training Model on Num Batches: 100%|██████████| 898/898 [01:45<00:00,  8.52it/s]\n",
      "Testing Model: 100%|██████████| 113/113 [00:09<00:00, 12.26it/s]\n"
     ]
    },
    {
     "name": "stdout",
     "output_type": "stream",
     "text": [
      "\n",
      "Train loss: 1.8934, Train acc: 25.03%\n",
      "Test loss: 1.8983, Test acc: 24.53%\n",
      "\n",
      "\n",
      "Epoch 5 / 12: ---------------------------\n"
     ]
    },
    {
     "name": "stderr",
     "output_type": "stream",
     "text": [
      "Training Model on Num Batches: 100%|██████████| 898/898 [01:45<00:00,  8.53it/s]\n",
      "Testing Model: 100%|██████████| 113/113 [00:09<00:00, 11.88it/s]\n"
     ]
    },
    {
     "name": "stdout",
     "output_type": "stream",
     "text": [
      "\n",
      "Train loss: 1.9063, Train acc: 21.63%\n",
      "Test loss: 1.9459, Test acc: 13.55%\n",
      "\n",
      "\n",
      "Epoch 6 / 12: ---------------------------\n"
     ]
    },
    {
     "name": "stderr",
     "output_type": "stream",
     "text": [
      "Training Model on Num Batches: 100%|██████████| 898/898 [01:45<00:00,  8.52it/s]\n",
      "Testing Model: 100%|██████████| 113/113 [00:09<00:00, 11.62it/s]\n"
     ]
    },
    {
     "name": "stdout",
     "output_type": "stream",
     "text": [
      "\n",
      "Train loss: 1.9425, Train acc: 14.70%\n",
      "Test loss: 1.9457, Test acc: 13.88%\n",
      "\n",
      "\n",
      "Epoch 7 / 12: ---------------------------\n"
     ]
    },
    {
     "name": "stderr",
     "output_type": "stream",
     "text": [
      "Training Model on Num Batches: 100%|██████████| 898/898 [01:45<00:00,  8.52it/s]\n",
      "Testing Model: 100%|██████████| 113/113 [00:09<00:00, 11.34it/s]\n"
     ]
    },
    {
     "name": "stdout",
     "output_type": "stream",
     "text": [
      "\n",
      "Train loss: 1.9111, Train acc: 20.96%\n",
      "Test loss: 1.9049, Test acc: 24.03%\n",
      "\n",
      "\n",
      "Epoch 8 / 12: ---------------------------\n"
     ]
    },
    {
     "name": "stderr",
     "output_type": "stream",
     "text": [
      "Training Model on Num Batches: 100%|██████████| 898/898 [01:45<00:00,  8.51it/s]\n",
      "Testing Model: 100%|██████████| 113/113 [00:10<00:00, 11.05it/s]\n"
     ]
    },
    {
     "name": "stdout",
     "output_type": "stream",
     "text": [
      "\n",
      "Train loss: 1.8878, Train acc: 24.77%\n",
      "Test loss: 1.9011, Test acc: 24.56%\n",
      "\n",
      "\n",
      "Epoch 9 / 12: ---------------------------\n"
     ]
    },
    {
     "name": "stderr",
     "output_type": "stream",
     "text": [
      "Training Model on Num Batches: 100%|██████████| 898/898 [01:45<00:00,  8.50it/s]\n",
      "Testing Model: 100%|██████████| 113/113 [00:10<00:00, 10.72it/s]\n"
     ]
    },
    {
     "name": "stdout",
     "output_type": "stream",
     "text": [
      "\n",
      "Train loss: 1.8821, Train acc: 25.06%\n",
      "Test loss: 1.9006, Test acc: 24.53%\n",
      "\n",
      "\n",
      "Epoch 10 / 12: ---------------------------\n"
     ]
    },
    {
     "name": "stderr",
     "output_type": "stream",
     "text": [
      "Training Model on Num Batches: 100%|██████████| 898/898 [01:45<00:00,  8.52it/s]\n",
      "Testing Model: 100%|██████████| 113/113 [00:11<00:00, 10.24it/s]\n"
     ]
    },
    {
     "name": "stdout",
     "output_type": "stream",
     "text": [
      "\n",
      "Train loss: 1.8792, Train acc: 24.94%\n",
      "Test loss: 1.8831, Test acc: 24.53%\n",
      "\n",
      "\n",
      "Epoch 11 / 12: ---------------------------\n"
     ]
    },
    {
     "name": "stderr",
     "output_type": "stream",
     "text": [
      "Training Model on Num Batches: 100%|██████████| 898/898 [01:45<00:00,  8.49it/s]\n",
      "Testing Model: 100%|██████████| 113/113 [00:11<00:00,  9.87it/s]\n"
     ]
    },
    {
     "name": "stdout",
     "output_type": "stream",
     "text": [
      "\n",
      "Train loss: 1.8454, Train acc: 25.52%\n",
      "Test loss: 1.8608, Test acc: 24.53%\n",
      "\n",
      "\n",
      "Epoch 12 / 12: ---------------------------\n"
     ]
    },
    {
     "name": "stderr",
     "output_type": "stream",
     "text": [
      "Training Model on Num Batches: 100%|██████████| 898/898 [01:46<00:00,  8.47it/s]\n",
      "Testing Model: 100%|██████████| 113/113 [00:11<00:00,  9.66it/s]\n"
     ]
    },
    {
     "name": "stdout",
     "output_type": "stream",
     "text": [
      "\n",
      "Train loss: 1.8339, Train acc: 25.79%\n",
      "Test loss: 1.8596, Test acc: 24.53%\n",
      "\n",
      "\n",
      "-------Model has finished training-------\n",
      "\n",
      "\n",
      "model_grid2's training history has been saved.\n",
      "\n",
      "train_loss\n",
      "1. 1.9103\n",
      "2. 1.8984\n",
      "3. 1.8966\n",
      "4. 1.8934\n",
      "5. 1.9063\n",
      "6. 1.9425\n",
      "7. 1.9111\n",
      "8. 1.8878\n",
      "9. 1.8821\n",
      "10. 1.8792\n",
      "11. 1.8454\n",
      "12. 1.8339\n",
      "\n",
      "train_acc\n",
      "1. 24.3437\n",
      "2. 25.1267\n",
      "3. 25.0362\n",
      "4. 25.0292\n",
      "5. 21.6342\n",
      "6. 14.7042\n",
      "7. 20.9626\n",
      "8. 24.7682\n",
      "9. 25.0640\n",
      "10. 24.9422\n",
      "11. 25.5234\n",
      "12. 25.7913\n",
      "\n",
      "test_loss\n",
      "1. 1.9134\n",
      "2. 1.8989\n",
      "3. 1.9002\n",
      "4. 1.8983\n",
      "5. 1.9459\n",
      "6. 1.9457\n",
      "7. 1.9049\n",
      "8. 1.9011\n",
      "9. 1.9006\n",
      "10. 1.8831\n",
      "11. 1.8608\n",
      "12. 1.8596\n",
      "\n",
      "test_acc\n",
      "1. 24.5299\n",
      "2. 24.5299\n",
      "3. 24.5299\n",
      "4. 24.5299\n",
      "5. 13.5454\n",
      "6. 13.8772\n",
      "7. 24.0321\n",
      "8. 24.5575\n",
      "9. 24.5299\n",
      "10. 24.5299\n",
      "11. 24.5299\n",
      "12. 24.5299\n",
      "\n",
      "\n",
      "model_grid2's setting has been saved.\n",
      "\n",
      "\n",
      "Epoch 1 / 13: ---------------------------\n"
     ]
    },
    {
     "name": "stderr",
     "output_type": "stream",
     "text": [
      "Training Model on Num Batches: 100%|██████████| 898/898 [01:45<00:00,  8.53it/s]\n",
      "Testing Model: 100%|██████████| 113/113 [00:08<00:00, 13.43it/s]\n"
     ]
    },
    {
     "name": "stdout",
     "output_type": "stream",
     "text": [
      "\n",
      "Train loss: 1.9463, Train acc: 14.06%\n",
      "Test loss: 1.9459, Test acc: 13.55%\n",
      "\n",
      "\n",
      "Epoch 2 / 13: ---------------------------\n"
     ]
    },
    {
     "name": "stderr",
     "output_type": "stream",
     "text": [
      "Training Model on Num Batches: 100%|██████████| 898/898 [01:45<00:00,  8.52it/s]\n",
      "Testing Model: 100%|██████████| 113/113 [00:08<00:00, 13.18it/s]\n"
     ]
    },
    {
     "name": "stdout",
     "output_type": "stream",
     "text": [
      "\n",
      "Train loss: 1.9459, Train acc: 13.94%\n",
      "Test loss: 1.9459, Test acc: 13.55%\n",
      "\n",
      "\n",
      "Epoch 3 / 13: ---------------------------\n"
     ]
    },
    {
     "name": "stderr",
     "output_type": "stream",
     "text": [
      "Training Model on Num Batches: 100%|██████████| 898/898 [01:45<00:00,  8.52it/s]\n",
      "Testing Model: 100%|██████████| 113/113 [00:09<00:00, 12.34it/s]\n"
     ]
    },
    {
     "name": "stdout",
     "output_type": "stream",
     "text": [
      "\n",
      "Train loss: 1.9459, Train acc: 13.94%\n",
      "Test loss: 1.9459, Test acc: 13.55%\n",
      "\n",
      "\n",
      "Epoch 4 / 13: ---------------------------\n"
     ]
    },
    {
     "name": "stderr",
     "output_type": "stream",
     "text": [
      "Training Model on Num Batches: 100%|██████████| 898/898 [01:45<00:00,  8.51it/s]\n",
      "Testing Model: 100%|██████████| 113/113 [00:09<00:00, 12.29it/s]\n"
     ]
    },
    {
     "name": "stdout",
     "output_type": "stream",
     "text": [
      "\n",
      "Train loss: 1.9459, Train acc: 13.94%\n",
      "Test loss: 1.9459, Test acc: 13.55%\n",
      "\n",
      "\n",
      "Epoch 5 / 13: ---------------------------\n"
     ]
    },
    {
     "name": "stderr",
     "output_type": "stream",
     "text": [
      "Training Model on Num Batches: 100%|██████████| 898/898 [01:45<00:00,  8.52it/s]\n",
      "Testing Model: 100%|██████████| 113/113 [00:09<00:00, 11.93it/s]\n"
     ]
    },
    {
     "name": "stdout",
     "output_type": "stream",
     "text": [
      "\n",
      "Train loss: 1.9459, Train acc: 13.94%\n",
      "Test loss: 1.9459, Test acc: 13.55%\n",
      "\n",
      "\n",
      "Epoch 6 / 13: ---------------------------\n"
     ]
    },
    {
     "name": "stderr",
     "output_type": "stream",
     "text": [
      "Training Model on Num Batches: 100%|██████████| 898/898 [01:45<00:00,  8.52it/s]\n",
      "Testing Model: 100%|██████████| 113/113 [00:09<00:00, 11.43it/s]\n"
     ]
    },
    {
     "name": "stdout",
     "output_type": "stream",
     "text": [
      "\n",
      "Train loss: 1.9459, Train acc: 13.94%\n",
      "Test loss: 1.9459, Test acc: 13.55%\n",
      "\n",
      "\n",
      "Epoch 7 / 13: ---------------------------\n"
     ]
    },
    {
     "name": "stderr",
     "output_type": "stream",
     "text": [
      "Training Model on Num Batches: 100%|██████████| 898/898 [01:45<00:00,  8.52it/s]\n",
      "Testing Model: 100%|██████████| 113/113 [00:09<00:00, 11.42it/s]\n"
     ]
    },
    {
     "name": "stdout",
     "output_type": "stream",
     "text": [
      "\n",
      "Train loss: 1.9459, Train acc: 13.94%\n",
      "Test loss: 1.9459, Test acc: 13.55%\n",
      "\n",
      "\n",
      "Epoch 8 / 13: ---------------------------\n"
     ]
    },
    {
     "name": "stderr",
     "output_type": "stream",
     "text": [
      "Training Model on Num Batches: 100%|██████████| 898/898 [01:45<00:00,  8.52it/s]\n",
      "Testing Model: 100%|██████████| 113/113 [00:10<00:00, 11.26it/s]\n"
     ]
    },
    {
     "name": "stdout",
     "output_type": "stream",
     "text": [
      "\n",
      "Train loss: 1.9459, Train acc: 13.94%\n",
      "Test loss: 1.9459, Test acc: 13.55%\n",
      "\n",
      "\n",
      "Epoch 9 / 13: ---------------------------\n"
     ]
    },
    {
     "name": "stderr",
     "output_type": "stream",
     "text": [
      "Training Model on Num Batches: 100%|██████████| 898/898 [01:45<00:00,  8.50it/s]\n",
      "Testing Model: 100%|██████████| 113/113 [00:10<00:00, 10.45it/s]\n"
     ]
    },
    {
     "name": "stdout",
     "output_type": "stream",
     "text": [
      "\n",
      "Train loss: 1.9459, Train acc: 13.94%\n",
      "Test loss: 1.9459, Test acc: 13.55%\n",
      "\n",
      "\n",
      "Epoch 10 / 13: ---------------------------\n"
     ]
    },
    {
     "name": "stderr",
     "output_type": "stream",
     "text": [
      "Training Model on Num Batches: 100%|██████████| 898/898 [01:45<00:00,  8.51it/s]\n",
      "Testing Model: 100%|██████████| 113/113 [00:11<00:00, 10.15it/s]\n"
     ]
    },
    {
     "name": "stdout",
     "output_type": "stream",
     "text": [
      "\n",
      "Train loss: 1.9459, Train acc: 13.94%\n",
      "Test loss: 1.9459, Test acc: 13.55%\n",
      "\n",
      "\n",
      "Epoch 11 / 13: ---------------------------\n"
     ]
    },
    {
     "name": "stderr",
     "output_type": "stream",
     "text": [
      "Training Model on Num Batches: 100%|██████████| 898/898 [01:45<00:00,  8.49it/s]\n",
      "Testing Model: 100%|██████████| 113/113 [00:11<00:00,  9.84it/s]\n"
     ]
    },
    {
     "name": "stdout",
     "output_type": "stream",
     "text": [
      "\n",
      "Train loss: 1.9459, Train acc: 13.94%\n",
      "Test loss: 1.9459, Test acc: 13.55%\n",
      "\n",
      "\n",
      "Epoch 12 / 13: ---------------------------\n"
     ]
    },
    {
     "name": "stderr",
     "output_type": "stream",
     "text": [
      "Training Model on Num Batches: 100%|██████████| 898/898 [01:46<00:00,  8.43it/s]\n",
      "Testing Model: 100%|██████████| 113/113 [00:11<00:00,  9.52it/s]\n"
     ]
    },
    {
     "name": "stdout",
     "output_type": "stream",
     "text": [
      "\n",
      "Train loss: 1.9459, Train acc: 13.94%\n",
      "Test loss: 1.9459, Test acc: 13.55%\n",
      "\n",
      "\n",
      "Epoch 13 / 13: ---------------------------\n"
     ]
    },
    {
     "name": "stderr",
     "output_type": "stream",
     "text": [
      "Training Model on Num Batches: 100%|██████████| 898/898 [01:47<00:00,  8.36it/s]\n",
      "Testing Model: 100%|██████████| 113/113 [00:12<00:00,  9.28it/s]\n"
     ]
    },
    {
     "name": "stdout",
     "output_type": "stream",
     "text": [
      "\n",
      "Train loss: 1.9459, Train acc: 13.94%\n",
      "Test loss: 1.9459, Test acc: 13.55%\n",
      "\n",
      "\n",
      "-------Model has finished training-------\n",
      "\n",
      "\n",
      "model_grid3's training history has been saved.\n",
      "\n",
      "train_loss\n",
      "1. 1.9463\n",
      "2. 1.9459\n",
      "3. 1.9459\n",
      "4. 1.9459\n",
      "5. 1.9459\n",
      "6. 1.9459\n",
      "7. 1.9459\n",
      "8. 1.9459\n",
      "9. 1.9459\n",
      "10. 1.9459\n",
      "11. 1.9459\n",
      "12. 1.9459\n",
      "13. 1.9459\n",
      "\n",
      "train_acc\n",
      "1. 14.0618\n",
      "2. 13.9400\n",
      "3. 13.9400\n",
      "4. 13.9400\n",
      "5. 13.9400\n",
      "6. 13.9400\n",
      "7. 13.9400\n",
      "8. 13.9400\n",
      "9. 13.9400\n",
      "10. 13.9400\n",
      "11. 13.9400\n",
      "12. 13.9400\n",
      "13. 13.9400\n",
      "\n",
      "test_loss\n",
      "1. 1.9459\n",
      "2. 1.9459\n",
      "3. 1.9459\n",
      "4. 1.9459\n",
      "5. 1.9459\n",
      "6. 1.9459\n",
      "7. 1.9459\n",
      "8. 1.9459\n",
      "9. 1.9459\n",
      "10. 1.9459\n",
      "11. 1.9459\n",
      "12. 1.9459\n",
      "13. 1.9459\n",
      "\n",
      "test_acc\n",
      "1. 13.5454\n",
      "2. 13.5454\n",
      "3. 13.5454\n",
      "4. 13.5454\n",
      "5. 13.5454\n",
      "6. 13.5454\n",
      "7. 13.5454\n",
      "8. 13.5454\n",
      "9. 13.5454\n",
      "10. 13.5454\n",
      "11. 13.5454\n",
      "12. 13.5454\n",
      "13. 13.5454\n",
      "\n",
      "\n",
      "model_grid3's setting has been saved.\n",
      "\n",
      "\n",
      "Epoch 1 / 15: ---------------------------\n"
     ]
    },
    {
     "name": "stderr",
     "output_type": "stream",
     "text": [
      "Training Model on Num Batches: 100%|██████████| 898/898 [01:45<00:00,  8.55it/s]\n",
      "Testing Model: 100%|██████████| 113/113 [00:08<00:00, 12.64it/s]\n"
     ]
    },
    {
     "name": "stdout",
     "output_type": "stream",
     "text": [
      "\n",
      "Train loss: 1.8852, Train acc: 23.80%\n",
      "Test loss: 1.8819, Test acc: 24.25%\n",
      "\n",
      "\n",
      "Epoch 2 / 15: ---------------------------\n"
     ]
    },
    {
     "name": "stderr",
     "output_type": "stream",
     "text": [
      "Training Model on Num Batches: 100%|██████████| 898/898 [01:44<00:00,  8.57it/s]\n",
      "Testing Model: 100%|██████████| 113/113 [00:08<00:00, 12.65it/s]\n"
     ]
    },
    {
     "name": "stdout",
     "output_type": "stream",
     "text": [
      "\n",
      "Train loss: 1.8811, Train acc: 24.30%\n",
      "Test loss: 1.8932, Test acc: 23.20%\n",
      "\n",
      "\n",
      "Epoch 3 / 15: ---------------------------\n"
     ]
    },
    {
     "name": "stderr",
     "output_type": "stream",
     "text": [
      "Training Model on Num Batches: 100%|██████████| 898/898 [01:44<00:00,  8.57it/s]\n",
      "Testing Model: 100%|██████████| 113/113 [00:09<00:00, 11.50it/s]\n"
     ]
    },
    {
     "name": "stdout",
     "output_type": "stream",
     "text": [
      "\n",
      "Train loss: 1.8730, Train acc: 24.77%\n",
      "Test loss: 1.8778, Test acc: 23.79%\n",
      "\n",
      "\n",
      "Epoch 4 / 15: ---------------------------\n"
     ]
    },
    {
     "name": "stderr",
     "output_type": "stream",
     "text": [
      "Training Model on Num Batches: 100%|██████████| 898/898 [01:44<00:00,  8.55it/s]\n",
      "Testing Model: 100%|██████████| 113/113 [00:10<00:00, 10.95it/s]\n"
     ]
    },
    {
     "name": "stdout",
     "output_type": "stream",
     "text": [
      "\n",
      "Train loss: 1.8709, Train acc: 23.78%\n",
      "Test loss: 1.8774, Test acc: 24.36%\n",
      "\n",
      "\n",
      "Epoch 5 / 15: ---------------------------\n"
     ]
    },
    {
     "name": "stderr",
     "output_type": "stream",
     "text": [
      "Training Model on Num Batches: 100%|██████████| 898/898 [01:45<00:00,  8.55it/s]\n",
      "Testing Model: 100%|██████████| 113/113 [00:10<00:00, 10.72it/s]\n"
     ]
    },
    {
     "name": "stdout",
     "output_type": "stream",
     "text": [
      "\n",
      "Train loss: 1.8786, Train acc: 24.07%\n",
      "Test loss: 1.8773, Test acc: 23.56%\n",
      "\n",
      "\n",
      "Epoch 6 / 15: ---------------------------\n"
     ]
    },
    {
     "name": "stderr",
     "output_type": "stream",
     "text": [
      "Training Model on Num Batches: 100%|██████████| 898/898 [01:45<00:00,  8.54it/s]\n",
      "Testing Model: 100%|██████████| 113/113 [00:11<00:00,  9.96it/s]\n"
     ]
    },
    {
     "name": "stdout",
     "output_type": "stream",
     "text": [
      "\n",
      "Train loss: 1.8753, Train acc: 23.79%\n",
      "Test loss: 1.8904, Test acc: 23.64%\n",
      "\n",
      "\n",
      "Epoch 7 / 15: ---------------------------\n"
     ]
    },
    {
     "name": "stderr",
     "output_type": "stream",
     "text": [
      "Training Model on Num Batches: 100%|██████████| 898/898 [01:45<00:00,  8.52it/s]\n",
      "Testing Model: 100%|██████████| 113/113 [00:11<00:00,  9.54it/s]\n"
     ]
    },
    {
     "name": "stdout",
     "output_type": "stream",
     "text": [
      "\n",
      "Train loss: 1.8763, Train acc: 23.78%\n",
      "Test loss: 1.8731, Test acc: 24.53%\n",
      "\n",
      "\n",
      "Epoch 8 / 15: ---------------------------\n"
     ]
    },
    {
     "name": "stderr",
     "output_type": "stream",
     "text": [
      "Training Model on Num Batches: 100%|██████████| 898/898 [01:46<00:00,  8.45it/s]\n",
      "Testing Model: 100%|██████████| 113/113 [00:11<00:00,  9.67it/s]\n"
     ]
    },
    {
     "name": "stdout",
     "output_type": "stream",
     "text": [
      "\n",
      "Train loss: 1.8706, Train acc: 23.92%\n",
      "Test loss: 1.8869, Test acc: 23.26%\n",
      "\n",
      "\n",
      "Epoch 9 / 15: ---------------------------\n"
     ]
    },
    {
     "name": "stderr",
     "output_type": "stream",
     "text": [
      "Training Model on Num Batches: 100%|██████████| 898/898 [01:48<00:00,  8.29it/s]\n",
      "Testing Model: 100%|██████████| 113/113 [00:12<00:00,  9.10it/s]\n"
     ]
    },
    {
     "name": "stdout",
     "output_type": "stream",
     "text": [
      "\n",
      "Train loss: 1.8696, Train acc: 24.77%\n",
      "Test loss: 1.8800, Test acc: 24.34%\n",
      "\n",
      "\n",
      "Epoch 10 / 15: ---------------------------\n"
     ]
    },
    {
     "name": "stderr",
     "output_type": "stream",
     "text": [
      "Training Model on Num Batches: 100%|██████████| 898/898 [01:48<00:00,  8.25it/s]\n",
      "Testing Model: 100%|██████████| 113/113 [00:12<00:00,  9.15it/s]\n"
     ]
    },
    {
     "name": "stdout",
     "output_type": "stream",
     "text": [
      "\n",
      "Train loss: 1.8743, Train acc: 24.11%\n",
      "Test loss: 1.8829, Test acc: 23.79%\n",
      "\n",
      "\n",
      "Epoch 11 / 15: ---------------------------\n"
     ]
    },
    {
     "name": "stderr",
     "output_type": "stream",
     "text": [
      "Training Model on Num Batches: 100%|██████████| 898/898 [01:51<00:00,  8.08it/s]\n",
      "Testing Model: 100%|██████████| 113/113 [00:12<00:00,  8.82it/s]\n"
     ]
    },
    {
     "name": "stdout",
     "output_type": "stream",
     "text": [
      "\n",
      "Train loss: 1.8850, Train acc: 22.07%\n",
      "Test loss: 1.9078, Test acc: 21.08%\n",
      "\n",
      "\n",
      "Epoch 12 / 15: ---------------------------\n"
     ]
    },
    {
     "name": "stderr",
     "output_type": "stream",
     "text": [
      "Training Model on Num Batches: 100%|██████████| 898/898 [01:53<00:00,  7.93it/s]\n",
      "Testing Model: 100%|██████████| 113/113 [00:13<00:00,  8.55it/s]\n"
     ]
    },
    {
     "name": "stdout",
     "output_type": "stream",
     "text": [
      "\n",
      "Train loss: 1.8912, Train acc: 21.51%\n",
      "Test loss: 1.8881, Test acc: 22.36%\n",
      "\n",
      "\n",
      "Epoch 13 / 15: ---------------------------\n"
     ]
    },
    {
     "name": "stderr",
     "output_type": "stream",
     "text": [
      "Training Model on Num Batches: 100%|██████████| 898/898 [02:00<00:00,  7.47it/s]\n",
      "Testing Model: 100%|██████████| 113/113 [00:15<00:00,  7.31it/s]\n"
     ]
    },
    {
     "name": "stdout",
     "output_type": "stream",
     "text": [
      "\n",
      "Train loss: 1.8764, Train acc: 23.28%\n",
      "Test loss: 1.9423, Test acc: 13.87%\n",
      "\n",
      "\n",
      "Epoch 14 / 15: ---------------------------\n"
     ]
    },
    {
     "name": "stderr",
     "output_type": "stream",
     "text": [
      "Training Model on Num Batches: 100%|██████████| 898/898 [02:03<00:00,  7.29it/s]\n",
      "Testing Model: 100%|██████████| 113/113 [00:14<00:00,  7.82it/s]\n"
     ]
    },
    {
     "name": "stdout",
     "output_type": "stream",
     "text": [
      "\n",
      "Train loss: 1.8755, Train acc: 23.26%\n",
      "Test loss: 1.8868, Test acc: 22.99%\n",
      "\n",
      "\n",
      "Epoch 15 / 15: ---------------------------\n"
     ]
    },
    {
     "name": "stderr",
     "output_type": "stream",
     "text": [
      "Training Model on Num Batches: 100%|██████████| 898/898 [02:04<00:00,  7.20it/s]\n",
      "Testing Model: 100%|██████████| 113/113 [00:14<00:00,  7.82it/s]\n"
     ]
    },
    {
     "name": "stdout",
     "output_type": "stream",
     "text": [
      "\n",
      "Train loss: 1.8666, Train acc: 24.27%\n",
      "Test loss: 1.8847, Test acc: 23.88%\n",
      "\n",
      "\n",
      "-------Model has finished training-------\n",
      "\n",
      "\n",
      "model_grid4's training history has been saved.\n",
      "\n",
      "train_loss\n",
      "1. 1.8852\n",
      "2. 1.8811\n",
      "3. 1.8730\n",
      "4. 1.8709\n",
      "5. 1.8786\n",
      "6. 1.8753\n",
      "7. 1.8763\n",
      "8. 1.8706\n",
      "9. 1.8696\n",
      "10. 1.8743\n",
      "11. 1.8850\n",
      "12. 1.8912\n",
      "13. 1.8764\n",
      "14. 1.8755\n",
      "15. 1.8666\n",
      "\n",
      "train_acc\n",
      "1. 23.8043\n",
      "2. 24.3019\n",
      "3. 24.7703\n",
      "4. 23.7813\n",
      "5. 24.0736\n",
      "6. 23.7883\n",
      "7. 23.7834\n",
      "8. 23.9156\n",
      "9. 24.7745\n",
      "10. 24.1084\n",
      "11. 22.0671\n",
      "12. 21.5145\n",
      "13. 23.2767\n",
      "14. 23.2614\n",
      "15. 24.2671\n",
      "\n",
      "test_loss\n",
      "1. 1.8819\n",
      "2. 1.8932\n",
      "3. 1.8778\n",
      "4. 1.8774\n",
      "5. 1.8773\n",
      "6. 1.8904\n",
      "7. 1.8731\n",
      "8. 1.8869\n",
      "9. 1.8800\n",
      "10. 1.8829\n",
      "11. 1.9078\n",
      "12. 1.8881\n",
      "13. 1.9423\n",
      "14. 1.8868\n",
      "15. 1.8847\n",
      "\n",
      "test_acc\n",
      "1. 24.2533\n",
      "2. 23.2024\n",
      "3. 23.7942\n",
      "4. 24.3639\n",
      "5. 23.5619\n",
      "6. 23.6449\n",
      "7. 24.5299\n",
      "8. 23.2577\n",
      "9. 24.3363\n",
      "10. 23.7942\n",
      "11. 21.0841\n",
      "12. 22.3562\n",
      "13. 13.8661\n",
      "14. 22.9923\n",
      "15. 23.8772\n",
      "\n",
      "\n",
      "model_grid4's setting has been saved.\n",
      "\n",
      "\n",
      "Epoch 1 / 16: ---------------------------\n"
     ]
    },
    {
     "name": "stderr",
     "output_type": "stream",
     "text": [
      "Training Model on Num Batches: 100%|██████████| 898/898 [01:45<00:00,  8.52it/s]\n",
      "Testing Model: 100%|██████████| 113/113 [00:09<00:00, 12.30it/s]\n"
     ]
    },
    {
     "name": "stdout",
     "output_type": "stream",
     "text": [
      "\n",
      "Train loss: 1.8849, Train acc: 24.25%\n",
      "Test loss: 1.8798, Test acc: 24.53%\n",
      "\n",
      "\n",
      "Epoch 2 / 16: ---------------------------\n"
     ]
    },
    {
     "name": "stderr",
     "output_type": "stream",
     "text": [
      "Training Model on Num Batches: 100%|██████████| 898/898 [01:45<00:00,  8.53it/s]\n",
      "Testing Model: 100%|██████████| 113/113 [00:09<00:00, 12.29it/s]\n"
     ]
    },
    {
     "name": "stdout",
     "output_type": "stream",
     "text": [
      "\n",
      "Train loss: 1.8728, Train acc: 25.11%\n",
      "Test loss: 1.8744, Test acc: 24.53%\n",
      "\n",
      "\n",
      "Epoch 3 / 16: ---------------------------\n"
     ]
    },
    {
     "name": "stderr",
     "output_type": "stream",
     "text": [
      "Training Model on Num Batches: 100%|██████████| 898/898 [01:45<00:00,  8.53it/s]\n",
      "Testing Model: 100%|██████████| 113/113 [00:09<00:00, 12.02it/s]\n"
     ]
    },
    {
     "name": "stdout",
     "output_type": "stream",
     "text": [
      "\n",
      "Train loss: 1.8636, Train acc: 25.10%\n",
      "Test loss: 1.8720, Test acc: 24.53%\n",
      "\n",
      "\n",
      "Epoch 4 / 16: ---------------------------\n"
     ]
    },
    {
     "name": "stderr",
     "output_type": "stream",
     "text": [
      "Training Model on Num Batches: 100%|██████████| 898/898 [01:45<00:00,  8.53it/s]\n",
      "Testing Model: 100%|██████████| 113/113 [00:10<00:00, 10.46it/s]\n"
     ]
    },
    {
     "name": "stdout",
     "output_type": "stream",
     "text": [
      "\n",
      "Train loss: 1.8572, Train acc: 25.01%\n",
      "Test loss: 1.8718, Test acc: 24.53%\n",
      "\n",
      "\n",
      "Epoch 5 / 16: ---------------------------\n"
     ]
    },
    {
     "name": "stderr",
     "output_type": "stream",
     "text": [
      "Training Model on Num Batches: 100%|██████████| 898/898 [01:50<00:00,  8.14it/s]\n",
      "Testing Model: 100%|██████████| 113/113 [00:12<00:00,  8.79it/s]\n"
     ]
    },
    {
     "name": "stdout",
     "output_type": "stream",
     "text": [
      "\n",
      "Train loss: 1.8548, Train acc: 24.99%\n",
      "Test loss: 1.8827, Test acc: 24.50%\n",
      "\n",
      "\n",
      "Epoch 6 / 16: ---------------------------\n"
     ]
    },
    {
     "name": "stderr",
     "output_type": "stream",
     "text": [
      "Training Model on Num Batches: 100%|██████████| 898/898 [01:50<00:00,  8.14it/s]\n",
      "Testing Model: 100%|██████████| 113/113 [00:11<00:00,  9.71it/s]\n"
     ]
    },
    {
     "name": "stdout",
     "output_type": "stream",
     "text": [
      "\n",
      "Train loss: 1.8524, Train acc: 25.22%\n",
      "Test loss: 1.8763, Test acc: 24.64%\n",
      "\n",
      "\n",
      "Epoch 7 / 16: ---------------------------\n"
     ]
    },
    {
     "name": "stderr",
     "output_type": "stream",
     "text": [
      "Training Model on Num Batches: 100%|██████████| 898/898 [01:48<00:00,  8.30it/s]\n",
      "Testing Model: 100%|██████████| 113/113 [00:12<00:00,  9.25it/s]\n"
     ]
    },
    {
     "name": "stdout",
     "output_type": "stream",
     "text": [
      "\n",
      "Train loss: 1.8326, Train acc: 26.20%\n",
      "Test loss: 1.9047, Test acc: 25.58%\n",
      "\n",
      "\n",
      "Epoch 8 / 16: ---------------------------\n"
     ]
    },
    {
     "name": "stderr",
     "output_type": "stream",
     "text": [
      "Training Model on Num Batches: 100%|██████████| 898/898 [01:49<00:00,  8.17it/s]\n",
      "Testing Model: 100%|██████████| 113/113 [00:12<00:00,  9.02it/s]\n"
     ]
    },
    {
     "name": "stdout",
     "output_type": "stream",
     "text": [
      "\n",
      "Train loss: 1.7873, Train acc: 29.09%\n",
      "Test loss: 1.7991, Test acc: 29.44%\n",
      "\n",
      "\n",
      "Epoch 9 / 16: ---------------------------\n"
     ]
    },
    {
     "name": "stderr",
     "output_type": "stream",
     "text": [
      "Training Model on Num Batches: 100%|██████████| 898/898 [01:53<00:00,  7.90it/s]\n",
      "Testing Model: 100%|██████████| 113/113 [00:12<00:00,  8.78it/s]\n"
     ]
    },
    {
     "name": "stdout",
     "output_type": "stream",
     "text": [
      "\n",
      "Train loss: 1.7624, Train acc: 30.12%\n",
      "Test loss: 1.7797, Test acc: 30.32%\n",
      "\n",
      "\n",
      "Epoch 10 / 16: ---------------------------\n"
     ]
    },
    {
     "name": "stderr",
     "output_type": "stream",
     "text": [
      "Training Model on Num Batches: 100%|██████████| 898/898 [01:56<00:00,  7.72it/s]\n",
      "Testing Model: 100%|██████████| 113/113 [00:13<00:00,  8.45it/s]\n"
     ]
    },
    {
     "name": "stdout",
     "output_type": "stream",
     "text": [
      "\n",
      "Train loss: 1.7283, Train acc: 30.15%\n",
      "Test loss: 1.6934, Test acc: 30.85%\n",
      "\n",
      "\n",
      "Epoch 11 / 16: ---------------------------\n"
     ]
    },
    {
     "name": "stderr",
     "output_type": "stream",
     "text": [
      "Training Model on Num Batches: 100%|██████████| 898/898 [01:58<00:00,  7.59it/s]\n",
      "Testing Model: 100%|██████████| 113/113 [00:14<00:00,  8.02it/s]\n"
     ]
    },
    {
     "name": "stdout",
     "output_type": "stream",
     "text": [
      "\n",
      "Train loss: 1.6562, Train acc: 33.01%\n",
      "Test loss: 1.7138, Test acc: 32.73%\n",
      "\n",
      "\n",
      "Epoch 12 / 16: ---------------------------\n"
     ]
    },
    {
     "name": "stderr",
     "output_type": "stream",
     "text": [
      "Training Model on Num Batches: 100%|██████████| 898/898 [01:59<00:00,  7.50it/s]\n",
      "Testing Model: 100%|██████████| 113/113 [00:14<00:00,  7.94it/s]\n"
     ]
    },
    {
     "name": "stdout",
     "output_type": "stream",
     "text": [
      "\n",
      "Train loss: 1.6275, Train acc: 35.09%\n",
      "Test loss: 1.6472, Test acc: 35.11%\n",
      "\n",
      "\n",
      "Epoch 13 / 16: ---------------------------\n"
     ]
    },
    {
     "name": "stderr",
     "output_type": "stream",
     "text": [
      "Training Model on Num Batches: 100%|██████████| 898/898 [02:02<00:00,  7.34it/s]\n",
      "Testing Model: 100%|██████████| 113/113 [00:14<00:00,  7.83it/s]\n"
     ]
    },
    {
     "name": "stdout",
     "output_type": "stream",
     "text": [
      "\n",
      "Train loss: 1.5717, Train acc: 37.29%\n",
      "Test loss: 1.6157, Test acc: 38.37%\n",
      "\n",
      "\n",
      "Epoch 14 / 16: ---------------------------\n"
     ]
    },
    {
     "name": "stderr",
     "output_type": "stream",
     "text": [
      "Training Model on Num Batches: 100%|██████████| 898/898 [02:04<00:00,  7.21it/s]\n",
      "Testing Model: 100%|██████████| 113/113 [00:14<00:00,  7.64it/s]\n"
     ]
    },
    {
     "name": "stdout",
     "output_type": "stream",
     "text": [
      "\n",
      "Train loss: 1.4938, Train acc: 40.84%\n",
      "Test loss: 1.5627, Test acc: 39.00%\n",
      "\n",
      "\n",
      "Epoch 15 / 16: ---------------------------\n"
     ]
    },
    {
     "name": "stderr",
     "output_type": "stream",
     "text": [
      "Training Model on Num Batches: 100%|██████████| 898/898 [02:06<00:00,  7.08it/s]\n",
      "Testing Model: 100%|██████████| 113/113 [00:15<00:00,  7.51it/s]\n"
     ]
    },
    {
     "name": "stdout",
     "output_type": "stream",
     "text": [
      "\n",
      "Train loss: 1.4331, Train acc: 43.43%\n",
      "Test loss: 1.4693, Test acc: 43.58%\n",
      "\n",
      "\n",
      "Epoch 16 / 16: ---------------------------\n"
     ]
    },
    {
     "name": "stderr",
     "output_type": "stream",
     "text": [
      "Training Model on Num Batches: 100%|██████████| 898/898 [02:11<00:00,  6.85it/s]\n",
      "Testing Model: 100%|██████████| 113/113 [00:15<00:00,  7.27it/s]\n"
     ]
    },
    {
     "name": "stdout",
     "output_type": "stream",
     "text": [
      "\n",
      "Train loss: 1.3923, Train acc: 45.05%\n",
      "Test loss: 1.4430, Test acc: 44.80%\n",
      "\n",
      "\n",
      "-------Model has finished training-------\n",
      "\n",
      "\n",
      "model_grid5's training history has been saved.\n",
      "\n",
      "train_loss\n",
      "1. 1.8849\n",
      "2. 1.8728\n",
      "3. 1.8636\n",
      "4. 1.8572\n",
      "5. 1.8548\n",
      "6. 1.8524\n",
      "7. 1.8326\n",
      "8. 1.7873\n",
      "9. 1.7624\n",
      "10. 1.7283\n",
      "11. 1.6562\n",
      "12. 1.6275\n",
      "13. 1.5717\n",
      "14. 1.4938\n",
      "15. 1.4331\n",
      "16. 1.3923\n",
      "\n",
      "train_acc\n",
      "1. 24.2532\n",
      "2. 25.1058\n",
      "3. 25.0954\n",
      "4. 25.0118\n",
      "5. 24.9875\n",
      "6. 25.2206\n",
      "7. 26.2020\n",
      "8. 29.0869\n",
      "9. 30.1204\n",
      "10. 30.1482\n",
      "11. 33.0088\n",
      "12. 35.0863\n",
      "13. 37.2926\n",
      "14. 40.8366\n",
      "15. 43.4312\n",
      "16. 45.0508\n",
      "\n",
      "test_loss\n",
      "1. 1.8798\n",
      "2. 1.8744\n",
      "3. 1.8720\n",
      "4. 1.8718\n",
      "5. 1.8827\n",
      "6. 1.8763\n",
      "7. 1.9047\n",
      "8. 1.7991\n",
      "9. 1.7797\n",
      "10. 1.6934\n",
      "11. 1.7138\n",
      "12. 1.6472\n",
      "13. 1.6157\n",
      "14. 1.5627\n",
      "15. 1.4693\n",
      "16. 1.4430\n",
      "\n",
      "test_acc\n",
      "1. 24.5299\n",
      "2. 24.5299\n",
      "3. 24.5299\n",
      "4. 24.5299\n",
      "5. 24.5022\n",
      "6. 24.6405\n",
      "7. 25.5752\n",
      "8. 29.4358\n",
      "9. 30.3208\n",
      "10. 30.8462\n",
      "11. 32.7268\n",
      "12. 35.1051\n",
      "13. 38.3684\n",
      "14. 39.0044\n",
      "15. 43.5785\n",
      "16. 44.7954\n",
      "\n",
      "\n",
      "model_grid5's setting has been saved.\n",
      "\n",
      "\n",
      "Epoch 1 / 14: ---------------------------\n"
     ]
    },
    {
     "name": "stderr",
     "output_type": "stream",
     "text": [
      "Training Model on Num Batches: 100%|██████████| 898/898 [01:45<00:00,  8.54it/s]\n",
      "Testing Model: 100%|██████████| 113/113 [00:09<00:00, 11.98it/s]\n"
     ]
    },
    {
     "name": "stdout",
     "output_type": "stream",
     "text": [
      "\n",
      "Train loss: 1.8796, Train acc: 24.94%\n",
      "Test loss: 1.8832, Test acc: 24.50%\n",
      "\n",
      "\n",
      "Epoch 2 / 14: ---------------------------\n"
     ]
    },
    {
     "name": "stderr",
     "output_type": "stream",
     "text": [
      "Training Model on Num Batches: 100%|██████████| 898/898 [01:45<00:00,  8.55it/s]\n",
      "Testing Model: 100%|██████████| 113/113 [00:09<00:00, 11.75it/s]\n"
     ]
    },
    {
     "name": "stdout",
     "output_type": "stream",
     "text": [
      "\n",
      "Train loss: 1.8737, Train acc: 25.08%\n",
      "Test loss: 1.9179, Test acc: 19.39%\n",
      "\n",
      "\n",
      "Epoch 3 / 14: ---------------------------\n"
     ]
    },
    {
     "name": "stderr",
     "output_type": "stream",
     "text": [
      "Training Model on Num Batches: 100%|██████████| 898/898 [01:45<00:00,  8.55it/s]\n",
      "Testing Model: 100%|██████████| 113/113 [00:09<00:00, 11.55it/s]\n"
     ]
    },
    {
     "name": "stdout",
     "output_type": "stream",
     "text": [
      "\n",
      "Train loss: 1.8738, Train acc: 25.11%\n",
      "Test loss: 1.8762, Test acc: 24.53%\n",
      "\n",
      "\n",
      "Epoch 4 / 14: ---------------------------\n"
     ]
    },
    {
     "name": "stderr",
     "output_type": "stream",
     "text": [
      "Training Model on Num Batches: 100%|██████████| 898/898 [01:45<00:00,  8.54it/s]\n",
      "Testing Model: 100%|██████████| 113/113 [00:10<00:00, 11.16it/s]\n"
     ]
    },
    {
     "name": "stdout",
     "output_type": "stream",
     "text": [
      "\n",
      "Train loss: 1.8721, Train acc: 25.12%\n",
      "Test loss: 1.8768, Test acc: 24.53%\n",
      "\n",
      "\n",
      "Epoch 5 / 14: ---------------------------\n"
     ]
    },
    {
     "name": "stderr",
     "output_type": "stream",
     "text": [
      "Training Model on Num Batches: 100%|██████████| 898/898 [01:45<00:00,  8.51it/s]\n",
      "Testing Model: 100%|██████████| 113/113 [00:11<00:00,  9.73it/s]\n"
     ]
    },
    {
     "name": "stdout",
     "output_type": "stream",
     "text": [
      "\n",
      "Train loss: 1.8657, Train acc: 25.14%\n",
      "Test loss: 1.8647, Test acc: 24.59%\n",
      "\n",
      "\n",
      "Epoch 6 / 14: ---------------------------\n"
     ]
    },
    {
     "name": "stderr",
     "output_type": "stream",
     "text": [
      "Training Model on Num Batches: 100%|██████████| 898/898 [01:49<00:00,  8.18it/s]\n",
      "Testing Model: 100%|██████████| 113/113 [00:12<00:00,  8.97it/s]\n"
     ]
    },
    {
     "name": "stdout",
     "output_type": "stream",
     "text": [
      "\n",
      "Train loss: 1.8012, Train acc: 25.14%\n",
      "Test loss: 1.7949, Test acc: 24.53%\n",
      "\n",
      "\n",
      "Epoch 7 / 14: ---------------------------\n"
     ]
    },
    {
     "name": "stderr",
     "output_type": "stream",
     "text": [
      "Training Model on Num Batches: 100%|██████████| 898/898 [01:56<00:00,  7.72it/s]\n",
      "Testing Model: 100%|██████████| 113/113 [00:13<00:00,  8.67it/s]\n"
     ]
    },
    {
     "name": "stdout",
     "output_type": "stream",
     "text": [
      "\n",
      "Train loss: 1.7639, Train acc: 27.03%\n",
      "Test loss: 1.7669, Test acc: 29.72%\n",
      "\n",
      "\n",
      "Epoch 8 / 14: ---------------------------\n"
     ]
    },
    {
     "name": "stderr",
     "output_type": "stream",
     "text": [
      "Training Model on Num Batches: 100%|██████████| 898/898 [01:54<00:00,  7.84it/s]\n",
      "Testing Model: 100%|██████████| 113/113 [00:13<00:00,  8.68it/s]\n"
     ]
    },
    {
     "name": "stdout",
     "output_type": "stream",
     "text": [
      "\n",
      "Train loss: 1.6996, Train acc: 30.15%\n",
      "Test loss: 1.6745, Test acc: 31.65%\n",
      "\n",
      "\n",
      "Epoch 9 / 14: ---------------------------\n"
     ]
    },
    {
     "name": "stderr",
     "output_type": "stream",
     "text": [
      "Training Model on Num Batches: 100%|██████████| 898/898 [01:58<00:00,  7.60it/s]\n",
      "Testing Model: 100%|██████████| 113/113 [00:13<00:00,  8.21it/s]\n"
     ]
    },
    {
     "name": "stdout",
     "output_type": "stream",
     "text": [
      "\n",
      "Train loss: 1.6506, Train acc: 32.48%\n",
      "Test loss: 1.6177, Test acc: 34.83%\n",
      "\n",
      "\n",
      "Epoch 10 / 14: ---------------------------\n"
     ]
    },
    {
     "name": "stderr",
     "output_type": "stream",
     "text": [
      "Training Model on Num Batches: 100%|██████████| 898/898 [02:01<00:00,  7.42it/s]\n",
      "Testing Model: 100%|██████████| 113/113 [00:14<00:00,  7.79it/s]\n"
     ]
    },
    {
     "name": "stdout",
     "output_type": "stream",
     "text": [
      "\n",
      "Train loss: 1.5532, Train acc: 37.27%\n",
      "Test loss: 1.5138, Test acc: 39.20%\n",
      "\n",
      "\n",
      "Epoch 11 / 14: ---------------------------\n"
     ]
    },
    {
     "name": "stderr",
     "output_type": "stream",
     "text": [
      "Training Model on Num Batches: 100%|██████████| 898/898 [02:05<00:00,  7.18it/s]\n",
      "Testing Model: 100%|██████████| 113/113 [00:14<00:00,  7.62it/s]\n"
     ]
    },
    {
     "name": "stdout",
     "output_type": "stream",
     "text": [
      "\n",
      "Train loss: 1.4881, Train acc: 40.05%\n",
      "Test loss: 1.4752, Test acc: 40.98%\n",
      "\n",
      "\n",
      "Epoch 12 / 14: ---------------------------\n"
     ]
    },
    {
     "name": "stderr",
     "output_type": "stream",
     "text": [
      "Training Model on Num Batches: 100%|██████████| 898/898 [02:08<00:00,  6.99it/s]\n",
      "Testing Model: 100%|██████████| 113/113 [00:15<00:00,  7.11it/s]\n"
     ]
    },
    {
     "name": "stdout",
     "output_type": "stream",
     "text": [
      "\n",
      "Train loss: 1.4431, Train acc: 41.86%\n",
      "Test loss: 1.4695, Test acc: 41.59%\n",
      "\n",
      "\n",
      "Epoch 13 / 14: ---------------------------\n"
     ]
    },
    {
     "name": "stderr",
     "output_type": "stream",
     "text": [
      "Training Model on Num Batches: 100%|██████████| 898/898 [02:11<00:00,  6.82it/s]\n",
      "Testing Model: 100%|██████████| 113/113 [00:15<00:00,  7.19it/s]\n"
     ]
    },
    {
     "name": "stdout",
     "output_type": "stream",
     "text": [
      "\n",
      "Train loss: 1.4001, Train acc: 43.31%\n",
      "Test loss: 1.4805, Test acc: 41.01%\n",
      "\n",
      "\n",
      "Epoch 14 / 14: ---------------------------\n"
     ]
    },
    {
     "name": "stderr",
     "output_type": "stream",
     "text": [
      "Training Model on Num Batches: 100%|██████████| 898/898 [02:15<00:00,  6.61it/s]\n",
      "Testing Model: 100%|██████████| 113/113 [00:16<00:00,  6.88it/s]\n"
     ]
    },
    {
     "name": "stdout",
     "output_type": "stream",
     "text": [
      "\n",
      "Train loss: 1.3640, Train acc: 44.28%\n",
      "Test loss: 1.4266, Test acc: 42.64%\n",
      "\n",
      "\n",
      "-------Model has finished training-------\n",
      "\n",
      "\n",
      "model_grid6's training history has been saved.\n",
      "\n",
      "train_loss\n",
      "1. 1.8796\n",
      "2. 1.8737\n",
      "3. 1.8738\n",
      "4. 1.8721\n",
      "5. 1.8657\n",
      "6. 1.8012\n",
      "7. 1.7639\n",
      "8. 1.6996\n",
      "9. 1.6506\n",
      "10. 1.5532\n",
      "11. 1.4881\n",
      "12. 1.4431\n",
      "13. 1.4001\n",
      "14. 1.3640\n",
      "\n",
      "train_acc\n",
      "1. 24.9422\n",
      "2. 25.0814\n",
      "3. 25.1128\n",
      "4. 25.1197\n",
      "5. 25.1406\n",
      "6. 25.1406\n",
      "7. 27.0302\n",
      "8. 30.1517\n",
      "9. 32.4833\n",
      "10. 37.2661\n",
      "11. 40.0452\n",
      "12. 41.8583\n",
      "13. 43.3122\n",
      "14. 44.2803\n",
      "\n",
      "test_loss\n",
      "1. 1.8832\n",
      "2. 1.9179\n",
      "3. 1.8762\n",
      "4. 1.8768\n",
      "5. 1.8647\n",
      "6. 1.7949\n",
      "7. 1.7669\n",
      "8. 1.6745\n",
      "9. 1.6177\n",
      "10. 1.5138\n",
      "11. 1.4752\n",
      "12. 1.4695\n",
      "13. 1.4805\n",
      "14. 1.4266\n",
      "\n",
      "test_acc\n",
      "1. 24.5022\n",
      "2. 19.3861\n",
      "3. 24.5299\n",
      "4. 24.5299\n",
      "5. 24.5852\n",
      "6. 24.5299\n",
      "7. 29.7235\n",
      "8. 31.6482\n",
      "9. 34.8285\n",
      "10. 39.1980\n",
      "11. 40.9790\n",
      "12. 41.5874\n",
      "13. 41.0066\n",
      "14. 42.6383\n",
      "\n",
      "\n",
      "model_grid6's setting has been saved.\n",
      "\n",
      "\n",
      "Epoch 1 / 15: ---------------------------\n"
     ]
    },
    {
     "name": "stderr",
     "output_type": "stream",
     "text": [
      "Training Model on Num Batches: 100%|██████████| 898/898 [01:45<00:00,  8.54it/s]\n",
      "Testing Model: 100%|██████████| 113/113 [00:09<00:00, 11.53it/s]\n"
     ]
    },
    {
     "name": "stdout",
     "output_type": "stream",
     "text": [
      "\n",
      "Train loss: 1.9019, Train acc: 24.92%\n",
      "Test loss: 1.9043, Test acc: 24.53%\n",
      "\n",
      "\n",
      "Epoch 2 / 15: ---------------------------\n"
     ]
    },
    {
     "name": "stderr",
     "output_type": "stream",
     "text": [
      "Training Model on Num Batches: 100%|██████████| 898/898 [01:44<00:00,  8.63it/s]\n",
      "Testing Model: 100%|██████████| 113/113 [00:10<00:00, 10.93it/s]\n"
     ]
    },
    {
     "name": "stdout",
     "output_type": "stream",
     "text": [
      "\n",
      "Train loss: 1.8959, Train acc: 25.13%\n",
      "Test loss: 1.9058, Test acc: 24.53%\n",
      "\n",
      "\n",
      "Epoch 3 / 15: ---------------------------\n"
     ]
    },
    {
     "name": "stderr",
     "output_type": "stream",
     "text": [
      "Training Model on Num Batches: 100%|██████████| 898/898 [01:45<00:00,  8.53it/s]\n",
      "Testing Model: 100%|██████████| 113/113 [00:09<00:00, 11.51it/s]\n"
     ]
    },
    {
     "name": "stdout",
     "output_type": "stream",
     "text": [
      "\n",
      "Train loss: 1.8863, Train acc: 25.05%\n",
      "Test loss: 1.8860, Test acc: 24.53%\n",
      "\n",
      "\n",
      "Epoch 4 / 15: ---------------------------\n"
     ]
    },
    {
     "name": "stderr",
     "output_type": "stream",
     "text": [
      "Training Model on Num Batches: 100%|██████████| 898/898 [01:45<00:00,  8.52it/s]\n",
      "Testing Model: 100%|██████████| 113/113 [00:09<00:00, 11.54it/s]\n"
     ]
    },
    {
     "name": "stdout",
     "output_type": "stream",
     "text": [
      "\n",
      "Train loss: 1.8950, Train acc: 22.27%\n",
      "Test loss: 1.9087, Test acc: 20.89%\n",
      "\n",
      "\n",
      "Epoch 5 / 15: ---------------------------\n"
     ]
    },
    {
     "name": "stderr",
     "output_type": "stream",
     "text": [
      "Training Model on Num Batches: 100%|██████████| 898/898 [01:45<00:00,  8.53it/s]\n",
      "Testing Model: 100%|██████████| 113/113 [00:10<00:00, 10.65it/s]\n"
     ]
    },
    {
     "name": "stdout",
     "output_type": "stream",
     "text": [
      "\n",
      "Train loss: 1.9127, Train acc: 20.07%\n",
      "Test loss: 1.9295, Test acc: 16.73%\n",
      "\n",
      "\n",
      "Epoch 6 / 15: ---------------------------\n"
     ]
    },
    {
     "name": "stderr",
     "output_type": "stream",
     "text": [
      "Training Model on Num Batches: 100%|██████████| 898/898 [01:46<00:00,  8.43it/s]\n",
      "Testing Model: 100%|██████████| 113/113 [00:12<00:00,  9.18it/s]\n"
     ]
    },
    {
     "name": "stdout",
     "output_type": "stream",
     "text": [
      "\n",
      "Train loss: 1.9417, Train acc: 14.65%\n",
      "Test loss: 1.9459, Test acc: 13.55%\n",
      "\n",
      "\n",
      "Epoch 7 / 15: ---------------------------\n"
     ]
    },
    {
     "name": "stderr",
     "output_type": "stream",
     "text": [
      "Training Model on Num Batches: 100%|██████████| 898/898 [01:52<00:00,  7.96it/s]\n",
      "Testing Model: 100%|██████████| 113/113 [00:13<00:00,  8.64it/s]\n"
     ]
    },
    {
     "name": "stdout",
     "output_type": "stream",
     "text": [
      "\n",
      "Train loss: 1.9459, Train acc: 13.94%\n",
      "Test loss: 1.9459, Test acc: 13.55%\n",
      "\n",
      "\n",
      "Epoch 8 / 15: ---------------------------\n"
     ]
    },
    {
     "name": "stderr",
     "output_type": "stream",
     "text": [
      "Training Model on Num Batches: 100%|██████████| 898/898 [02:00<00:00,  7.48it/s]\n",
      "Testing Model: 100%|██████████| 113/113 [00:13<00:00,  8.12it/s]\n"
     ]
    },
    {
     "name": "stdout",
     "output_type": "stream",
     "text": [
      "\n",
      "Train loss: 1.9459, Train acc: 13.94%\n",
      "Test loss: 1.9459, Test acc: 13.55%\n",
      "\n",
      "\n",
      "Epoch 9 / 15: ---------------------------\n"
     ]
    },
    {
     "name": "stderr",
     "output_type": "stream",
     "text": [
      "Training Model on Num Batches: 100%|██████████| 898/898 [02:05<00:00,  7.15it/s]\n",
      "Testing Model: 100%|██████████| 113/113 [00:15<00:00,  7.40it/s]\n"
     ]
    },
    {
     "name": "stdout",
     "output_type": "stream",
     "text": [
      "\n",
      "Train loss: 1.9459, Train acc: 13.94%\n",
      "Test loss: 1.9459, Test acc: 13.55%\n",
      "\n",
      "\n",
      "Epoch 10 / 15: ---------------------------\n"
     ]
    },
    {
     "name": "stderr",
     "output_type": "stream",
     "text": [
      "Training Model on Num Batches: 100%|██████████| 898/898 [02:06<00:00,  7.07it/s]\n",
      "Testing Model: 100%|██████████| 113/113 [00:15<00:00,  7.32it/s]\n"
     ]
    },
    {
     "name": "stdout",
     "output_type": "stream",
     "text": [
      "\n",
      "Train loss: 1.9459, Train acc: 13.94%\n",
      "Test loss: 1.9459, Test acc: 13.55%\n",
      "\n",
      "\n",
      "Epoch 11 / 15: ---------------------------\n"
     ]
    },
    {
     "name": "stderr",
     "output_type": "stream",
     "text": [
      "Training Model on Num Batches: 100%|██████████| 898/898 [02:08<00:00,  6.97it/s]\n",
      "Testing Model: 100%|██████████| 113/113 [00:14<00:00,  7.64it/s]\n"
     ]
    },
    {
     "name": "stdout",
     "output_type": "stream",
     "text": [
      "\n",
      "Train loss: 1.9459, Train acc: 13.94%\n",
      "Test loss: 1.9459, Test acc: 13.55%\n",
      "\n",
      "\n",
      "Epoch 12 / 15: ---------------------------\n"
     ]
    },
    {
     "name": "stderr",
     "output_type": "stream",
     "text": [
      "Training Model on Num Batches: 100%|██████████| 898/898 [02:08<00:00,  7.01it/s]\n",
      "Testing Model: 100%|██████████| 113/113 [00:15<00:00,  7.24it/s]\n"
     ]
    },
    {
     "name": "stdout",
     "output_type": "stream",
     "text": [
      "\n",
      "Train loss: 1.9459, Train acc: 13.94%\n",
      "Test loss: 1.9459, Test acc: 13.55%\n",
      "\n",
      "\n",
      "Epoch 13 / 15: ---------------------------\n"
     ]
    },
    {
     "name": "stderr",
     "output_type": "stream",
     "text": [
      "Training Model on Num Batches: 100%|██████████| 898/898 [02:10<00:00,  6.88it/s]\n",
      "Testing Model: 100%|██████████| 113/113 [00:15<00:00,  7.47it/s]\n"
     ]
    },
    {
     "name": "stdout",
     "output_type": "stream",
     "text": [
      "\n",
      "Train loss: 1.9459, Train acc: 13.94%\n",
      "Test loss: 1.9459, Test acc: 13.55%\n",
      "\n",
      "\n",
      "Epoch 14 / 15: ---------------------------\n"
     ]
    },
    {
     "name": "stderr",
     "output_type": "stream",
     "text": [
      "Training Model on Num Batches: 100%|██████████| 898/898 [02:10<00:00,  6.90it/s]\n",
      "Testing Model: 100%|██████████| 113/113 [00:15<00:00,  7.09it/s]\n"
     ]
    },
    {
     "name": "stdout",
     "output_type": "stream",
     "text": [
      "\n",
      "Train loss: 1.9459, Train acc: 13.94%\n",
      "Test loss: 1.9459, Test acc: 13.55%\n",
      "\n",
      "\n",
      "Epoch 15 / 15: ---------------------------\n"
     ]
    },
    {
     "name": "stderr",
     "output_type": "stream",
     "text": [
      "Training Model on Num Batches: 100%|██████████| 898/898 [02:13<00:00,  6.73it/s]\n",
      "Testing Model: 100%|██████████| 113/113 [00:16<00:00,  6.66it/s]\n"
     ]
    },
    {
     "name": "stdout",
     "output_type": "stream",
     "text": [
      "\n",
      "Train loss: 1.9459, Train acc: 13.94%\n",
      "Test loss: 1.9459, Test acc: 13.55%\n",
      "\n",
      "\n",
      "-------Model has finished training-------\n",
      "\n",
      "\n",
      "model_grid7's training history has been saved.\n",
      "\n",
      "train_loss\n",
      "1. 1.9019\n",
      "2. 1.8959\n",
      "3. 1.8863\n",
      "4. 1.8950\n",
      "5. 1.9127\n",
      "6. 1.9417\n",
      "7. 1.9459\n",
      "8. 1.9459\n",
      "9. 1.9459\n",
      "10. 1.9459\n",
      "11. 1.9459\n",
      "12. 1.9459\n",
      "13. 1.9459\n",
      "14. 1.9459\n",
      "15. 1.9459\n",
      "\n",
      "train_acc\n",
      "1. 24.9214\n",
      "2. 25.1267\n",
      "3. 25.0501\n",
      "4. 22.2710\n",
      "5. 20.0717\n",
      "6. 14.6534\n",
      "7. 13.9400\n",
      "8. 13.9400\n",
      "9. 13.9400\n",
      "10. 13.9400\n",
      "11. 13.9400\n",
      "12. 13.9400\n",
      "13. 13.9400\n",
      "14. 13.9400\n",
      "15. 13.9400\n",
      "\n",
      "test_loss\n",
      "1. 1.9043\n",
      "2. 1.9058\n",
      "3. 1.8860\n",
      "4. 1.9087\n",
      "5. 1.9295\n",
      "6. 1.9459\n",
      "7. 1.9459\n",
      "8. 1.9459\n",
      "9. 1.9459\n",
      "10. 1.9459\n",
      "11. 1.9459\n",
      "12. 1.9459\n",
      "13. 1.9459\n",
      "14. 1.9459\n",
      "15. 1.9459\n",
      "\n",
      "test_acc\n",
      "1. 24.5299\n",
      "2. 24.5299\n",
      "3. 24.5299\n",
      "4. 20.8905\n",
      "5. 16.7257\n",
      "6. 13.5454\n",
      "7. 13.5454\n",
      "8. 13.5454\n",
      "9. 13.5454\n",
      "10. 13.5454\n",
      "11. 13.5454\n",
      "12. 13.5454\n",
      "13. 13.5454\n",
      "14. 13.5454\n",
      "15. 13.5454\n",
      "\n",
      "\n",
      "model_grid7's setting has been saved.\n",
      "\n"
     ]
    }
   ],
   "source": [
    "## Hyperparameter Tuning\n",
    "\n",
    "# Original value: 15, 0.0012, 0.3, [1024, 256, 64]\n",
    "# Form: epoch, learningRate, dropoutRate, linear_hiddenUnits_list\n",
    "# Key: ep, lr, dr, lhu\n",
    "hyperparameters_list = []\n",
    "\n",
    "# Set 1\n",
    "temp1 = [15, 0.0012, 0.3, [1024, 256, 64]]\n",
    "\n",
    "# Set 2\n",
    "temp2 = [12, 0.0012, 0.4, [1024, 256, 64]]\n",
    "\n",
    "# Set 3\n",
    "temp3 = [13, 0.001, 0.3, [1024, 256, 64]]\n",
    "\n",
    "# Set 4\n",
    "temp4 = [15, 0.0012, 0.2, [256, 64]]\n",
    "\n",
    "# Set 5\n",
    "temp5 = [16, 0.00125, 0.3, [512, 128, 64]]\n",
    "\n",
    "# Set 6\n",
    "temp6 = [14, 0.0012, 0.25, [512, 32]]\n",
    "\n",
    "# Set 7\n",
    "temp7 = [15, 0.0011, 0.35, [1024, 256, 64]]\n",
    "\n",
    "hyperparameters_list.append(temp1)\n",
    "hyperparameters_list.append(temp2)\n",
    "hyperparameters_list.append(temp3)\n",
    "hyperparameters_list.append(temp4)\n",
    "hyperparameters_list.append(temp5)\n",
    "hyperparameters_list.append(temp6)\n",
    "hyperparameters_list.append(temp7)\n",
    "\n",
    "hyperparameter_history = hyperparameterGridSearch(hyperparameters_list, 7)"
   ]
  },
  {
   "cell_type": "code",
   "execution_count": 98,
   "id": "fc775d6e",
   "metadata": {},
   "outputs": [
    {
     "name": "stdout",
     "output_type": "stream",
     "text": [
      "\n",
      "train_loss: \n",
      "Set 1. 1.4234\n",
      "Set 2. 1.8339\n",
      "Set 3. 1.9459\n",
      "Set 4. 1.8666\n",
      "Set 5. 1.3923\n",
      "Set 6. 1.3640\n",
      "Set 7. 1.9459\n",
      "\n",
      "train_acc: \n",
      "Set 1. 45.3132\n",
      "Set 2. 25.7913\n",
      "Set 3. 13.9400\n",
      "Set 4. 24.2671\n",
      "Set 5. 45.0508\n",
      "Set 6. 44.2803\n",
      "Set 7. 13.9400\n",
      "\n",
      "val_loss: \n",
      "Set 1. 1.4786\n",
      "Set 2. 1.8596\n",
      "Set 3. 1.9459\n",
      "Set 4. 1.8847\n",
      "Set 5. 1.4430\n",
      "Set 6. 1.4266\n",
      "Set 7. 1.9459\n",
      "\n",
      "val_acc: \n",
      "Set 1. 43.7445\n",
      "Set 2. 24.5299\n",
      "Set 3. 13.5454\n",
      "Set 4. 23.8772\n",
      "Set 5. 44.7954\n",
      "Set 6. 42.6383\n",
      "Set 7. 13.5454\n"
     ]
    }
   ],
   "source": [
    "## Show hyperparameter training and testing history\n",
    "for key, dataL in hyperparameter_history.items():\n",
    "    \n",
    "    print(f\"\\n{key}: \")\n",
    "    \n",
    "    for i in range(0, len(dataL)):\n",
    "        data = dataL[i].item()\n",
    "        print(f\"Set {i+1}. {data:.4f}\")"
   ]
  },
  {
   "cell_type": "code",
   "execution_count": null,
   "id": "24e8702e",
   "metadata": {},
   "outputs": [],
   "source": [
    "## Analysis on hyperparameter tuning\n",
    "\n",
    "\"\"\"\n",
    "It appears that the 3 top performing hyperparameter sets are:\n",
    "    \n",
    "    Set 1 --> [15, 0.0012, 0.3, [1024, 256, 64]] | Acc = 45.31%\n",
    "    Set 5 --> [16, 0.00125, 0.3, [512, 128, 64]] | Acc = 45.05%\n",
    "    Set 6 --> [14, 0.0012, 0.25, [512, 32]]      | Acc = 44.28%\n",
    "\n",
    "    Similarities:\n",
    "        - Num epochs: Mean=15, consider to increase to 19\n",
    "        - Learning rate: Mean=0.00122, consider to increase to 0.0013\n",
    "        - Dropout rate: Mean=0.27, consider to increase to 0.32\n",
    "        - linear_hiddenUnits_list: 2 -> 3 layers, consider for [1024, 256, 32] / [1024, 512, 128, 32]\n",
    "\"\"\""
   ]
  },
  {
   "cell_type": "code",
   "execution_count": 24,
   "id": "5e27d807",
   "metadata": {},
   "outputs": [],
   "source": [
    "## Creating a model\n",
    "\n",
    "if (mb_params == basic_mb_params):\n",
    "    mb_params = basic_mb_params\n",
    "\n",
    "model_2 = ModelSet(model_name=\"model_2\", # Change names if you want to save different versions of models\n",
    "                   model_type=\"b0\", # from b0 --> b7\n",
    "                   epochs=19, \n",
    "                   batchSize=32, # Typically in the power of 2\n",
    "                   learningRate=0.0013, # Different choices for different optimizers\n",
    "                   mb_params=mb_params, # Can refer to previous block / If None, use basic_mb_params\n",
    "                   newDropoutRate=0.32, # Can refer to previous block / If None, use basic dropout rate\n",
    "                   optimChoice=\"Adam\", # Available choice: Adam, AdamW, Adadelta, SGD\n",
    "                   linear_hiddenUnits_list=[1024, 512, 128, 32]) # Each value refers to an additional hidden Linear layer with x neuron before the final classification\n",
    "\n",
    "model_2.model_setup() # Setting up everything\n",
    "\n",
    "modelSettings = model_2.generate_modelSettings_dict()"
   ]
  },
  {
   "cell_type": "code",
   "execution_count": 25,
   "id": "9413a704",
   "metadata": {},
   "outputs": [
    {
     "name": "stdout",
     "output_type": "stream",
     "text": [
      "----------------------------------------------------------------\n",
      "        Layer (type)               Output Shape         Param #\n",
      "================================================================\n",
      "            Conv2d-1         [-1, 32, 112, 112]             896\n",
      "       BatchNorm2d-2         [-1, 32, 112, 112]              64\n",
      "              SiLU-3         [-1, 32, 112, 112]               0\n",
      "         ConvBlock-4         [-1, 32, 112, 112]               0\n",
      "            Conv2d-5         [-1, 32, 112, 112]             320\n",
      "       BatchNorm2d-6         [-1, 32, 112, 112]              64\n",
      "              SiLU-7         [-1, 32, 112, 112]               0\n",
      "         ConvBlock-8         [-1, 32, 112, 112]               0\n",
      " AdaptiveAvgPool2d-9             [-1, 32, 1, 1]               0\n",
      "           Conv2d-10             [-1, 16, 1, 1]             528\n",
      "             SiLU-11             [-1, 16, 1, 1]               0\n",
      "           Conv2d-12             [-1, 32, 1, 1]             544\n",
      "          Sigmoid-13             [-1, 32, 1, 1]               0\n",
      "SqueezeExcitation-14         [-1, 32, 112, 112]               0\n",
      "           Conv2d-15         [-1, 16, 112, 112]             528\n",
      "      BatchNorm2d-16         [-1, 16, 112, 112]              32\n",
      "           MBConv-17         [-1, 16, 112, 112]               0\n",
      "           Conv2d-18         [-1, 96, 112, 112]          13,920\n",
      "      BatchNorm2d-19         [-1, 96, 112, 112]             192\n",
      "             SiLU-20         [-1, 96, 112, 112]               0\n",
      "        ConvBlock-21         [-1, 96, 112, 112]               0\n",
      "           Conv2d-22           [-1, 96, 56, 56]             960\n",
      "      BatchNorm2d-23           [-1, 96, 56, 56]             192\n",
      "             SiLU-24           [-1, 96, 56, 56]               0\n",
      "        ConvBlock-25           [-1, 96, 56, 56]               0\n",
      "AdaptiveAvgPool2d-26             [-1, 96, 1, 1]               0\n",
      "           Conv2d-27              [-1, 8, 1, 1]             776\n",
      "             SiLU-28              [-1, 8, 1, 1]               0\n",
      "           Conv2d-29             [-1, 96, 1, 1]             864\n",
      "          Sigmoid-30             [-1, 96, 1, 1]               0\n",
      "SqueezeExcitation-31           [-1, 96, 56, 56]               0\n",
      "           Conv2d-32           [-1, 24, 56, 56]           2,328\n",
      "      BatchNorm2d-33           [-1, 24, 56, 56]              48\n",
      "           MBConv-34           [-1, 24, 56, 56]               0\n",
      "           Conv2d-35          [-1, 144, 56, 56]          31,248\n",
      "      BatchNorm2d-36          [-1, 144, 56, 56]             288\n",
      "             SiLU-37          [-1, 144, 56, 56]               0\n",
      "        ConvBlock-38          [-1, 144, 56, 56]               0\n",
      "           Conv2d-39          [-1, 144, 56, 56]           1,440\n",
      "      BatchNorm2d-40          [-1, 144, 56, 56]             288\n",
      "             SiLU-41          [-1, 144, 56, 56]               0\n",
      "        ConvBlock-42          [-1, 144, 56, 56]               0\n",
      "AdaptiveAvgPool2d-43            [-1, 144, 1, 1]               0\n",
      "           Conv2d-44             [-1, 12, 1, 1]           1,740\n",
      "             SiLU-45             [-1, 12, 1, 1]               0\n",
      "           Conv2d-46            [-1, 144, 1, 1]           1,872\n",
      "          Sigmoid-47            [-1, 144, 1, 1]               0\n",
      "SqueezeExcitation-48          [-1, 144, 56, 56]               0\n",
      "           Conv2d-49           [-1, 24, 56, 56]           3,480\n",
      "      BatchNorm2d-50           [-1, 24, 56, 56]              48\n",
      "           MBConv-51           [-1, 24, 56, 56]               0\n",
      "           Conv2d-52          [-1, 144, 56, 56]          31,248\n",
      "      BatchNorm2d-53          [-1, 144, 56, 56]             288\n",
      "             SiLU-54          [-1, 144, 56, 56]               0\n",
      "        ConvBlock-55          [-1, 144, 56, 56]               0\n",
      "           Conv2d-56          [-1, 144, 28, 28]           3,744\n",
      "      BatchNorm2d-57          [-1, 144, 28, 28]             288\n",
      "             SiLU-58          [-1, 144, 28, 28]               0\n",
      "        ConvBlock-59          [-1, 144, 28, 28]               0\n",
      "AdaptiveAvgPool2d-60            [-1, 144, 1, 1]               0\n",
      "           Conv2d-61             [-1, 12, 1, 1]           1,740\n",
      "             SiLU-62             [-1, 12, 1, 1]               0\n",
      "           Conv2d-63            [-1, 144, 1, 1]           1,872\n",
      "          Sigmoid-64            [-1, 144, 1, 1]               0\n",
      "SqueezeExcitation-65          [-1, 144, 28, 28]               0\n",
      "           Conv2d-66           [-1, 40, 28, 28]           5,800\n",
      "      BatchNorm2d-67           [-1, 40, 28, 28]              80\n",
      "           MBConv-68           [-1, 40, 28, 28]               0\n",
      "           Conv2d-69          [-1, 240, 28, 28]          86,640\n",
      "      BatchNorm2d-70          [-1, 240, 28, 28]             480\n",
      "             SiLU-71          [-1, 240, 28, 28]               0\n",
      "        ConvBlock-72          [-1, 240, 28, 28]               0\n",
      "           Conv2d-73          [-1, 240, 28, 28]           6,240\n",
      "      BatchNorm2d-74          [-1, 240, 28, 28]             480\n",
      "             SiLU-75          [-1, 240, 28, 28]               0\n",
      "        ConvBlock-76          [-1, 240, 28, 28]               0\n",
      "AdaptiveAvgPool2d-77            [-1, 240, 1, 1]               0\n",
      "           Conv2d-78             [-1, 20, 1, 1]           4,820\n",
      "             SiLU-79             [-1, 20, 1, 1]               0\n",
      "           Conv2d-80            [-1, 240, 1, 1]           5,040\n",
      "          Sigmoid-81            [-1, 240, 1, 1]               0\n",
      "SqueezeExcitation-82          [-1, 240, 28, 28]               0\n",
      "           Conv2d-83           [-1, 40, 28, 28]           9,640\n",
      "      BatchNorm2d-84           [-1, 40, 28, 28]              80\n",
      "           MBConv-85           [-1, 40, 28, 28]               0\n",
      "           Conv2d-86          [-1, 240, 28, 28]          86,640\n",
      "      BatchNorm2d-87          [-1, 240, 28, 28]             480\n",
      "             SiLU-88          [-1, 240, 28, 28]               0\n",
      "        ConvBlock-89          [-1, 240, 28, 28]               0\n",
      "           Conv2d-90          [-1, 240, 14, 14]           2,400\n",
      "      BatchNorm2d-91          [-1, 240, 14, 14]             480\n",
      "             SiLU-92          [-1, 240, 14, 14]               0\n",
      "        ConvBlock-93          [-1, 240, 14, 14]               0\n",
      "AdaptiveAvgPool2d-94            [-1, 240, 1, 1]               0\n",
      "           Conv2d-95             [-1, 20, 1, 1]           4,820\n",
      "             SiLU-96             [-1, 20, 1, 1]               0\n",
      "           Conv2d-97            [-1, 240, 1, 1]           5,040\n",
      "          Sigmoid-98            [-1, 240, 1, 1]               0\n",
      "SqueezeExcitation-99          [-1, 240, 14, 14]               0\n",
      "          Conv2d-100           [-1, 80, 14, 14]          19,280\n",
      "     BatchNorm2d-101           [-1, 80, 14, 14]             160\n",
      "          MBConv-102           [-1, 80, 14, 14]               0\n",
      "          Conv2d-103          [-1, 480, 14, 14]         346,080\n",
      "     BatchNorm2d-104          [-1, 480, 14, 14]             960\n",
      "            SiLU-105          [-1, 480, 14, 14]               0\n",
      "       ConvBlock-106          [-1, 480, 14, 14]               0\n",
      "          Conv2d-107          [-1, 480, 14, 14]           4,800\n",
      "     BatchNorm2d-108          [-1, 480, 14, 14]             960\n",
      "            SiLU-109          [-1, 480, 14, 14]               0\n",
      "       ConvBlock-110          [-1, 480, 14, 14]               0\n",
      "AdaptiveAvgPool2d-111            [-1, 480, 1, 1]               0\n",
      "          Conv2d-112             [-1, 40, 1, 1]          19,240\n",
      "            SiLU-113             [-1, 40, 1, 1]               0\n",
      "          Conv2d-114            [-1, 480, 1, 1]          19,680\n",
      "         Sigmoid-115            [-1, 480, 1, 1]               0\n",
      "SqueezeExcitation-116          [-1, 480, 14, 14]               0\n",
      "          Conv2d-117           [-1, 80, 14, 14]          38,480\n",
      "     BatchNorm2d-118           [-1, 80, 14, 14]             160\n",
      "          MBConv-119           [-1, 80, 14, 14]               0\n",
      "          Conv2d-120          [-1, 480, 14, 14]         346,080\n",
      "     BatchNorm2d-121          [-1, 480, 14, 14]             960\n",
      "            SiLU-122          [-1, 480, 14, 14]               0\n",
      "       ConvBlock-123          [-1, 480, 14, 14]               0\n",
      "          Conv2d-124          [-1, 480, 14, 14]           4,800\n",
      "     BatchNorm2d-125          [-1, 480, 14, 14]             960\n",
      "            SiLU-126          [-1, 480, 14, 14]               0\n",
      "       ConvBlock-127          [-1, 480, 14, 14]               0\n",
      "AdaptiveAvgPool2d-128            [-1, 480, 1, 1]               0\n",
      "          Conv2d-129             [-1, 40, 1, 1]          19,240\n",
      "            SiLU-130             [-1, 40, 1, 1]               0\n",
      "          Conv2d-131            [-1, 480, 1, 1]          19,680\n",
      "         Sigmoid-132            [-1, 480, 1, 1]               0\n",
      "SqueezeExcitation-133          [-1, 480, 14, 14]               0\n",
      "          Conv2d-134           [-1, 80, 14, 14]          38,480\n",
      "     BatchNorm2d-135           [-1, 80, 14, 14]             160\n",
      "          MBConv-136           [-1, 80, 14, 14]               0\n",
      "          Conv2d-137          [-1, 480, 14, 14]         346,080\n",
      "     BatchNorm2d-138          [-1, 480, 14, 14]             960\n",
      "            SiLU-139          [-1, 480, 14, 14]               0\n",
      "       ConvBlock-140          [-1, 480, 14, 14]               0\n",
      "          Conv2d-141          [-1, 480, 14, 14]          12,480\n",
      "     BatchNorm2d-142          [-1, 480, 14, 14]             960\n",
      "            SiLU-143          [-1, 480, 14, 14]               0\n",
      "       ConvBlock-144          [-1, 480, 14, 14]               0\n",
      "AdaptiveAvgPool2d-145            [-1, 480, 1, 1]               0\n",
      "          Conv2d-146             [-1, 40, 1, 1]          19,240\n",
      "            SiLU-147             [-1, 40, 1, 1]               0\n",
      "          Conv2d-148            [-1, 480, 1, 1]          19,680\n",
      "         Sigmoid-149            [-1, 480, 1, 1]               0\n",
      "SqueezeExcitation-150          [-1, 480, 14, 14]               0\n",
      "          Conv2d-151          [-1, 112, 14, 14]          53,872\n",
      "     BatchNorm2d-152          [-1, 112, 14, 14]             224\n",
      "          MBConv-153          [-1, 112, 14, 14]               0\n",
      "          Conv2d-154          [-1, 672, 14, 14]         678,048\n",
      "     BatchNorm2d-155          [-1, 672, 14, 14]           1,344\n",
      "            SiLU-156          [-1, 672, 14, 14]               0\n",
      "       ConvBlock-157          [-1, 672, 14, 14]               0\n",
      "          Conv2d-158          [-1, 672, 14, 14]          17,472\n",
      "     BatchNorm2d-159          [-1, 672, 14, 14]           1,344\n",
      "            SiLU-160          [-1, 672, 14, 14]               0\n",
      "       ConvBlock-161          [-1, 672, 14, 14]               0\n",
      "AdaptiveAvgPool2d-162            [-1, 672, 1, 1]               0\n",
      "          Conv2d-163             [-1, 56, 1, 1]          37,688\n",
      "            SiLU-164             [-1, 56, 1, 1]               0\n",
      "          Conv2d-165            [-1, 672, 1, 1]          38,304\n",
      "         Sigmoid-166            [-1, 672, 1, 1]               0\n",
      "SqueezeExcitation-167          [-1, 672, 14, 14]               0\n",
      "          Conv2d-168          [-1, 112, 14, 14]          75,376\n",
      "     BatchNorm2d-169          [-1, 112, 14, 14]             224\n",
      "          MBConv-170          [-1, 112, 14, 14]               0\n",
      "          Conv2d-171          [-1, 672, 14, 14]         678,048\n",
      "     BatchNorm2d-172          [-1, 672, 14, 14]           1,344\n",
      "            SiLU-173          [-1, 672, 14, 14]               0\n",
      "       ConvBlock-174          [-1, 672, 14, 14]               0\n",
      "          Conv2d-175          [-1, 672, 14, 14]          17,472\n",
      "     BatchNorm2d-176          [-1, 672, 14, 14]           1,344\n",
      "            SiLU-177          [-1, 672, 14, 14]               0\n",
      "       ConvBlock-178          [-1, 672, 14, 14]               0\n",
      "AdaptiveAvgPool2d-179            [-1, 672, 1, 1]               0\n",
      "          Conv2d-180             [-1, 56, 1, 1]          37,688\n",
      "            SiLU-181             [-1, 56, 1, 1]               0\n",
      "          Conv2d-182            [-1, 672, 1, 1]          38,304\n",
      "         Sigmoid-183            [-1, 672, 1, 1]               0\n",
      "SqueezeExcitation-184          [-1, 672, 14, 14]               0\n",
      "          Conv2d-185          [-1, 112, 14, 14]          75,376\n",
      "     BatchNorm2d-186          [-1, 112, 14, 14]             224\n",
      "          MBConv-187          [-1, 112, 14, 14]               0\n",
      "          Conv2d-188          [-1, 672, 14, 14]         678,048\n",
      "     BatchNorm2d-189          [-1, 672, 14, 14]           1,344\n",
      "            SiLU-190          [-1, 672, 14, 14]               0\n",
      "       ConvBlock-191          [-1, 672, 14, 14]               0\n",
      "          Conv2d-192            [-1, 672, 7, 7]          17,472\n",
      "     BatchNorm2d-193            [-1, 672, 7, 7]           1,344\n",
      "            SiLU-194            [-1, 672, 7, 7]               0\n",
      "       ConvBlock-195            [-1, 672, 7, 7]               0\n",
      "AdaptiveAvgPool2d-196            [-1, 672, 1, 1]               0\n",
      "          Conv2d-197             [-1, 56, 1, 1]          37,688\n",
      "            SiLU-198             [-1, 56, 1, 1]               0\n",
      "          Conv2d-199            [-1, 672, 1, 1]          38,304\n",
      "         Sigmoid-200            [-1, 672, 1, 1]               0\n",
      "SqueezeExcitation-201            [-1, 672, 7, 7]               0\n",
      "          Conv2d-202            [-1, 192, 7, 7]         129,216\n",
      "     BatchNorm2d-203            [-1, 192, 7, 7]             384\n",
      "          MBConv-204            [-1, 192, 7, 7]               0\n",
      "          Conv2d-205           [-1, 1152, 7, 7]       1,991,808\n",
      "     BatchNorm2d-206           [-1, 1152, 7, 7]           2,304\n",
      "            SiLU-207           [-1, 1152, 7, 7]               0\n",
      "       ConvBlock-208           [-1, 1152, 7, 7]               0\n",
      "          Conv2d-209           [-1, 1152, 7, 7]          29,952\n",
      "     BatchNorm2d-210           [-1, 1152, 7, 7]           2,304\n",
      "            SiLU-211           [-1, 1152, 7, 7]               0\n",
      "       ConvBlock-212           [-1, 1152, 7, 7]               0\n",
      "AdaptiveAvgPool2d-213           [-1, 1152, 1, 1]               0\n",
      "          Conv2d-214             [-1, 96, 1, 1]         110,688\n",
      "            SiLU-215             [-1, 96, 1, 1]               0\n",
      "          Conv2d-216           [-1, 1152, 1, 1]         111,744\n",
      "         Sigmoid-217           [-1, 1152, 1, 1]               0\n",
      "SqueezeExcitation-218           [-1, 1152, 7, 7]               0\n",
      "          Conv2d-219            [-1, 192, 7, 7]         221,376\n",
      "     BatchNorm2d-220            [-1, 192, 7, 7]             384\n",
      "          MBConv-221            [-1, 192, 7, 7]               0\n",
      "          Conv2d-222           [-1, 1152, 7, 7]       1,991,808\n",
      "     BatchNorm2d-223           [-1, 1152, 7, 7]           2,304\n",
      "            SiLU-224           [-1, 1152, 7, 7]               0\n",
      "       ConvBlock-225           [-1, 1152, 7, 7]               0\n",
      "          Conv2d-226           [-1, 1152, 7, 7]          29,952\n",
      "     BatchNorm2d-227           [-1, 1152, 7, 7]           2,304\n",
      "            SiLU-228           [-1, 1152, 7, 7]               0\n",
      "       ConvBlock-229           [-1, 1152, 7, 7]               0\n",
      "AdaptiveAvgPool2d-230           [-1, 1152, 1, 1]               0\n",
      "          Conv2d-231             [-1, 96, 1, 1]         110,688\n",
      "            SiLU-232             [-1, 96, 1, 1]               0\n",
      "          Conv2d-233           [-1, 1152, 1, 1]         111,744\n",
      "         Sigmoid-234           [-1, 1152, 1, 1]               0\n",
      "SqueezeExcitation-235           [-1, 1152, 7, 7]               0\n",
      "          Conv2d-236            [-1, 192, 7, 7]         221,376\n",
      "     BatchNorm2d-237            [-1, 192, 7, 7]             384\n",
      "          MBConv-238            [-1, 192, 7, 7]               0\n",
      "          Conv2d-239           [-1, 1152, 7, 7]       1,991,808\n",
      "     BatchNorm2d-240           [-1, 1152, 7, 7]           2,304\n",
      "            SiLU-241           [-1, 1152, 7, 7]               0\n",
      "       ConvBlock-242           [-1, 1152, 7, 7]               0\n",
      "          Conv2d-243           [-1, 1152, 7, 7]          29,952\n",
      "     BatchNorm2d-244           [-1, 1152, 7, 7]           2,304\n",
      "            SiLU-245           [-1, 1152, 7, 7]               0\n",
      "       ConvBlock-246           [-1, 1152, 7, 7]               0\n",
      "AdaptiveAvgPool2d-247           [-1, 1152, 1, 1]               0\n",
      "          Conv2d-248             [-1, 96, 1, 1]         110,688\n",
      "            SiLU-249             [-1, 96, 1, 1]               0\n",
      "          Conv2d-250           [-1, 1152, 1, 1]         111,744\n",
      "         Sigmoid-251           [-1, 1152, 1, 1]               0\n",
      "SqueezeExcitation-252           [-1, 1152, 7, 7]               0\n",
      "          Conv2d-253            [-1, 192, 7, 7]         221,376\n",
      "     BatchNorm2d-254            [-1, 192, 7, 7]             384\n",
      "          MBConv-255            [-1, 192, 7, 7]               0\n",
      "          Conv2d-256           [-1, 1152, 7, 7]       1,991,808\n",
      "     BatchNorm2d-257           [-1, 1152, 7, 7]           2,304\n",
      "            SiLU-258           [-1, 1152, 7, 7]               0\n",
      "       ConvBlock-259           [-1, 1152, 7, 7]               0\n",
      "          Conv2d-260           [-1, 1152, 7, 7]          11,520\n",
      "     BatchNorm2d-261           [-1, 1152, 7, 7]           2,304\n",
      "            SiLU-262           [-1, 1152, 7, 7]               0\n",
      "       ConvBlock-263           [-1, 1152, 7, 7]               0\n",
      "AdaptiveAvgPool2d-264           [-1, 1152, 1, 1]               0\n",
      "          Conv2d-265             [-1, 96, 1, 1]         110,688\n",
      "            SiLU-266             [-1, 96, 1, 1]               0\n",
      "          Conv2d-267           [-1, 1152, 1, 1]         111,744\n",
      "         Sigmoid-268           [-1, 1152, 1, 1]               0\n",
      "SqueezeExcitation-269           [-1, 1152, 7, 7]               0\n",
      "          Conv2d-270            [-1, 320, 7, 7]         368,960\n",
      "     BatchNorm2d-271            [-1, 320, 7, 7]             640\n",
      "          MBConv-272            [-1, 320, 7, 7]               0\n",
      "          Conv2d-273           [-1, 1280, 7, 7]         410,880\n",
      "     BatchNorm2d-274           [-1, 1280, 7, 7]           2,560\n",
      "            SiLU-275           [-1, 1280, 7, 7]               0\n",
      "       ConvBlock-276           [-1, 1280, 7, 7]               0\n",
      "AdaptiveAvgPool2d-277           [-1, 1280, 1, 1]               0\n",
      "         Flatten-278                 [-1, 1280]               0\n",
      "         Dropout-279                 [-1, 1280]               0\n",
      "          Linear-280                 [-1, 1024]       1,311,744\n",
      "          Linear-281                  [-1, 512]         524,800\n",
      "            ReLU-282                  [-1, 512]               0\n",
      "          Linear-283                  [-1, 128]          65,664\n",
      "            ReLU-284                  [-1, 128]               0\n",
      "          Linear-285                   [-1, 32]           4,128\n",
      "            ReLU-286                   [-1, 32]               0\n",
      "          Linear-287                    [-1, 7]             231\n",
      "            ReLU-288                    [-1, 7]               0\n",
      "================================================================\n",
      "Total params: 16,589,711\n",
      "Trainable params: 16,589,711\n",
      "Non-trainable params: 0\n",
      "----------------------------------------------------------------\n",
      "Input size (MB): 0.57\n",
      "Forward/backward pass size (MB): 219.05\n",
      "Params size (MB): 63.28\n",
      "Estimated Total Size (MB): 282.91\n",
      "----------------------------------------------------------------\n"
     ]
    }
   ],
   "source": [
    "## Generate model summary\n",
    "\n",
    "summary(model_2.model, (3, 224, 224))"
   ]
  },
  {
   "cell_type": "code",
   "execution_count": 26,
   "id": "59dceb39",
   "metadata": {},
   "outputs": [
    {
     "name": "stdout",
     "output_type": "stream",
     "text": [
      "\n",
      "Epoch 1 / 19: ---------------------------\n"
     ]
    },
    {
     "name": "stderr",
     "output_type": "stream",
     "text": [
      "Training Model on Num Batches: 100%|██████████| 898/898 [01:45<00:00,  8.49it/s]\n",
      "Testing Model: 100%|██████████| 113/113 [00:08<00:00, 12.74it/s]\n"
     ]
    },
    {
     "name": "stdout",
     "output_type": "stream",
     "text": [
      "\n",
      "Train loss: 1.8276, Train acc: 24.78%\n",
      "Test loss: 1.8301, Test acc: 24.53%\n",
      "\n",
      "\n",
      "Epoch 2 / 19: ---------------------------\n"
     ]
    },
    {
     "name": "stderr",
     "output_type": "stream",
     "text": [
      "Training Model on Num Batches: 100%|██████████| 898/898 [01:45<00:00,  8.53it/s]\n",
      "Testing Model: 100%|██████████| 113/113 [00:07<00:00, 14.29it/s]\n"
     ]
    },
    {
     "name": "stdout",
     "output_type": "stream",
     "text": [
      "\n",
      "Train loss: 1.8163, Train acc: 25.11%\n",
      "Test loss: 1.8185, Test acc: 24.53%\n",
      "\n",
      "\n",
      "Epoch 3 / 19: ---------------------------\n"
     ]
    },
    {
     "name": "stderr",
     "output_type": "stream",
     "text": [
      "Training Model on Num Batches: 100%|██████████| 898/898 [01:45<00:00,  8.53it/s]\n",
      "Testing Model: 100%|██████████| 113/113 [00:08<00:00, 13.90it/s]\n"
     ]
    },
    {
     "name": "stdout",
     "output_type": "stream",
     "text": [
      "\n",
      "Train loss: 1.8122, Train acc: 24.97%\n",
      "Test loss: 1.8060, Test acc: 24.53%\n",
      "\n",
      "\n",
      "Epoch 4 / 19: ---------------------------\n"
     ]
    },
    {
     "name": "stderr",
     "output_type": "stream",
     "text": [
      "Training Model on Num Batches: 100%|██████████| 898/898 [01:45<00:00,  8.52it/s]\n",
      "Testing Model: 100%|██████████| 113/113 [00:08<00:00, 13.55it/s]\n"
     ]
    },
    {
     "name": "stdout",
     "output_type": "stream",
     "text": [
      "\n",
      "Train loss: 1.7909, Train acc: 24.90%\n",
      "Test loss: 1.7883, Test acc: 25.22%\n",
      "\n",
      "\n",
      "Epoch 5 / 19: ---------------------------\n"
     ]
    },
    {
     "name": "stderr",
     "output_type": "stream",
     "text": [
      "Training Model on Num Batches: 100%|██████████| 898/898 [01:45<00:00,  8.51it/s]\n",
      "Testing Model: 100%|██████████| 113/113 [00:08<00:00, 13.32it/s]\n"
     ]
    },
    {
     "name": "stdout",
     "output_type": "stream",
     "text": [
      "\n",
      "Train loss: 1.7667, Train acc: 26.98%\n",
      "Test loss: 1.7714, Test acc: 28.55%\n",
      "\n",
      "\n",
      "Epoch 6 / 19: ---------------------------\n"
     ]
    },
    {
     "name": "stderr",
     "output_type": "stream",
     "text": [
      "Training Model on Num Batches: 100%|██████████| 898/898 [01:45<00:00,  8.51it/s]\n",
      "Testing Model: 100%|██████████| 113/113 [00:08<00:00, 13.05it/s]\n"
     ]
    },
    {
     "name": "stdout",
     "output_type": "stream",
     "text": [
      "\n",
      "Train loss: 1.6945, Train acc: 30.91%\n",
      "Test loss: 1.6830, Test acc: 32.96%\n",
      "\n",
      "\n",
      "Epoch 7 / 19: ---------------------------\n"
     ]
    },
    {
     "name": "stderr",
     "output_type": "stream",
     "text": [
      "Training Model on Num Batches: 100%|██████████| 898/898 [01:45<00:00,  8.52it/s]\n",
      "Testing Model: 100%|██████████| 113/113 [00:08<00:00, 12.57it/s]\n"
     ]
    },
    {
     "name": "stdout",
     "output_type": "stream",
     "text": [
      "\n",
      "Train loss: 1.6195, Train acc: 34.76%\n",
      "Test loss: 1.6270, Test acc: 35.96%\n",
      "\n",
      "\n",
      "Epoch 8 / 19: ---------------------------\n"
     ]
    },
    {
     "name": "stderr",
     "output_type": "stream",
     "text": [
      "Training Model on Num Batches: 100%|██████████| 898/898 [01:45<00:00,  8.52it/s]\n",
      "Testing Model: 100%|██████████| 113/113 [00:09<00:00, 12.46it/s]\n"
     ]
    },
    {
     "name": "stdout",
     "output_type": "stream",
     "text": [
      "\n",
      "Train loss: 1.5720, Train acc: 36.96%\n",
      "Test loss: 1.5759, Test acc: 37.55%\n",
      "\n",
      "\n",
      "Epoch 9 / 19: ---------------------------\n"
     ]
    },
    {
     "name": "stderr",
     "output_type": "stream",
     "text": [
      "Training Model on Num Batches: 100%|██████████| 898/898 [01:45<00:00,  8.52it/s]\n",
      "Testing Model: 100%|██████████| 113/113 [00:09<00:00, 12.19it/s]\n"
     ]
    },
    {
     "name": "stdout",
     "output_type": "stream",
     "text": [
      "\n",
      "Train loss: 1.5418, Train acc: 38.07%\n",
      "Test loss: 1.5486, Test acc: 37.85%\n",
      "\n",
      "\n",
      "Epoch 10 / 19: ---------------------------\n"
     ]
    },
    {
     "name": "stderr",
     "output_type": "stream",
     "text": [
      "Training Model on Num Batches: 100%|██████████| 898/898 [01:46<00:00,  8.39it/s]\n",
      "Testing Model: 100%|██████████| 113/113 [00:10<00:00, 10.91it/s]\n"
     ]
    },
    {
     "name": "stdout",
     "output_type": "stream",
     "text": [
      "\n",
      "Train loss: 1.4935, Train acc: 39.74%\n",
      "Test loss: 1.4558, Test acc: 40.67%\n",
      "\n",
      "\n",
      "Epoch 11 / 19: ---------------------------\n"
     ]
    },
    {
     "name": "stderr",
     "output_type": "stream",
     "text": [
      "Training Model on Num Batches: 100%|██████████| 898/898 [01:48<00:00,  8.31it/s]\n",
      "Testing Model: 100%|██████████| 113/113 [00:11<00:00, 10.27it/s]\n"
     ]
    },
    {
     "name": "stdout",
     "output_type": "stream",
     "text": [
      "\n",
      "Train loss: 1.4466, Train acc: 41.29%\n",
      "Test loss: 1.4289, Test acc: 41.42%\n",
      "\n",
      "\n",
      "Epoch 12 / 19: ---------------------------\n"
     ]
    },
    {
     "name": "stderr",
     "output_type": "stream",
     "text": [
      "Training Model on Num Batches: 100%|██████████| 898/898 [01:47<00:00,  8.32it/s]\n",
      "Testing Model: 100%|██████████| 113/113 [00:10<00:00, 10.82it/s]\n"
     ]
    },
    {
     "name": "stdout",
     "output_type": "stream",
     "text": [
      "\n",
      "Train loss: 1.4096, Train acc: 42.35%\n",
      "Test loss: 1.4418, Test acc: 42.14%\n",
      "\n",
      "\n",
      "Epoch 13 / 19: ---------------------------\n"
     ]
    },
    {
     "name": "stderr",
     "output_type": "stream",
     "text": [
      "Training Model on Num Batches: 100%|██████████| 898/898 [01:45<00:00,  8.54it/s]\n",
      "Testing Model: 100%|██████████| 113/113 [00:10<00:00, 10.68it/s]\n"
     ]
    },
    {
     "name": "stdout",
     "output_type": "stream",
     "text": [
      "\n",
      "Train loss: 1.3780, Train acc: 43.33%\n",
      "Test loss: 1.4297, Test acc: 42.03%\n",
      "\n",
      "\n",
      "Epoch 14 / 19: ---------------------------\n"
     ]
    },
    {
     "name": "stderr",
     "output_type": "stream",
     "text": [
      "Training Model on Num Batches: 100%|██████████| 898/898 [01:45<00:00,  8.50it/s]\n",
      "Testing Model: 100%|██████████| 113/113 [00:11<00:00, 10.13it/s]\n"
     ]
    },
    {
     "name": "stdout",
     "output_type": "stream",
     "text": [
      "\n",
      "Train loss: 1.3456, Train acc: 44.19%\n",
      "Test loss: 1.4039, Test acc: 42.36%\n",
      "\n",
      "\n",
      "Epoch 15 / 19: ---------------------------\n"
     ]
    },
    {
     "name": "stderr",
     "output_type": "stream",
     "text": [
      "Training Model on Num Batches: 100%|██████████| 898/898 [01:45<00:00,  8.49it/s]\n",
      "Testing Model: 100%|██████████| 113/113 [00:11<00:00,  9.90it/s]\n"
     ]
    },
    {
     "name": "stdout",
     "output_type": "stream",
     "text": [
      "\n",
      "Train loss: 1.3173, Train acc: 45.06%\n",
      "Test loss: 1.4020, Test acc: 42.44%\n",
      "\n",
      "\n",
      "Epoch 16 / 19: ---------------------------\n"
     ]
    },
    {
     "name": "stderr",
     "output_type": "stream",
     "text": [
      "Training Model on Num Batches: 100%|██████████| 898/898 [01:46<00:00,  8.44it/s]\n",
      "Testing Model: 100%|██████████| 113/113 [00:11<00:00,  9.50it/s]\n"
     ]
    },
    {
     "name": "stdout",
     "output_type": "stream",
     "text": [
      "\n",
      "Train loss: 1.2955, Train acc: 45.86%\n",
      "Test loss: 1.5095, Test acc: 41.37%\n",
      "\n",
      "\n",
      "Epoch 17 / 19: ---------------------------\n"
     ]
    },
    {
     "name": "stderr",
     "output_type": "stream",
     "text": [
      "Training Model on Num Batches: 100%|██████████| 898/898 [01:47<00:00,  8.37it/s]\n",
      "Testing Model: 100%|██████████| 113/113 [00:12<00:00,  9.06it/s]\n"
     ]
    },
    {
     "name": "stdout",
     "output_type": "stream",
     "text": [
      "\n",
      "Train loss: 1.2677, Train acc: 46.72%\n",
      "Test loss: 1.4099, Test acc: 43.30%\n",
      "\n",
      "\n",
      "Epoch 18 / 19: ---------------------------\n"
     ]
    },
    {
     "name": "stderr",
     "output_type": "stream",
     "text": [
      "Training Model on Num Batches: 100%|██████████| 898/898 [01:48<00:00,  8.26it/s]\n",
      "Testing Model: 100%|██████████| 113/113 [00:12<00:00,  9.12it/s]\n"
     ]
    },
    {
     "name": "stdout",
     "output_type": "stream",
     "text": [
      "\n",
      "Train loss: 1.2423, Train acc: 47.79%\n",
      "Test loss: 1.4422, Test acc: 44.52%\n",
      "\n",
      "\n",
      "Epoch 19 / 19: ---------------------------\n"
     ]
    },
    {
     "name": "stderr",
     "output_type": "stream",
     "text": [
      "Training Model on Num Batches: 100%|██████████| 898/898 [01:51<00:00,  8.04it/s]\n",
      "Testing Model: 100%|██████████| 113/113 [00:12<00:00,  8.76it/s]"
     ]
    },
    {
     "name": "stdout",
     "output_type": "stream",
     "text": [
      "\n",
      "Train loss: 1.2194, Train acc: 48.59%\n",
      "Test loss: 1.4204, Test acc: 44.14%\n",
      "\n",
      "\n",
      "-------Model has finished training-------\n",
      "\n"
     ]
    },
    {
     "name": "stderr",
     "output_type": "stream",
     "text": [
      "\n"
     ]
    }
   ],
   "source": [
    "## Start training and testing loop\n",
    "\n",
    "model_2.model, model_2.history = model_train_test(model=model_2.model,\n",
    "                                                  epochs=model_2.epochs,\n",
    "                                                  train_loader=model_2.train_loader,\n",
    "                                                  test_loader=model_2.test_loader,\n",
    "                                                  device=model_2.device,\n",
    "                                                  lossFn=model_2.lossFn,\n",
    "                                                  accFn=model_2.accFn,\n",
    "                                                  optimizer=model_2.optimizer)"
   ]
  },
  {
   "cell_type": "code",
   "execution_count": 27,
   "id": "27868f33",
   "metadata": {},
   "outputs": [
    {
     "name": "stdout",
     "output_type": "stream",
     "text": [
      "\n",
      "model_2's setting has been saved.\n",
      "\n",
      "\n",
      "model_2's state file has been successfully saved.\n",
      "\n",
      "model_2 has been successfully saved.\n",
      "\n",
      "model_2's training history has been saved.\n",
      "\n",
      "train_loss\n",
      "1. 1.8276\n",
      "2. 1.8163\n",
      "3. 1.8122\n",
      "4. 1.7909\n",
      "5. 1.7667\n",
      "6. 1.6945\n",
      "7. 1.6195\n",
      "8. 1.5720\n",
      "9. 1.5418\n",
      "10. 1.4935\n",
      "11. 1.4466\n",
      "12. 1.4096\n",
      "13. 1.3780\n",
      "14. 1.3456\n",
      "15. 1.3173\n",
      "16. 1.2955\n",
      "17. 1.2677\n",
      "18. 1.2423\n",
      "19. 1.2194\n",
      "\n",
      "train_acc\n",
      "1. 24.7787\n",
      "2. 25.1093\n",
      "3. 24.9666\n",
      "4. 24.9040\n",
      "5. 26.9780\n",
      "6. 30.9117\n",
      "7. 34.7585\n",
      "8. 36.9550\n",
      "9. 38.0735\n",
      "10. 39.7383\n",
      "11. 41.2904\n",
      "12. 42.3483\n",
      "13. 43.3261\n",
      "14. 44.1926\n",
      "15. 45.0557\n",
      "16. 45.8582\n",
      "17. 46.7240\n",
      "18. 47.7909\n",
      "19. 48.5878\n",
      "\n",
      "test_loss\n",
      "1. 1.8301\n",
      "2. 1.8185\n",
      "3. 1.8060\n",
      "4. 1.7883\n",
      "5. 1.7714\n",
      "6. 1.6830\n",
      "7. 1.6270\n",
      "8. 1.5759\n",
      "9. 1.5486\n",
      "10. 1.4558\n",
      "11. 1.4289\n",
      "12. 1.4418\n",
      "13. 1.4297\n",
      "14. 1.4039\n",
      "15. 1.4020\n",
      "16. 1.5095\n",
      "17. 1.4099\n",
      "18. 1.4422\n",
      "19. 1.4204\n",
      "\n",
      "test_acc\n",
      "1. 24.5299\n",
      "2. 24.5299\n",
      "3. 24.5299\n",
      "4. 25.2157\n",
      "5. 28.5509\n",
      "6. 32.9591\n",
      "7. 35.9624\n",
      "8. 37.5498\n",
      "9. 37.8540\n",
      "10. 40.6748\n",
      "11. 41.4215\n",
      "12. 42.1405\n",
      "13. 42.0299\n",
      "14. 42.3617\n",
      "15. 42.4447\n",
      "16. 41.3661\n",
      "17. 43.3020\n",
      "18. 44.5188\n",
      "19. 44.1427\n",
      "\n"
     ]
    }
   ],
   "source": [
    "## Saving model settings, model files and model metrics\n",
    "\n",
    "save_modelSettings(modelSettings, model_2.model_name)\n",
    "\n",
    "save_model_and_modelWeights(model_2.model, model_2.model_name)\n",
    "\n",
    "show_and_save_trainTest_history(model_2.history, model_2.model_name)"
   ]
  },
  {
   "cell_type": "code",
   "execution_count": null,
   "id": "a81a64f7",
   "metadata": {},
   "outputs": [],
   "source": [
    "\"\"\"\n",
    "From the data seen in the model_2, the model is has reached its convergence and min loss at epoch 18:\n",
    "    --> After that the model's train and test loss starts to decline\n",
    "\n",
    "This occurs due to the lack of transfer learning:\n",
    "    --> Why we can't do transfer learning on this model? Because we are limited to:\n",
    "            ==> Writing the model from scratch which hinders the ability to import pre-trained weights customized by libraries\n",
    "            \n",
    "            ==> You surely think we can try pre-training it with the same dataset the journal used to match its results:\n",
    "                --> The original architecture is pre-trained on the Imagenet dataset which contains 1.3 million images. \n",
    "                --> Too resource and time-consuming to pre-trained it on such a large dataset\n",
    "                \n",
    "                --> \"BUT YOU CAN TRY IN ON A SMALLER SCALE OF THE DATASET TO TRY AND MAKE IT RUN, YOU ARE JUST MAKING EXCUSES.\":\n",
    "                    --> 1. More than 65 hours have been spent on doing this project just from me (Just from coding & not including report writing). Not accumulating from my other team members.\n",
    "                    --> 2. Incentive of work/time/resources spent does not match the expected output (Too much required but only 50% for a 3 credit course.)\n",
    "\n",
    "    --> Sadly due to the limitations of our time and resources. This is not a viable method.\n",
    "    --> We are unable to utilize the transfer learning technique onto this project.\n",
    "\n",
    "    --> Please direct any enquires or question to me if you are unsatisfied with this project. (AIT2309959@xmu.edu.my) \n",
    "        --> I will be pleased to answer my part at any time and any place.\n",
    "\"\"\""
   ]
  }
 ],
 "metadata": {
  "kernelspec": {
   "display_name": "Python 3",
   "language": "python",
   "name": "python3"
  },
  "language_info": {
   "codemirror_mode": {
    "name": "ipython",
    "version": 3
   },
   "file_extension": ".py",
   "mimetype": "text/x-python",
   "name": "python",
   "nbconvert_exporter": "python",
   "pygments_lexer": "ipython3",
   "version": "3.13.3"
  }
 },
 "nbformat": 4,
 "nbformat_minor": 5
}
