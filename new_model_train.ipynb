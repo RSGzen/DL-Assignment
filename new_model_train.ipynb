{
 "cells": [
  {
   "cell_type": "code",
   "execution_count": 76,
   "id": "e97bd584",
   "metadata": {},
   "outputs": [],
   "source": [
    "import torch \n",
    "import torch.nn as nn\n",
    "from torchvision.transforms import v2, ToTensor\n",
    "from torchvision.datasets import ImageFolder\n",
    "from torch.utils.data import DataLoader\n",
    "from torchsummary import summary\n",
    "from torchmetrics import Accuracy\n",
    "\n",
    "from sklearn.metrics import classification_report\n",
    "from sklearn.model_selection import KFold\n",
    "\n",
    "from tqdm import tqdm\n",
    "import matplotlib.pyplot as plt\n",
    "import os\n",
    "import json\n",
    "from math import ceil"
   ]
  },
  {
   "cell_type": "code",
   "execution_count": 77,
   "id": "ba6ea972",
   "metadata": {},
   "outputs": [],
   "source": [
    "basic_mb_params = [\n",
    "    # Expand ratio, out channels, num layers, stride, kernel_size\n",
    "    # k, c, t, s, k\n",
    "    [1, 16, 1, 1, 3],\n",
    "    [6, 24, 2, 2, 3],\n",
    "    [6, 40, 2, 2, 5],\n",
    "    [6, 80, 3, 2, 3],\n",
    "    [6, 112, 3, 1, 5],\n",
    "    [6, 192, 4, 2, 5],\n",
    "    [6, 320, 1, 1, 3],\n",
    "]\n",
    "\n",
    "alpha, beta = 1.2, 1.1\n",
    "\n",
    "scale_values = {\n",
    "    # (Phi, resolution, dropout)\n",
    "\n",
    "    \"b0\": (0, 224, 0.2),\n",
    "    \"b1\": (0.5, 240, 0.2),\n",
    "    \"b2\": (1, 260, 0.3),\n",
    "    \"b3\": (2, 300, 0.3),\n",
    "    \"b4\": (3, 380, 0.4),\n",
    "    \"b5\": (4, 456, 0.4),\n",
    "    \"b6\": (5, 528, 0.5),\n",
    "    \"b7\": (6, 600, 0.5),\n",
    "}"
   ]
  },
  {
   "cell_type": "code",
   "execution_count": 78,
   "id": "3a38b3d4",
   "metadata": {},
   "outputs": [],
   "source": [
    "\"\"\"\n",
    "Fundamental convolution block:\n",
    "    1 ==> Convolution layer\n",
    "    2 ==> Batch normalization\n",
    "    3 ==> Silu activation function\n",
    "\"\"\"\n",
    "\n",
    "class ConvBlock(nn.Module):\n",
    "    \n",
    "    def __init__(self, in_channels, out_channels, kernel_size, stride, padding, groups=1):\n",
    "        super(ConvBlock, self).__init__()\n",
    "\n",
    "        self.block = nn.Sequential(\n",
    "            \n",
    "            nn.Conv2d(in_channels=in_channels,\n",
    "                      out_channels=out_channels,\n",
    "                      kernel_size=kernel_size,\n",
    "                      stride=stride,\n",
    "                      padding=padding,\n",
    "                      groups=groups), # Specified to control how convolution is applied to input\n",
    "                                      # If group = 1, kernel is applied to one channel only\n",
    "                                      # if group = input channel, kernel is applied to one channel only\n",
    "\n",
    "            nn.BatchNorm2d(out_channels),\n",
    "            nn.SiLU()\n",
    "        )\n",
    "    \n",
    "    def forward(self, x):\n",
    "        return self.block(x)"
   ]
  },
  {
   "cell_type": "code",
   "execution_count": 79,
   "id": "a414057f",
   "metadata": {},
   "outputs": [],
   "source": [
    "\"\"\"\n",
    "Squeeze and Excitation Block:\n",
    "    Goal: To enhance feature representation by selectively amplifying important channels\n",
    "    Mechanism: Take number of input channels as input and applying adaptive pooling to condense spatial dimensions\n",
    "\"\"\"\n",
    "\n",
    "class SqueezeExcitation(nn.Module):\n",
    "    def __init__(self, in_channels, reduced_dim):\n",
    "        super(SqueezeExcitation, self).__init__()\n",
    "        \n",
    "        self.se = nn.Sequential(\n",
    "            nn.AdaptiveAvgPool2d(1),  # C x H x W -> C x 1 x 1\n",
    "            nn.Conv2d(in_channels, reduced_dim, 1),\n",
    "            nn.SiLU(),\n",
    "            nn.Conv2d(reduced_dim, in_channels, 1),\n",
    "            nn.Sigmoid(),\n",
    "        )\n",
    "\n",
    "    def forward(self, x):\n",
    "        return x * self.se(x)"
   ]
  },
  {
   "cell_type": "code",
   "execution_count": 80,
   "id": "9811b122",
   "metadata": {},
   "outputs": [],
   "source": [
    "\"\"\"\n",
    "MobileNet-style Convolution Block (MBConv):\n",
    "    Depthwise separable convolutions\n",
    "    Squeeze-and-excitation block (SE)\n",
    "\"\"\"\n",
    "\n",
    "class MBConv(nn.Module):\n",
    "\n",
    "    def __init__(self, in_channels, out_channels, kernel_size, stride, padding, ratio, reduction=2):\n",
    "        super(MBConv, self).__init__()\n",
    "\n",
    "        hidden_dim = in_channels * ratio\n",
    "        self.expand = in_channels != hidden_dim\n",
    "\n",
    "        # Squeeze and excitation block\n",
    "        reduced_dim = int(in_channels / reduction)\n",
    "\n",
    "        if self.expand:\n",
    "            self.expand_conv = ConvBlock(in_channels=in_channels,\n",
    "                                         out_channels=hidden_dim,\n",
    "                                         kernel_size=3,\n",
    "                                         stride=1,\n",
    "                                         padding=1)\n",
    "        \n",
    "        self.conv = nn.Sequential(\n",
    "            ConvBlock(in_channels=hidden_dim,\n",
    "                      out_channels=hidden_dim,\n",
    "                      kernel_size=kernel_size,\n",
    "                      stride=stride,\n",
    "                      padding=padding,\n",
    "                      groups=hidden_dim),\n",
    "\n",
    "            SqueezeExcitation(in_channels=hidden_dim,\n",
    "                              reduced_dim=reduced_dim),\n",
    "\n",
    "            nn.Conv2d(in_channels=hidden_dim,\n",
    "                      out_channels=out_channels,\n",
    "                      kernel_size=1),\n",
    "\n",
    "            nn.BatchNorm2d(out_channels)\n",
    "        )\n",
    "\n",
    "    def forward(self, inputs):\n",
    "        if self.expand:\n",
    "            x = self.expand_conv(inputs)\n",
    "        else:\n",
    "            x = inputs\n",
    "            \n",
    "        return self.conv(x)"
   ]
  },
  {
   "cell_type": "code",
   "execution_count": 81,
   "id": "aac5027c",
   "metadata": {},
   "outputs": [],
   "source": [
    "\"\"\"\n",
    "EfficientNet Class\n",
    "\"\"\"\n",
    "\n",
    "class EfficientNet(nn.Module):\n",
    "    def __init__(self, model_name, output, mb_params, dropout_newVal, linear_hiddenUnits_list=None):\n",
    "        super(EfficientNet, self).__init__()\n",
    "        \n",
    "        phi, resolution, dropout = scale_values[model_name]\n",
    "\n",
    "        if dropout_newVal != None:\n",
    "            dropout = dropout_newVal\n",
    "\n",
    "        if mb_params == None:\n",
    "            mb_params = basic_mb_params\n",
    "\n",
    "        self.mb_params = mb_params\n",
    "        self.depth_factor, self.width_factor = alpha**phi, beta**phi\n",
    "        self.last_channels = ceil(1280 * self.width_factor)\n",
    "        self.avgpool= nn.AdaptiveAvgPool2d(1)\n",
    "        self.feature_extractor()\n",
    "        self.flatten = nn.Flatten()\n",
    "        \n",
    "        if linear_hiddenUnits_list == None:\n",
    "            self.classifier = nn.Sequential(\n",
    "                nn.Dropout(p=dropout),\n",
    "                nn.Linear(in_features=self.last_channels,\n",
    "                        out_features=output),\n",
    "                nn.Softmax()\n",
    "            )\n",
    "\n",
    "        else:\n",
    "            feed_forward_network_layers = [nn.Dropout(p=dropout)]\n",
    "            feed_forward_network_layers.append(nn.Linear(self.last_channels, linear_hiddenUnits_list[0]))\n",
    "\n",
    "            for i in range(0, len(linear_hiddenUnits_list)-1):\n",
    "                feed_forward_network_layers.append(nn.Linear(linear_hiddenUnits_list[i], linear_hiddenUnits_list[i+1]))\n",
    "                feed_forward_network_layers.append(nn.ReLU())\n",
    "\n",
    "            feed_forward_network_layers.append(nn.Linear(linear_hiddenUnits_list[-1], output))\n",
    "            feed_forward_network_layers.append(nn.ReLU())\n",
    "\n",
    "            self.classifier = nn.Sequential(*feed_forward_network_layers)\n",
    "\n",
    "    def feature_extractor(self):\n",
    "        channels = int(32 * self.width_factor)\n",
    "        features = [ConvBlock(3, channels, 3, stride=2, padding=1)] # Stem convolution layer\n",
    "        in_channels = channels\n",
    "\n",
    "        for k, c_o, repeat, s, n in self.mb_params:\n",
    "            # For numeric stability, we multiply and divide by 4\n",
    "            out_channels = 4 * ceil(int(c_o * self.width_factor) / 4)\n",
    "            num_layers = ceil(repeat * self.depth_factor)\n",
    "\n",
    "            for layer in range(num_layers):\n",
    "                if layer == 0:\n",
    "                  stride = s\n",
    "                else:\n",
    "                  stride = 1\n",
    "                \n",
    "                features.append(\n",
    "                        MBConv(in_channels=in_channels,\n",
    "                               out_channels=out_channels,\n",
    "                               ratio=k,\n",
    "                               stride=stride,\n",
    "                               kernel_size=n,\n",
    "                               padding=(n//2))\n",
    "                )\n",
    "                in_channels = out_channels\n",
    "\n",
    "        features.append(\n",
    "            ConvBlock(in_channels=in_channels,\n",
    "                      out_channels=self.last_channels,\n",
    "                      kernel_size=1,\n",
    "                      stride=1,\n",
    "                      padding=0)\n",
    "        )\n",
    "        self.extractor = nn.Sequential(*features)\n",
    "\n",
    "    def forward(self, x):\n",
    "        x = self.avgpool(self.extractor(x))\n",
    "        \n",
    "        return self.classifier(self.flatten(x))"
   ]
  },
  {
   "cell_type": "code",
   "execution_count": 82,
   "id": "8ae20ace",
   "metadata": {},
   "outputs": [],
   "source": [
    "## Dictionary for encoding labels\n",
    "\n",
    "labelToNum_dict = {\n",
    "    \"angry\" : 0,\n",
    "    \"disgust\" : 1,\n",
    "    \"fear\" : 2,\n",
    "    \"happy\" : 3,\n",
    "    \"neutral\" : 4,\n",
    "    \"sad\" : 5,\n",
    "    \"surprise\" : 6,\n",
    "}\n",
    "\n",
    "numTolabel_dict = {\n",
    "    0 : \"angry\",\n",
    "    1 : \"disgust\",\n",
    "    2 : \"fear\",\n",
    "    3 : \"happy\",\n",
    "    4 : \"neutral\",\n",
    "    5 : \"sad\",\n",
    "    6: \"surprise\"\n",
    "}"
   ]
  },
  {
   "cell_type": "code",
   "execution_count": 83,
   "id": "3123708c",
   "metadata": {},
   "outputs": [],
   "source": [
    "def loadDataset(res, batch_size, datasetType):\n",
    "    base_dir = os.getcwd()\n",
    "    folder_dir = os.path.join(base_dir, \"processed_data\", datasetType)\n",
    "    \n",
    "    transformation = v2.Compose([\n",
    "        v2.ToImage(),\n",
    "        v2.ToDtype(torch.float32, scale=True), # Convert image to float ranging from 0 - 1\n",
    "        v2.Resize((res, res)),\n",
    "    ])\n",
    "\n",
    "    dataset = ImageFolder(folder_dir, transform=transformation)\n",
    "\n",
    "    loader = DataLoader(dataset, batch_size=batch_size, shuffle=True)\n",
    "\n",
    "    return loader\n"
   ]
  },
  {
   "cell_type": "code",
   "execution_count": 84,
   "id": "d4c3598c",
   "metadata": {},
   "outputs": [
    {
     "name": "stdout",
     "output_type": "stream",
     "text": [
      "Train features batch shape: torch.Size([32, 3, 224, 224])\n",
      "Train labels batch size: torch.Size([32])\n"
     ]
    },
    {
     "data": {
      "image/png": "[encoded data removed]",
      "text/plain": [
       "<Figure size 1200x700 with 2 Axes>"
      ]
     },
     "metadata": {},
     "output_type": "display_data"
    }
   ],
   "source": [
    "## New loading and testing train and validation datasets\n",
    "\n",
    "train_loader = loadDataset(224, 32, \"train\")\n",
    "val_loader = loadDataset(224, 32, \"validation\")\n",
    "\n",
    "x_train, y_train = next(iter(train_loader))\n",
    "x_val, y_val = next(iter(val_loader))\n",
    "\n",
    "print(f\"Train features batch shape: {x_train.size()}\")\n",
    "print(f\"Train labels batch size: {y_train.size()}\")\n",
    "\n",
    "imgTrain = x_train[0].squeeze()\n",
    "labelTrain = y_train[0]\n",
    "\n",
    "imgVal = x_val[0].squeeze()\n",
    "labelVal = y_val[0]\n",
    "\n",
    "fig = plt.figure(figsize=(12,7))\n",
    "\n",
    "plt.subplot(1,2,1)\n",
    "plt.imshow(imgTrain.permute(1,2,0))\n",
    "plt.title(numTolabel_dict[labelTrain.item()])\n",
    "\n",
    "plt.subplot(1,2,2)\n",
    "plt.imshow(imgVal.permute(1,2,0))\n",
    "plt.title(numTolabel_dict[labelVal.item()])\n",
    "plt.show()\n"
   ]
  },
  {
   "cell_type": "code",
   "execution_count": 85,
   "id": "9535c700",
   "metadata": {},
   "outputs": [],
   "source": [
    "def setHyperparameters(model_type, num_class, batchSize, learningRate, device, mb_params, newDropoutRate, optimChoice, linear_hiddenUnits_list=None):\n",
    "    \n",
    "    phi, resolution, dropout = scale_values[model_type]\n",
    "\n",
    "    train_loader = loadDataset(resolution, batchSize, \"train\")\n",
    "    test_loader = loadDataset(resolution, batchSize, \"test\")\n",
    "    val_loader = loadDataset(resolution, batchSize, \"validation\")\n",
    "\n",
    "    model = EfficientNet(model_name=model_type,\n",
    "                         output=num_class,\n",
    "                         mb_params=mb_params,\n",
    "                         dropout_newVal=newDropoutRate,\n",
    "                         linear_hiddenUnits_list=linear_hiddenUnits_list)\n",
    "    \n",
    "    model.to(device)\n",
    "\n",
    "    match (optimChoice):\n",
    "        case \"Adam\":\n",
    "            optimizer = torch.optim.Adam(model.parameters(), lr=learningRate)\n",
    "        \n",
    "        case \"AdamW\":\n",
    "            optimizer = torch.optim.AdamW(model.parameters(), lr=learningRate)\n",
    "        \n",
    "        case \"Adadelta\":\n",
    "            optimizer = torch.optim.Adadelta(model.parameters(), lr=learningRate)\n",
    "        \n",
    "        case \"SGD\":\n",
    "            optimizer = torch.optim.SGD(model.parameters(), lr=learningRate)\n",
    "        \n",
    "        case _:\n",
    "            print(\"ERROR. Optimizer choice inputted is not included in selection.\\n PLEASE RESET MODEL OPTIMIZER's CHOICE.\\n\")\n",
    "\n",
    "    return model, train_loader, test_loader, val_loader, optimizer"
   ]
  },
  {
   "cell_type": "code",
   "execution_count": 86,
   "id": "a0c4509b",
   "metadata": {},
   "outputs": [
    {
     "name": "stdout",
     "output_type": "stream",
     "text": [
      "Using GPU: NVIDIA GeForce RTX 4060 Ti\n"
     ]
    }
   ],
   "source": [
    "## Testing for whether CUDA is available for training\n",
    "\n",
    "if torch.cuda.is_available():\n",
    "    device = torch.device('cuda')\n",
    "    print(f\"Using GPU: {torch.cuda.get_device_name(0)}\")\n",
    "else:\n",
    "    device = torch.device('cpu')\n",
    "    print(\"CUDA not available. Using CPU.\")"
   ]
  },
  {
   "cell_type": "code",
   "execution_count": 87,
   "id": "8d2af9ba",
   "metadata": {},
   "outputs": [],
   "source": [
    "## Function for training model\n",
    "\n",
    "def train_model(model, train_loader, device, lossFn, accFn, optimizer):\n",
    "    \n",
    "    torch.manual_seed(42) # 42 is the answer to everything!\n",
    "    \n",
    "    train_loss, train_acc = 0, 0\n",
    "\n",
    "    for batch, (X, y) in enumerate(tqdm(train_loader, desc=\"Training Model on Num Batches\")):\n",
    "        model.train()\n",
    "\n",
    "        X, y = X.to(device), y.to(device)\n",
    "\n",
    "        # 1. Forward pass\n",
    "        y_pred = model(X) # Still in logits from (probabilities)\n",
    "\n",
    "        # 2. Calculate loss (per batch)\n",
    "        loss = lossFn(y_pred, y)\n",
    "        train_loss += loss\n",
    "        train_acc += accFn(y_pred.argmax(dim=1), y)\n",
    "\n",
    "        # 3. Optimizer zero grad\n",
    "        optimizer.zero_grad()\n",
    "\n",
    "        # 4. Loss backward\n",
    "        loss.backward()\n",
    "\n",
    "        # 5. Optimizer step\n",
    "        optimizer.step()\n",
    "    \n",
    "    # Divide total train loss and accuracy by length of train dataloader (average loss per batch per epoch)\n",
    "    train_loss /= len(train_loader)\n",
    "    train_acc /= len(train_loader)\n",
    "    train_acc *= 100\n",
    "\n",
    "    return model, optimizer, train_loss, train_acc"
   ]
  },
  {
   "cell_type": "code",
   "execution_count": 88,
   "id": "71eabb04",
   "metadata": {},
   "outputs": [],
   "source": [
    "## Function for testing model\n",
    "\n",
    "def test_model(model, test_loader, device, lossFn, accFn):\n",
    "    \n",
    "    torch.manual_seed(42)\n",
    "\n",
    "    test_loss, test_acc = 0, 0\n",
    "    model.eval()\n",
    "\n",
    "    with torch.inference_mode():\n",
    "        for batch, (X, y) in enumerate(tqdm(test_loader, desc=\"Testing Model\")):\n",
    "            \n",
    "            X, y = X.to(device), y.to(device)\n",
    "\n",
    "            # 1. Forward pass\n",
    "            test_pred = model(X)\n",
    "\n",
    "            # 2. Calculate loss (accumulatively)\n",
    "            test_loss += lossFn(test_pred, y)\n",
    "\n",
    "            # 3. Calculate accuracy (preds need to be same as y)\n",
    "            test_acc += accFn(test_pred.argmax(dim=1), y)\n",
    "        \n",
    "        # Divide total test loss by length of test dataloader (per batch)\n",
    "        test_loss /= len(test_loader)\n",
    "\n",
    "        # Divide total accuracy by length of test dataloader (per batch)\n",
    "        test_acc /= len(test_loader)\n",
    "\n",
    "        # Times 100 to make it into a percentage\n",
    "        test_acc *= 100\n",
    "    \n",
    "    return model, test_loss, test_acc"
   ]
  },
  {
   "cell_type": "code",
   "execution_count": 89,
   "id": "6676e323",
   "metadata": {},
   "outputs": [],
   "source": [
    "## Function for entire training and testing loop with data saving\n",
    "\n",
    "def model_train_test(model, epochs, train_loader, test_loader, device, lossFn, accFn, optimizer):\n",
    "    history = {\"train_loss\": [],\n",
    "               \"train_acc\": [],\n",
    "               \"test_loss\": [],\n",
    "               \"test_acc\": []}\n",
    "    \n",
    "    for epoch in range(0, epochs):\n",
    "\n",
    "        print(f\"\\nEpoch {epoch+1} / {epochs}: ---------------------------\")\n",
    "\n",
    "        ### Training\n",
    "        model, optimizer, train_loss, train_acc = train_model(model, train_loader, device, lossFn, accFn, optimizer)\n",
    "\n",
    "        ### Testing\n",
    "        model, test_loss, test_acc = test_model(model, test_loader, device, lossFn, accFn)\n",
    "        \n",
    "        print(f\"\\nTrain loss: {train_loss:.4f}, Train acc: {train_acc:.2f}%\")\n",
    "        print(f\"Test loss: {test_loss:.4f}, Test acc: {test_acc:.2f}%\\n\")\n",
    "\n",
    "        history[\"train_loss\"].append(train_loss)\n",
    "        history[\"train_acc\"].append(train_acc)\n",
    "        history[\"test_loss\"].append(test_loss)\n",
    "        history[\"test_acc\"].append(test_acc)\n",
    "    \n",
    "    print(\"\\n-------Model has finished training-------\\n\")\n",
    "    \n",
    "    return model, history\n",
    "    "
   ]
  },
  {
   "cell_type": "code",
   "execution_count": 90,
   "id": "d1cfc013",
   "metadata": {},
   "outputs": [],
   "source": [
    "## Function to save model and model weights\n",
    "\n",
    "def save_model_and_modelWeights(model, model_name):\n",
    "    base_path = os.getcwd()\n",
    "    folder_path = os.path.join(base_path, \"model_files\")\n",
    "\n",
    "    if not os.path.isdir(folder_path):\n",
    "        os.mkdir(folder_path)\n",
    "\n",
    "    model_path = os.path.join(folder_path, model_name)\n",
    "\n",
    "    if not os.path.isdir(model_path):\n",
    "        os.mkdir(model_path)\n",
    "\n",
    "    modelStateDictName = model_name + \"_weights.pth\"\n",
    "    modelEntireName = model_name + \".pth\"\n",
    "\n",
    "    modelStateDict_path = os.path.join(model_path, modelStateDictName)\n",
    "    modelEntire_path = os.path.join(model_path, modelEntireName)\n",
    "\n",
    "    # Save model's weight only\n",
    "    if os.path.isfile(modelStateDict_path):\n",
    "        print(f\"\\n{model_name} state dictionary file existed previously. New {model_name}'s state is not saved.\")\n",
    "    else:\n",
    "        torch.save(model.state_dict(), modelStateDict_path)\n",
    "        print(f\"\\n{model_name}'s state file has been successfully saved.\")\n",
    "\n",
    "    # Save entire model including layers and weights\n",
    "    if os.path.isfile(modelEntire_path):\n",
    "        print(f\"\\n{model_name} file existed previously. New {model_name} is not saved.\")\n",
    "    else:\n",
    "        torch.save(model, modelEntire_path)\n",
    "        print(f\"\\n{model_name} has been successfully saved.\")"
   ]
  },
  {
   "cell_type": "code",
   "execution_count": 91,
   "id": "c33fd122",
   "metadata": {},
   "outputs": [],
   "source": [
    "def save_modelSettings(model_settings, model_name):\n",
    "    base_path = os.getcwd()\n",
    "    folder_path = os.path.join(base_path, \"model_files\")\n",
    "\n",
    "    if not os.path.isdir(folder_path):\n",
    "        os.mkdir(folder_path)\n",
    "\n",
    "    model_path = os.path.join(folder_path, model_name)\n",
    "\n",
    "    if not os.path.isdir(model_path):\n",
    "        os.mkdir(model_path)\n",
    "    \n",
    "    json_path = os.path.join(model_path, model_name+\"_settings.json\")\n",
    "\n",
    "    if os.path.isfile(json_path):\n",
    "        print(f\"\\n{model_name}'s settings file existed previously. New {model_name}'s settings file is not saved.\\n\")\n",
    "\n",
    "    else:\n",
    "        with open(json_path, 'w') as file:\n",
    "            json.dump(model_settings, file)\n",
    "        \n",
    "        print(f\"\\n{model_name}'s setting has been saved.\\n\")"
   ]
  },
  {
   "cell_type": "code",
   "execution_count": 92,
   "id": "d685f92d",
   "metadata": {},
   "outputs": [],
   "source": [
    "## Function to show and save model history\n",
    "\n",
    "def show_and_save_trainTest_history(history, model_name):\n",
    "    base_path = os.getcwd()\n",
    "    folder_path = os.path.join(base_path, \"model_files\")\n",
    "\n",
    "    if not os.path.isdir(folder_path):\n",
    "        os.mkdir(folder_path)\n",
    "\n",
    "    model_path = os.path.join(folder_path, model_name)\n",
    "\n",
    "    if not os.path.isdir(model_path):\n",
    "        os.mkdir(model_path)\n",
    "    \n",
    "    json_path = os.path.join(model_path, model_name+\"_history.json\")\n",
    "\n",
    "    # Convert json in tensor to normal data\n",
    "\n",
    "    new_history = {}\n",
    "\n",
    "    for key, dataL in history.items():\n",
    "        new_history[key] = []\n",
    "        for i in range(0, len(dataL)):\n",
    "            new_history[key].append(dataL[i].item())\n",
    "\n",
    "    if os.path.isfile(json_path):\n",
    "        print(f\"\\n{model_name}'s history file existed previously. New {model_name}'s history file is not saved.\\n\")\n",
    "\n",
    "    else:\n",
    "        with open(json_path, 'w') as file:\n",
    "            json.dump(new_history, file)\n",
    "        \n",
    "        print(f\"\\n{model_name}'s training history has been saved.\\n\")\n",
    "\n",
    "    # Checking model's training history\n",
    "\n",
    "    for val_type in history:\n",
    "        print(val_type)\n",
    "        dataList = history[val_type]\n",
    "        for i in range(0, len(history[val_type])):\n",
    "            print(f\"{i+1}. {dataList[i]:.4f}\")\n",
    "        print(\"\")"
   ]
  },
  {
   "cell_type": "code",
   "execution_count": 93,
   "id": "b18d892b",
   "metadata": {},
   "outputs": [],
   "source": [
    "## Class for model hyperparameters and training settings\n",
    "\n",
    "class ModelSet:\n",
    "    def __init__(self, model_name, model_type, epochs, batchSize, learningRate, mb_params, newDropoutRate, optimChoice, linear_hiddenUnits_list):\n",
    "        self.model_name = model_name\n",
    "        self.model_type = model_type\n",
    "        self.num_class = 7\n",
    "        self.epochs = epochs\n",
    "        self.batchSize = batchSize\n",
    "        self.learningRate = learningRate\n",
    "        self.mb_params = mb_params\n",
    "        self.newDropoutRate = newDropoutRate\n",
    "        self.history = None\n",
    "        self.optimChoice = optimChoice\n",
    "        self.linear_hiddenUnits_list = linear_hiddenUnits_list\n",
    "    \n",
    "    def model_setup(self):\n",
    "        self.device = \"cuda\" if torch.cuda.is_available() else \"cpu\"\n",
    "\n",
    "        self.model, self.train_loader, self.test_loader, self.val_loader, self.optimizer = setHyperparameters(model_type=self.model_type,\n",
    "                                                                                                              num_class=self.num_class,\n",
    "                                                                                                              batchSize=self.batchSize,\n",
    "                                                                                                              learningRate=self.learningRate,\n",
    "                                                                                                              device=self.device,\n",
    "                                                                                                              mb_params=self.mb_params,\n",
    "                                                                                                              newDropoutRate=self.newDropoutRate,\n",
    "                                                                                                              optimChoice=self.optimChoice,\n",
    "                                                                                                              linear_hiddenUnits_list=self.linear_hiddenUnits_list)\n",
    "\n",
    "        self.lossFn = nn.CrossEntropyLoss()\n",
    "\n",
    "        self.accFn = Accuracy('multiclass', num_classes=self.num_class).to(self.device)\n",
    "    \n",
    "    ## Function to save model settings as json file\n",
    "\n",
    "    def generate_modelSettings_dict(self):\n",
    "\n",
    "        phi, res, ori_dp_rate = scale_values[self.model_type]\n",
    "\n",
    "        if self.newDropoutRate == None:\n",
    "            self.newDropoutRate = ori_dp_rate\n",
    "\n",
    "        modelSettings = {\"model_name\": self.model_name,\n",
    "                         \"model_type\": self.model_type,\n",
    "                         \"num_class\": 7,\n",
    "                         \"epochs\": self.epochs,\n",
    "                         \"batch_size\": self.batchSize,\n",
    "                         \"learning_rate\": self.learningRate,\n",
    "                         \"MBConv parameters\": self.mb_params,\n",
    "                         \"dropout_rate\": self.newDropoutRate,\n",
    "                         \"optimizer\": self.optimChoice,\n",
    "                         \"linear_layers_hidden_units\": self.linear_hiddenUnits_list,\n",
    "                         \"loss_function\": \"Cross Entropy Loss\"}\n",
    "        \n",
    "        return modelSettings"
   ]
  },
  {
   "cell_type": "code",
   "execution_count": 94,
   "id": "4667051d",
   "metadata": {},
   "outputs": [],
   "source": [
    "## Do not change this, only for reference!!\n",
    "basic_mb_params = [\n",
    "    # Expand ratio, out channels, num layers, stride, kernel_size\n",
    "    # k, c, t, s, k\n",
    "    [1, 16, 1, 1, 3],\n",
    "    [6, 24, 2, 2, 3],\n",
    "    [6, 40, 2, 2, 5],\n",
    "    [6, 80, 3, 2, 3],\n",
    "    [6, 112, 3, 1, 5],\n",
    "    [6, 192, 4, 2, 5],\n",
    "    [6, 320, 1, 1, 3],\n",
    "]\n",
    "\n",
    "## Change any settings you want on this one\n",
    "mb_params = [\n",
    "    # Expand ratio, out channels, num layers, stride, kernel_size\n",
    "    # k, c, t, s, k\n",
    "    [1, 16, 1, 1, 3],\n",
    "    [6, 24, 2, 2, 3],\n",
    "    [6, 40, 2, 2, 5],\n",
    "    [6, 80, 3, 2, 3],\n",
    "    [6, 112, 3, 1, 5],\n",
    "    [6, 192, 4, 2, 5],\n",
    "    [6, 320, 1, 1, 3],\n",
    "]\n",
    "\n",
    "## Do not change anything with it, only for reference!!\n",
    "scale_values = {\n",
    "    # (Phi, resolution, dropout)\n",
    "\n",
    "    \"b0\": (0, 224, 0.2),\n",
    "    \"b1\": (0.5, 240, 0.2),\n",
    "    \"b2\": (1, 260, 0.3),\n",
    "    \"b3\": (2, 300, 0.3),\n",
    "    \"b4\": (3, 380, 0.4),\n",
    "    \"b5\": (4, 456, 0.4),\n",
    "    \"b6\": (5, 528, 0.5),\n",
    "    \"b7\": (6, 600, 0.5),\n",
    "}"
   ]
  },
  {
   "cell_type": "code",
   "execution_count": 95,
   "id": "03f34953",
   "metadata": {},
   "outputs": [],
   "source": [
    "## Function for brute force grid-search hyperparameter tuning\n",
    "\n",
    "\"\"\"\n",
    "hyperparameters_lists --> Must be a dictionary with each hyperparameter as a key and the value must be a list of int/float/list with equal length\n",
    "\n",
    "Currently tunable hyperparameters --> epoch : Not to underfit / overfit\n",
    "                                  --> learningRate : Ensure model converges towards the global minimum\n",
    "                                  --> dropOutRate : Ensure model does not overfit and learn the actual features of the dataset given\n",
    "                                  --> linear_hiddenUnits_list : Ensure the feed-forward neural network can be beneficial in guessing the correct label\n",
    "\n",
    "Currently untunable hyperparameters --> model_type : EfficientNet-b0 architecture is sufficient for this project\n",
    "                                    --> batchSize : 32 is the sweet spot without risking underfit / overfit\n",
    "                                    --> mb_params : We would not change to model architecture due to it being optimal from the research paper \n",
    "                                                    (Would be resource-intensive and time-consuming to tune it anyways)\n",
    "                                    --> optimChoiceL : Adam is the most balanced and stable optimizer which does not suffer major decreases in performance when training model\n",
    "\n",
    "\"\"\"\n",
    "def hyperparameterGridSearch(hyperparameters_lists, num_sets):\n",
    "    \n",
    "    hyperparameter_history = {\"train_loss\": [],\n",
    "                              \"train_acc\" : [],\n",
    "                              \"val_loss\": [],\n",
    "                              \"val_acc\": []}\n",
    "    \n",
    "    for i in range(0, 7):\n",
    "\n",
    "        currentSet = hyperparameters_lists[i]\n",
    "\n",
    "        model_name = \"model_grid\" + str(i+1)\n",
    "\n",
    "        model_grid = ModelSet(model_name=model_name, # Change names if you want to save different versions of models\n",
    "                              model_type=\"b0\", # from b0 --> b7\n",
    "                              epochs=currentSet[0], \n",
    "                              batchSize=32, # Typically in the power of 2\n",
    "                              learningRate=currentSet[1], # Different choices for different optimizers\n",
    "                              mb_params=mb_params, # Can refer to previous block / If None, use basic_mb_params\n",
    "                              newDropoutRate=currentSet[2], # Can refer to previous block / If None, use basic dropout rate\n",
    "                              optimChoice=\"Adam\", # Available choice: Adam, AdamW, Adadelta, SGD\n",
    "                              linear_hiddenUnits_list=currentSet[3]) # Each value refers to an additional hidden Linear layer with x neuron before the final classification\n",
    "        \n",
    "        model_grid.model_setup()\n",
    "        \n",
    "        model_grid_Settings = model_grid.generate_modelSettings_dict()\n",
    "\n",
    "        model_grid.model, model_grid.history = model_train_test(model=model_grid.model,\n",
    "                                                                epochs=model_grid.epochs,\n",
    "                                                                train_loader=model_grid.train_loader,\n",
    "                                                                test_loader=model_grid.val_loader,\n",
    "                                                                device=model_grid.device,\n",
    "                                                                lossFn=model_grid.lossFn,\n",
    "                                                                accFn=model_grid.accFn,\n",
    "                                                                optimizer=model_grid.optimizer)\n",
    "\n",
    "        show_and_save_trainTest_history(model_grid.history, model_grid.model_name)\n",
    "        save_modelSettings(model_grid_Settings, model_grid.model_name)\n",
    "\n",
    "        \n",
    "        hyperparameter_history[\"train_loss\"].append((model_grid.history[\"train_loss\"])[-1])\n",
    "        hyperparameter_history[\"train_acc\"].append((model_grid.history[\"train_acc\"])[-1])\n",
    "\n",
    "        hyperparameter_history[\"val_loss\"].append((model_grid.history[\"test_loss\"])[-1])\n",
    "        hyperparameter_history[\"val_acc\"].append((model_grid.history[\"test_acc\"])[-1])\n",
    "    \n",
    "    return hyperparameter_history"
   ]
  },
  {
   "cell_type": "code",
   "execution_count": 96,
   "id": "5c0bb621",
   "metadata": {},
   "outputs": [
    {
     "name": "stdout",
     "output_type": "stream",
     "text": [
      "\n",
      "Epoch 1 / 15: ---------------------------\n"
     ]
    },
    {
     "name": "stderr",
     "output_type": "stream",
     "text": [
      "Training Model on Num Batches: 100%|██████████| 898/898 [01:46<00:00,  8.46it/s]\n",
      "Testing Model: 100%|██████████| 113/113 [00:08<00:00, 13.10it/s]\n"
     ]
    },
    {
     "name": "stdout",
     "output_type": "stream",
     "text": [
      "\n",
      "Train loss: 1.8852, Train acc: 24.75%\n",
      "Test loss: 1.9088, Test acc: 19.84%\n",
      "\n",
      "\n",
      "Epoch 2 / 15: ---------------------------\n"
     ]
    },
    {
     "name": "stderr",
     "output_type": "stream",
     "text": [
      "Training Model on Num Batches: 100%|██████████| 898/898 [01:45<00:00,  8.54it/s]\n",
      "Testing Model: 100%|██████████| 113/113 [00:07<00:00, 14.62it/s]\n"
     ]
    },
    {
     "name": "stdout",
     "output_type": "stream",
     "text": [
      "\n",
      "Train loss: 1.8712, Train acc: 25.08%\n",
      "Test loss: 1.8794, Test acc: 24.53%\n",
      "\n",
      "\n",
      "Epoch 3 / 15: ---------------------------\n"
     ]
    },
    {
     "name": "stderr",
     "output_type": "stream",
     "text": [
      "Training Model on Num Batches: 100%|██████████| 898/898 [01:45<00:00,  8.52it/s]\n",
      "Testing Model: 100%|██████████| 113/113 [00:07<00:00, 14.33it/s]\n"
     ]
    },
    {
     "name": "stdout",
     "output_type": "stream",
     "text": [
      "\n",
      "Train loss: 1.8693, Train acc: 24.98%\n",
      "Test loss: 1.8765, Test acc: 24.53%\n",
      "\n",
      "\n",
      "Epoch 4 / 15: ---------------------------\n"
     ]
    },
    {
     "name": "stderr",
     "output_type": "stream",
     "text": [
      "Training Model on Num Batches: 100%|██████████| 898/898 [01:45<00:00,  8.52it/s]\n",
      "Testing Model: 100%|██████████| 113/113 [00:08<00:00, 13.56it/s]\n"
     ]
    },
    {
     "name": "stdout",
     "output_type": "stream",
     "text": [
      "\n",
      "Train loss: 1.8641, Train acc: 25.10%\n",
      "Test loss: 1.8619, Test acc: 24.53%\n",
      "\n",
      "\n",
      "Epoch 5 / 15: ---------------------------\n"
     ]
    },
    {
     "name": "stderr",
     "output_type": "stream",
     "text": [
      "Training Model on Num Batches: 100%|██████████| 898/898 [01:45<00:00,  8.53it/s]\n",
      "Testing Model: 100%|██████████| 113/113 [00:08<00:00, 13.60it/s]\n"
     ]
    },
    {
     "name": "stdout",
     "output_type": "stream",
     "text": [
      "\n",
      "Train loss: 1.8573, Train acc: 25.30%\n",
      "Test loss: 1.8662, Test acc: 24.53%\n",
      "\n",
      "\n",
      "Epoch 6 / 15: ---------------------------\n"
     ]
    },
    {
     "name": "stderr",
     "output_type": "stream",
     "text": [
      "Training Model on Num Batches: 100%|██████████| 898/898 [01:45<00:00,  8.52it/s]\n",
      "Testing Model: 100%|██████████| 113/113 [00:08<00:00, 13.27it/s]\n"
     ]
    },
    {
     "name": "stdout",
     "output_type": "stream",
     "text": [
      "\n",
      "Train loss: 1.8521, Train acc: 25.31%\n",
      "Test loss: 1.8434, Test acc: 27.87%\n",
      "\n",
      "\n",
      "Epoch 7 / 15: ---------------------------\n"
     ]
    },
    {
     "name": "stderr",
     "output_type": "stream",
     "text": [
      "Training Model on Num Batches: 100%|██████████| 898/898 [01:45<00:00,  8.53it/s]\n",
      "Testing Model: 100%|██████████| 113/113 [00:08<00:00, 12.93it/s]\n"
     ]
    },
    {
     "name": "stdout",
     "output_type": "stream",
     "text": [
      "\n",
      "Train loss: 1.8130, Train acc: 28.31%\n",
      "Test loss: 1.7811, Test acc: 29.38%\n",
      "\n",
      "\n",
      "Epoch 8 / 15: ---------------------------\n"
     ]
    },
    {
     "name": "stderr",
     "output_type": "stream",
     "text": [
      "Training Model on Num Batches: 100%|██████████| 898/898 [01:45<00:00,  8.53it/s]\n",
      "Testing Model: 100%|██████████| 113/113 [00:09<00:00, 12.55it/s]\n"
     ]
    },
    {
     "name": "stdout",
     "output_type": "stream",
     "text": [
      "\n",
      "Train loss: 1.7640, Train acc: 30.52%\n",
      "Test loss: 1.7334, Test acc: 33.67%\n",
      "\n",
      "\n",
      "Epoch 9 / 15: ---------------------------\n"
     ]
    },
    {
     "name": "stderr",
     "output_type": "stream",
     "text": [
      "Training Model on Num Batches: 100%|██████████| 898/898 [01:45<00:00,  8.52it/s]\n",
      "Testing Model: 100%|██████████| 113/113 [00:09<00:00, 12.18it/s]\n"
     ]
    },
    {
     "name": "stdout",
     "output_type": "stream",
     "text": [
      "\n",
      "Train loss: 1.6920, Train acc: 34.50%\n",
      "Test loss: 1.6594, Test acc: 36.68%\n",
      "\n",
      "\n",
      "Epoch 10 / 15: ---------------------------\n"
     ]
    },
    {
     "name": "stderr",
     "output_type": "stream",
     "text": [
      "Training Model on Num Batches: 100%|██████████| 898/898 [01:45<00:00,  8.53it/s]\n",
      "Testing Model: 100%|██████████| 113/113 [00:09<00:00, 12.00it/s]\n"
     ]
    },
    {
     "name": "stdout",
     "output_type": "stream",
     "text": [
      "\n",
      "Train loss: 1.6300, Train acc: 37.36%\n",
      "Test loss: 1.5841, Test acc: 39.50%\n",
      "\n",
      "\n",
      "Epoch 11 / 15: ---------------------------\n"
     ]
    },
    {
     "name": "stderr",
     "output_type": "stream",
     "text": [
      "Training Model on Num Batches: 100%|██████████| 898/898 [01:45<00:00,  8.51it/s]\n",
      "Testing Model: 100%|██████████| 113/113 [00:09<00:00, 11.69it/s]\n"
     ]
    },
    {
     "name": "stdout",
     "output_type": "stream",
     "text": [
      "\n",
      "Train loss: 1.5679, Train acc: 39.97%\n",
      "Test loss: 1.5499, Test acc: 41.50%\n",
      "\n",
      "\n",
      "Epoch 12 / 15: ---------------------------\n"
     ]
    },
    {
     "name": "stderr",
     "output_type": "stream",
     "text": [
      "Training Model on Num Batches: 100%|██████████| 898/898 [01:45<00:00,  8.52it/s]\n",
      "Testing Model: 100%|██████████| 113/113 [00:09<00:00, 11.50it/s]\n"
     ]
    },
    {
     "name": "stdout",
     "output_type": "stream",
     "text": [
      "\n",
      "Train loss: 1.5177, Train acc: 42.01%\n",
      "Test loss: 1.5245, Test acc: 41.92%\n",
      "\n",
      "\n",
      "Epoch 13 / 15: ---------------------------\n"
     ]
    },
    {
     "name": "stderr",
     "output_type": "stream",
     "text": [
      "Training Model on Num Batches: 100%|██████████| 898/898 [01:45<00:00,  8.52it/s]\n",
      "Testing Model: 100%|██████████| 113/113 [00:10<00:00, 11.05it/s]\n"
     ]
    },
    {
     "name": "stdout",
     "output_type": "stream",
     "text": [
      "\n",
      "Train loss: 1.4790, Train acc: 43.16%\n",
      "Test loss: 1.5000, Test acc: 41.75%\n",
      "\n",
      "\n",
      "Epoch 14 / 15: ---------------------------\n"
     ]
    },
    {
     "name": "stderr",
     "output_type": "stream",
     "text": [
      "Training Model on Num Batches: 100%|██████████| 898/898 [01:45<00:00,  8.52it/s]\n",
      "Testing Model: 100%|██████████| 113/113 [00:10<00:00, 10.65it/s]\n"
     ]
    },
    {
     "name": "stdout",
     "output_type": "stream",
     "text": [
      "\n",
      "Train loss: 1.4482, Train acc: 44.63%\n",
      "Test loss: 1.5058, Test acc: 41.64%\n",
      "\n",
      "\n",
      "Epoch 15 / 15: ---------------------------\n"
     ]
    },
    {
     "name": "stderr",
     "output_type": "stream",
     "text": [
      "Training Model on Num Batches: 100%|██████████| 898/898 [01:45<00:00,  8.51it/s]\n",
      "Testing Model: 100%|██████████| 113/113 [00:11<00:00, 10.19it/s]\n"
     ]
    },
    {
     "name": "stdout",
     "output_type": "stream",
     "text": [
      "\n",
      "Train loss: 1.4234, Train acc: 45.31%\n",
      "Test loss: 1.4786, Test acc: 43.74%\n",
      "\n",
      "\n",
      "-------Model has finished training-------\n",
      "\n",
      "\n",
      "model_grid1's training history has been saved.\n",
      "\n",
      "train_loss\n",
      "1. 1.8852\n",
      "2. 1.8712\n",
      "3. 1.8693\n",
      "4. 1.8641\n",
      "5. 1.8573\n",
      "6. 1.8521\n",
      "7. 1.8130\n",
      "8. 1.7640\n",
      "9. 1.6920\n",
      "10. 1.6300\n",
      "11. 1.5679\n",
      "12. 1.5177\n",
      "13. 1.4790\n",
      "14. 1.4482\n",
      "15. 1.4234\n",
      "\n",
      "train_acc\n",
      "1. 24.7508\n",
      "2. 25.0849\n",
      "3. 24.9840\n",
      "4. 25.0954\n",
      "5. 25.3041\n",
      "6. 25.3146\n",
      "7. 28.3074\n",
      "8. 30.5185\n",
      "9. 34.4996\n",
      "10. 37.3650\n",
      "11. 39.9680\n",
      "12. 42.0128\n",
      "13. 43.1612\n",
      "14. 44.6346\n",
      "15. 45.3132\n",
      "\n",
      "test_loss\n",
      "1. 1.9088\n",
      "2. 1.8794\n",
      "3. 1.8765\n",
      "4. 1.8619\n",
      "5. 1.8662\n",
      "6. 1.8434\n",
      "7. 1.7811\n",
      "8. 1.7334\n",
      "9. 1.6594\n",
      "10. 1.5841\n",
      "11. 1.5499\n",
      "12. 1.5245\n",
      "13. 1.5000\n",
      "14. 1.5058\n",
      "15. 1.4786\n",
      "\n",
      "test_acc\n",
      "1. 19.8396\n",
      "2. 24.5299\n",
      "3. 24.5299\n",
      "4. 24.5299\n",
      "5. 24.5299\n",
      "6. 27.8706\n",
      "7. 29.3805\n",
      "8. 33.6670\n",
      "9. 36.6759\n",
      "10. 39.4967\n",
      "11. 41.5044\n",
      "12. 41.9193\n",
      "13. 41.7533\n",
      "14. 41.6427\n",
      "15. 43.7445\n",
      "\n",
      "\n",
      "model_grid1's setting has been saved.\n",
      "\n",
      "\n",
      "Epoch 1 / 12: ---------------------------\n"
     ]
    },
    {
     "name": "stderr",
     "output_type": "stream",
     "text": [
      "Training Model on Num Batches: 100%|██████████| 898/898 [01:45<00:00,  8.51it/s]\n",
      "Testing Model: 100%|██████████| 113/113 [00:08<00:00, 14.00it/s]\n"
     ]
    },
    {
     "name": "stdout",
     "output_type": "stream",
     "text": [
      "\n",
      "Train loss: 1.9103, Train acc: 24.34%\n",
      "Test loss: 1.9134, Test acc: 24.53%\n",
      "\n",
      "\n",
      "Epoch 2 / 12: ---------------------------\n"
     ]
    },
    {
     "name": "stderr",
     "output_type": "stream",
     "text": [
      "Training Model on Num Batches: 100%|██████████| 898/898 [01:45<00:00,  8.53it/s]\n",
      "Testing Model: 100%|██████████| 113/113 [00:08<00:00, 12.68it/s]\n"
     ]
    },
    {
     "name": "stdout",
     "output_type": "stream",
     "text": [
      "\n",
      "Train loss: 1.8984, Train acc: 25.13%\n",
      "Test loss: 1.8989, Test acc: 24.53%\n",
      "\n",
      "\n",
      "Epoch 3 / 12: ---------------------------\n"
     ]
    },
    {
     "name": "stderr",
     "output_type": "stream",
     "text": [
      "Training Model on Num Batches: 100%|██████████| 898/898 [01:45<00:00,  8.53it/s]\n",
      "Testing Model: 100%|██████████| 113/113 [00:09<00:00, 12.49it/s]\n"
     ]
    },
    {
     "name": "stdout",
     "output_type": "stream",
     "text": [
      "\n",
      "Train loss: 1.8966, Train acc: 25.04%\n",
      "Test loss: 1.9002, Test acc: 24.53%\n",
      "\n",
      "\n",
      "Epoch 4 / 12: ---------------------------\n"
     ]
    },
    {
     "name": "stderr",
     "output_type": "stream",
     "text": [
      "Training Model on Num Batches: 100%|██████████| 898/898 [01:45<00:00,  8.52it/s]\n",
      "Testing Model: 100%|██████████| 113/113 [00:09<00:00, 12.26it/s]\n"
     ]
    },
    {
     "name": "stdout",
     "output_type": "stream",
     "text": [
      "\n",
      "Train loss: 1.8934, Train acc: 25.03%\n",
      "Test loss: 1.8983, Test acc: 24.53%\n",
      "\n",
      "\n",
      "Epoch 5 / 12: ---------------------------\n"
     ]
    },
    {
     "name": "stderr",
     "output_type": "stream",
     "text": [
      "Training Model on Num Batches: 100%|██████████| 898/898 [01:45<00:00,  8.53it/s]\n",
      "Testing Model: 100%|██████████| 113/113 [00:09<00:00, 11.88it/s]\n"
     ]
    },
    {
     "name": "stdout",
     "output_type": "stream",
     "text": [
      "\n",
      "Train loss: 1.9063, Train acc: 21.63%\n",
      "Test loss: 1.9459, Test acc: 13.55%\n",
      "\n",
      "\n",
      "Epoch 6 / 12: ---------------------------\n"
     ]
    },
    {
     "name": "stderr",
     "output_type": "stream",
     "text": [
      "Training Model on Num Batches: 100%|██████████| 898/898 [01:45<00:00,  8.52it/s]\n",
      "Testing Model: 100%|██████████| 113/113 [00:09<00:00, 11.62it/s]\n"
     ]
    },
    {
     "name": "stdout",
     "output_type": "stream",
     "text": [
      "\n",
      "Train loss: 1.9425, Train acc: 14.70%\n",
      "Test loss: 1.9457, Test acc: 13.88%\n",
      "\n",
      "\n",
      "Epoch 7 / 12: ---------------------------\n"
     ]
    },
    {
     "name": "stderr",
     "output_type": "stream",
     "text": [
      "Training Model on Num Batches: 100%|██████████| 898/898 [01:45<00:00,  8.52it/s]\n",
      "Testing Model: 100%|██████████| 113/113 [00:09<00:00, 11.34it/s]\n"
     ]
    },
    {
     "name": "stdout",
     "output_type": "stream",
     "text": [
      "\n",
      "Train loss: 1.9111, Train acc: 20.96%\n",
      "Test loss: 1.9049, Test acc: 24.03%\n",
      "\n",
      "\n",
      "Epoch 8 / 12: ---------------------------\n"
     ]
    },
    {
     "name": "stderr",
     "output_type": "stream",
     "text": [
      "Training Model on Num Batches: 100%|██████████| 898/898 [01:45<00:00,  8.51it/s]\n",
      "Testing Model: 100%|██████████| 113/113 [00:10<00:00, 11.05it/s]\n"
     ]
    },
    {
     "name": "stdout",
     "output_type": "stream",
     "text": [
      "\n",
      "Train loss: 1.8878, Train acc: 24.77%\n",
      "Test loss: 1.9011, Test acc: 24.56%\n",
      "\n",
      "\n",
      "Epoch 9 / 12: ---------------------------\n"
     ]
    },
    {
     "name": "stderr",
     "output_type": "stream",
     "text": [
      "Training Model on Num Batches: 100%|██████████| 898/898 [01:45<00:00,  8.50it/s]\n",
      "Testing Model: 100%|██████████| 113/113 [00:10<00:00, 10.72it/s]\n"
     ]
    },
    {
     "name": "stdout",
     "output_type": "stream",
     "text": [
      "\n",
      "Train loss: 1.8821, Train acc: 25.06%\n",
      "Test loss: 1.9006, Test acc: 24.53%\n",
      "\n",
      "\n",
      "Epoch 10 / 12: ---------------------------\n"
     ]
    },
    {
     "name": "stderr",
     "output_type": "stream",
     "text": [
      "Training Model on Num Batches: 100%|██████████| 898/898 [01:45<00:00,  8.52it/s]\n",
      "Testing Model: 100%|██████████| 113/113 [00:11<00:00, 10.24it/s]\n"
     ]
    },
    {
     "name": "stdout",
     "output_type": "stream",
     "text": [
      "\n",
      "Train loss: 1.8792, Train acc: 24.94%\n",
      "Test loss: 1.8831, Test acc: 24.53%\n",
      "\n",
      "\n",
      "Epoch 11 / 12: ---------------------------\n"
     ]
    },
    {
     "name": "stderr",
     "output_type": "stream",
     "text": [
      "Training Model on Num Batches: 100%|██████████| 898/898 [01:45<00:00,  8.49it/s]\n",
      "Testing Model: 100%|██████████| 113/113 [00:11<00:00,  9.87it/s]\n"
     ]
    },
    {
     "name": "stdout",
     "output_type": "stream",
     "text": [
      "\n",
      "Train loss: 1.8454, Train acc: 25.52%\n",
      "Test loss: 1.8608, Test acc: 24.53%\n",
      "\n",
      "\n",
      "Epoch 12 / 12: ---------------------------\n"
     ]
    },
    {
     "name": "stderr",
     "output_type": "stream",
     "text": [
      "Training Model on Num Batches: 100%|██████████| 898/898 [01:46<00:00,  8.47it/s]\n",
      "Testing Model: 100%|██████████| 113/113 [00:11<00:00,  9.66it/s]\n"
     ]
    },
    {
     "name": "stdout",
     "output_type": "stream",
     "text": [
      "\n",
      "Train loss: 1.8339, Train acc: 25.79%\n",
      "Test loss: 1.8596, Test acc: 24.53%\n",
      "\n",
      "\n",
      "-------Model has finished training-------\n",
      "\n",
      "\n",
      "model_grid2's training history has been saved.\n",
      "\n",
      "train_loss\n",
      "1. 1.9103\n",
      "2. 1.8984\n",
      "3. 1.8966\n",
      "4. 1.8934\n",
      "5. 1.9063\n",
      "6. 1.9425\n",
      "7. 1.9111\n",
      "8. 1.8878\n",
      "9. 1.8821\n",
      "10. 1.8792\n",
      "11. 1.8454\n",
      "12. 1.8339\n",
      "\n",
      "train_acc\n",
      "1. 24.3437\n",
      "2. 25.1267\n",
      "3. 25.0362\n",
      "4. 25.0292\n",
      "5. 21.6342\n",
      "6. 14.7042\n",
      "7. 20.9626\n",
      "8. 24.7682\n",
      "9. 25.0640\n",
      "10. 24.9422\n",
      "11. 25.5234\n",
      "12. 25.7913\n",
      "\n",
      "test_loss\n",
      "1. 1.9134\n",
      "2. 1.8989\n",
      "3. 1.9002\n",
      "4. 1.8983\n",
      "5. 1.9459\n",
      "6. 1.9457\n",
      "7. 1.9049\n",
      "8. 1.9011\n",
      "9. 1.9006\n",
      "10. 1.8831\n",
      "11. 1.8608\n",
      "12. 1.8596\n",
      "\n",
      "test_acc\n",
      "1. 24.5299\n",
      "2. 24.5299\n",
      "3. 24.5299\n",
      "4. 24.5299\n",
      "5. 13.5454\n",
      "6. 13.8772\n",
      "7. 24.0321\n",
      "8. 24.5575\n",
      "9. 24.5299\n",
      "10. 24.5299\n",
      "11. 24.5299\n",
      "12. 24.5299\n",
      "\n",
      "\n",
      "model_grid2's setting has been saved.\n",
      "\n",
      "\n",
      "Epoch 1 / 13: ---------------------------\n"
     ]
    },
    {
     "name": "stderr",
     "output_type": "stream",
     "text": [
      "Training Model on Num Batches: 100%|██████████| 898/898 [01:45<00:00,  8.53it/s]\n",
      "Testing Model: 100%|██████████| 113/113 [00:08<00:00, 13.43it/s]\n"
     ]
    },
    {
     "name": "stdout",
     "output_type": "stream",
     "text": [
      "\n",
      "Train loss: 1.9463, Train acc: 14.06%\n",
      "Test loss: 1.9459, Test acc: 13.55%\n",
      "\n",
      "\n",
      "Epoch 2 / 13: ---------------------------\n"
     ]
    },
    {
     "name": "stderr",
     "output_type": "stream",
     "text": [
      "Training Model on Num Batches: 100%|██████████| 898/898 [01:45<00:00,  8.52it/s]\n",
      "Testing Model: 100%|██████████| 113/113 [00:08<00:00, 13.18it/s]\n"
     ]
    },
    {
     "name": "stdout",
     "output_type": "stream",
     "text": [
      "\n",
      "Train loss: 1.9459, Train acc: 13.94%\n",
      "Test loss: 1.9459, Test acc: 13.55%\n",
      "\n",
      "\n",
      "Epoch 3 / 13: ---------------------------\n"
     ]
    },
    {
     "name": "stderr",
     "output_type": "stream",
     "text": [
      "Training Model on Num Batches: 100%|██████████| 898/898 [01:45<00:00,  8.52it/s]\n",
      "Testing Model: 100%|██████████| 113/113 [00:09<00:00, 12.34it/s]\n"
     ]
    },
    {
     "name": "stdout",
     "output_type": "stream",
     "text": [
      "\n",
      "Train loss: 1.9459, Train acc: 13.94%\n",
      "Test loss: 1.9459, Test acc: 13.55%\n",
      "\n",
      "\n",
      "Epoch 4 / 13: ---------------------------\n"
     ]
    },
    {
     "name": "stderr",
     "output_type": "stream",
     "text": [
      "Training Model on Num Batches: 100%|██████████| 898/898 [01:45<00:00,  8.51it/s]\n",
      "Testing Model: 100%|██████████| 113/113 [00:09<00:00, 12.29it/s]\n"
     ]
    },
    {
     "name": "stdout",
     "output_type": "stream",
     "text": [
      "\n",
      "Train loss: 1.9459, Train acc: 13.94%\n",
      "Test loss: 1.9459, Test acc: 13.55%\n",
      "\n",
      "\n",
      "Epoch 5 / 13: ---------------------------\n"
     ]
    },
    {
     "name": "stderr",
     "output_type": "stream",
     "text": [
      "Training Model on Num Batches: 100%|██████████| 898/898 [01:45<00:00,  8.52it/s]\n",
      "Testing Model: 100%|██████████| 113/113 [00:09<00:00, 11.93it/s]\n"
     ]
    },
    {
     "name": "stdout",
     "output_type": "stream",
     "text": [
      "\n",
      "Train loss: 1.9459, Train acc: 13.94%\n",
      "Test loss: 1.9459, Test acc: 13.55%\n",
      "\n",
      "\n",
      "Epoch 6 / 13: ---------------------------\n"
     ]
    },
    {
     "name": "stderr",
     "output_type": "stream",
     "text": [
      "Training Model on Num Batches: 100%|██████████| 898/898 [01:45<00:00,  8.52it/s]\n",
      "Testing Model: 100%|██████████| 113/113 [00:09<00:00, 11.43it/s]\n"
     ]
    },
    {
     "name": "stdout",
     "output_type": "stream",
     "text": [
      "\n",
      "Train loss: 1.9459, Train acc: 13.94%\n",
      "Test loss: 1.9459, Test acc: 13.55%\n",
      "\n",
      "\n",
      "Epoch 7 / 13: ---------------------------\n"
     ]
    },
    {
     "name": "stderr",
     "output_type": "stream",
     "text": [
      "Training Model on Num Batches: 100%|██████████| 898/898 [01:45<00:00,  8.52it/s]\n",
      "Testing Model: 100%|██████████| 113/113 [00:09<00:00, 11.42it/s]\n"
     ]
    },
    {
     "name": "stdout",
     "output_type": "stream",
     "text": [
      "\n",
      "Train loss: 1.9459, Train acc: 13.94%\n",
      "Test loss: 1.9459, Test acc: 13.55%\n",
      "\n",
      "\n",
      "Epoch 8 / 13: ---------------------------\n"
     ]
    },
    {
     "name": "stderr",
     "output_type": "stream",
     "text": [
      "Training Model on Num Batches: 100%|██████████| 898/898 [01:45<00:00,  8.52it/s]\n",
      "Testing Model: 100%|██████████| 113/113 [00:10<00:00, 11.26it/s]\n"
     ]
    },
    {
     "name": "stdout",
     "output_type": "stream",
     "text": [
      "\n",
      "Train loss: 1.9459, Train acc: 13.94%\n",
      "Test loss: 1.9459, Test acc: 13.55%\n",
      "\n",
      "\n",
      "Epoch 9 / 13: ---------------------------\n"
     ]
    },
    {
     "name": "stderr",
     "output_type": "stream",
     "text": [
      "Training Model on Num Batches: 100%|██████████| 898/898 [01:45<00:00,  8.50it/s]\n",
      "Testing Model: 100%|██████████| 113/113 [00:10<00:00, 10.45it/s]\n"
     ]
    },
    {
     "name": "stdout",
     "output_type": "stream",
     "text": [
      "\n",
      "Train loss: 1.9459, Train acc: 13.94%\n",
      "Test loss: 1.9459, Test acc: 13.55%\n",
      "\n",
      "\n",
      "Epoch 10 / 13: ---------------------------\n"
     ]
    },
    {
     "name": "stderr",
     "output_type": "stream",
     "text": [
      "Training Model on Num Batches: 100%|██████████| 898/898 [01:45<00:00,  8.51it/s]\n",
      "Testing Model: 100%|██████████| 113/113 [00:11<00:00, 10.15it/s]\n"
     ]
    },
    {
     "name": "stdout",
     "output_type": "stream",
     "text": [
      "\n",
      "Train loss: 1.9459, Train acc: 13.94%\n",
      "Test loss: 1.9459, Test acc: 13.55%\n",
      "\n",
      "\n",
      "Epoch 11 / 13: ---------------------------\n"
     ]
    },
    {
     "name": "stderr",
     "output_type": "stream",
     "text": [
      "Training Model on Num Batches: 100%|██████████| 898/898 [01:45<00:00,  8.49it/s]\n",
      "Testing Model: 100%|██████████| 113/113 [00:11<00:00,  9.84it/s]\n"
     ]
    },
    {
     "name": "stdout",
     "output_type": "stream",
     "text": [
      "\n",
      "Train loss: 1.9459, Train acc: 13.94%\n",
      "Test loss: 1.9459, Test acc: 13.55%\n",
      "\n",
      "\n",
      "Epoch 12 / 13: ---------------------------\n"
     ]
    },
    {
     "name": "stderr",
     "output_type": "stream",
     "text": [
      "Training Model on Num Batches: 100%|██████████| 898/898 [01:46<00:00,  8.43it/s]\n",
      "Testing Model: 100%|██████████| 113/113 [00:11<00:00,  9.52it/s]\n"
     ]
    },
    {
     "name": "stdout",
     "output_type": "stream",
     "text": [
      "\n",
      "Train loss: 1.9459, Train acc: 13.94%\n",
      "Test loss: 1.9459, Test acc: 13.55%\n",
      "\n",
      "\n",
      "Epoch 13 / 13: ---------------------------\n"
     ]
    },
    {
     "name": "stderr",
     "output_type": "stream",
     "text": [
      "Training Model on Num Batches: 100%|██████████| 898/898 [01:47<00:00,  8.36it/s]\n",
      "Testing Model: 100%|██████████| 113/113 [00:12<00:00,  9.28it/s]\n"
     ]
    },
    {
     "name": "stdout",
     "output_type": "stream",
     "text": [
      "\n",
      "Train loss: 1.9459, Train acc: 13.94%\n",
      "Test loss: 1.9459, Test acc: 13.55%\n",
      "\n",
      "\n",
      "-------Model has finished training-------\n",
      "\n",
      "\n",
      "model_grid3's training history has been saved.\n",
      "\n",
      "train_loss\n",
      "1. 1.9463\n",
      "2. 1.9459\n",
      "3. 1.9459\n",
      "4. 1.9459\n",
      "5. 1.9459\n",
      "6. 1.9459\n",
      "7. 1.9459\n",
      "8. 1.9459\n",
      "9. 1.9459\n",
      "10. 1.9459\n",
      "11. 1.9459\n",
      "12. 1.9459\n",
      "13. 1.9459\n",
      "\n",
      "train_acc\n",
      "1. 14.0618\n",
      "2. 13.9400\n",
      "3. 13.9400\n",
      "4. 13.9400\n",
      "5. 13.9400\n",
      "6. 13.9400\n",
      "7. 13.9400\n",
      "8. 13.9400\n",
      "9. 13.9400\n",
      "10. 13.9400\n",
      "11. 13.9400\n",
      "12. 13.9400\n",
      "13. 13.9400\n",
      "\n",
      "test_loss\n",
      "1. 1.9459\n",
      "2. 1.9459\n",
      "3. 1.9459\n",
      "4. 1.9459\n",
      "5. 1.9459\n",
      "6. 1.9459\n",
      "7. 1.9459\n",
      "8. 1.9459\n",
      "9. 1.9459\n",
      "10. 1.9459\n",
      "11. 1.9459\n",
      "12. 1.9459\n",
      "13. 1.9459\n",
      "\n",
      "test_acc\n",
      "1. 13.5454\n",
      "2. 13.5454\n",
      "3. 13.5454\n",
      "4. 13.5454\n",
      "5. 13.5454\n",
      "6. 13.5454\n",
      "7. 13.5454\n",
      "8. 13.5454\n",
      "9. 13.5454\n",
      "10. 13.5454\n",
      "11. 13.5454\n",
      "12. 13.5454\n",
      "13. 13.5454\n",
      "\n",
      "\n",
      "model_grid3's setting has been saved.\n",
      "\n",
      "\n",
      "Epoch 1 / 15: ---------------------------\n"
     ]
    },
    {
     "name": "stderr",
     "output_type": "stream",
     "text": [
      "Training Model on Num Batches: 100%|██████████| 898/898 [01:45<00:00,  8.55it/s]\n",
      "Testing Model: 100%|██████████| 113/113 [00:08<00:00, 12.64it/s]\n"
     ]
    },
    {
     "name": "stdout",
     "output_type": "stream",
     "text": [
      "\n",
      "Train loss: 1.8852, Train acc: 23.80%\n",
      "Test loss: 1.8819, Test acc: 24.25%\n",
      "\n",
      "\n",
      "Epoch 2 / 15: ---------------------------\n"
     ]
    },
    {
     "name": "stderr",
     "output_type": "stream",
     "text": [
      "Training Model on Num Batches: 100%|██████████| 898/898 [01:44<00:00,  8.57it/s]\n",
      "Testing Model: 100%|██████████| 113/113 [00:08<00:00, 12.65it/s]\n"
     ]
    },
    {
     "name": "stdout",
     "output_type": "stream",
     "text": [
      "\n",
      "Train loss: 1.8811, Train acc: 24.30%\n",
      "Test loss: 1.8932, Test acc: 23.20%\n",
      "\n",
      "\n",
      "Epoch 3 / 15: ---------------------------\n"
     ]
    },
    {
     "name": "stderr",
     "output_type": "stream",
     "text": [
      "Training Model on Num Batches: 100%|██████████| 898/898 [01:44<00:00,  8.57it/s]\n",
      "Testing Model: 100%|██████████| 113/113 [00:09<00:00, 11.50it/s]\n"
     ]
    },
    {
     "name": "stdout",
     "output_type": "stream",
     "text": [
      "\n",
      "Train loss: 1.8730, Train acc: 24.77%\n",
      "Test loss: 1.8778, Test acc: 23.79%\n",
      "\n",
      "\n",
      "Epoch 4 / 15: ---------------------------\n"
     ]
    },
    {
     "name": "stderr",
     "output_type": "stream",
     "text": [
      "Training Model on Num Batches: 100%|██████████| 898/898 [01:44<00:00,  8.55it/s]\n",
      "Testing Model: 100%|██████████| 113/113 [00:10<00:00, 10.95it/s]\n"
     ]
    },
    {
     "name": "stdout",
     "output_type": "stream",
     "text": [
      "\n",
      "Train loss: 1.8709, Train acc: 23.78%\n",
      "Test loss: 1.8774, Test acc: 24.36%\n",
      "\n",
      "\n",
      "Epoch 5 / 15: ---------------------------\n"
     ]
    },
    {
     "name": "stderr",
     "output_type": "stream",
     "text": [
      "Training Model on Num Batches: 100%|██████████| 898/898 [01:45<00:00,  8.55it/s]\n",
      "Testing Model: 100%|██████████| 113/113 [00:10<00:00, 10.72it/s]\n"
     ]
    },
    {
     "name": "stdout",
     "output_type": "stream",
     "text": [
      "\n",
      "Train loss: 1.8786, Train acc: 24.07%\n",
      "Test loss: 1.8773, Test acc: 23.56%\n",
      "\n",
      "\n",
      "Epoch 6 / 15: ---------------------------\n"
     ]
    },
    {
     "name": "stderr",
     "output_type": "stream",
     "text": [
      "Training Model on Num Batches: 100%|██████████| 898/898 [01:45<00:00,  8.54it/s]\n",
      "Testing Model: 100%|██████████| 113/113 [00:11<00:00,  9.96it/s]\n"
     ]
    },
    {
     "name": "stdout",
     "output_type": "stream",
     "text": [
      "\n",
      "Train loss: 1.8753, Train acc: 23.79%\n",
      "Test loss: 1.8904, Test acc: 23.64%\n",
      "\n",
      "\n",
      "Epoch 7 / 15: ---------------------------\n"
     ]
    },
    {
     "name": "stderr",
     "output_type": "stream",
     "text": [
      "Training Model on Num Batches: 100%|██████████| 898/898 [01:45<00:00,  8.52it/s]\n",
      "Testing Model: 100%|██████████| 113/113 [00:11<00:00,  9.54it/s]\n"
     ]
    },
    {
     "name": "stdout",
     "output_type": "stream",
     "text": [
      "\n",
      "Train loss: 1.8763, Train acc: 23.78%\n",
      "Test loss: 1.8731, Test acc: 24.53%\n",
      "\n",
      "\n",
      "Epoch 8 / 15: ---------------------------\n"
     ]
    },
    {
     "name": "stderr",
     "output_type": "stream",
     "text": [
      "Training Model on Num Batches: 100%|██████████| 898/898 [01:46<00:00,  8.45it/s]\n",
      "Testing Model: 100%|██████████| 113/113 [00:11<00:00,  9.67it/s]\n"
     ]
    },
    {
     "name": "stdout",
     "output_type": "stream",
     "text": [
      "\n",
      "Train loss: 1.8706, Train acc: 23.92%\n",
      "Test loss: 1.8869, Test acc: 23.26%\n",
      "\n",
      "\n",
      "Epoch 9 / 15: ---------------------------\n"
     ]
    },
    {
     "name": "stderr",
     "output_type": "stream",
     "text": [
      "Training Model on Num Batches: 100%|██████████| 898/898 [01:48<00:00,  8.29it/s]\n",
      "Testing Model: 100%|██████████| 113/113 [00:12<00:00,  9.10it/s]\n"
     ]
    },
    {
     "name": "stdout",
     "output_type": "stream",
     "text": [
      "\n",
      "Train loss: 1.8696, Train acc: 24.77%\n",
      "Test loss: 1.8800, Test acc: 24.34%\n",
      "\n",
      "\n",
      "Epoch 10 / 15: ---------------------------\n"
     ]
    },
    {
     "name": "stderr",
     "output_type": "stream",
     "text": [
      "Training Model on Num Batches: 100%|██████████| 898/898 [01:48<00:00,  8.25it/s]\n",
      "Testing Model: 100%|██████████| 113/113 [00:12<00:00,  9.15it/s]\n"
     ]
    },
    {
     "name": "stdout",
     "output_type": "stream",
     "text": [
      "\n",
      "Train loss: 1.8743, Train acc: 24.11%\n",
      "Test loss: 1.8829, Test acc: 23.79%\n",
      "\n",
      "\n",
      "Epoch 11 / 15: ---------------------------\n"
     ]
    },
    {
     "name": "stderr",
     "output_type": "stream",
     "text": [
      "Training Model on Num Batches: 100%|██████████| 898/898 [01:51<00:00,  8.08it/s]\n",
      "Testing Model: 100%|██████████| 113/113 [00:12<00:00,  8.82it/s]\n"
     ]
    },
    {
     "name": "stdout",
     "output_type": "stream",
     "text": [
      "\n",
      "Train loss: 1.8850, Train acc: 22.07%\n",
      "Test loss: 1.9078, Test acc: 21.08%\n",
      "\n",
      "\n",
      "Epoch 12 / 15: ---------------------------\n"
     ]
    },
    {
     "name": "stderr",
     "output_type": "stream",
     "text": [
      "Training Model on Num Batches: 100%|██████████| 898/898 [01:53<00:00,  7.93it/s]\n",
      "Testing Model: 100%|██████████| 113/113 [00:13<00:00,  8.55it/s]\n"
     ]
    },
    {
     "name": "stdout",
     "output_type": "stream",
     "text": [
      "\n",
      "Train loss: 1.8912, Train acc: 21.51%\n",
      "Test loss: 1.8881, Test acc: 22.36%\n",
      "\n",
      "\n",
      "Epoch 13 / 15: ---------------------------\n"
     ]
    },
    {
     "name": "stderr",
     "output_type": "stream",
     "text": [
      "Training Model on Num Batches: 100%|██████████| 898/898 [02:00<00:00,  7.47it/s]\n",
      "Testing Model: 100%|██████████| 113/113 [00:15<00:00,  7.31it/s]\n"
     ]
    },
    {
     "name": "stdout",
     "output_type": "stream",
     "text": [
      "\n",
      "Train loss: 1.8764, Train acc: 23.28%\n",
      "Test loss: 1.9423, Test acc: 13.87%\n",
      "\n",
      "\n",
      "Epoch 14 / 15: ---------------------------\n"
     ]
    },
    {
     "name": "stderr",
     "output_type": "stream",
     "text": [
      "Training Model on Num Batches: 100%|██████████| 898/898 [02:03<00:00,  7.29it/s]\n",
      "Testing Model: 100%|██████████| 113/113 [00:14<00:00,  7.82it/s]\n"
     ]
    },
    {
     "name": "stdout",
     "output_type": "stream",
     "text": [
      "\n",
      "Train loss: 1.8755, Train acc: 23.26%\n",
      "Test loss: 1.8868, Test acc: 22.99%\n",
      "\n",
      "\n",
      "Epoch 15 / 15: ---------------------------\n"
     ]
    },
    {
     "name": "stderr",
     "output_type": "stream",
     "text": [
      "Training Model on Num Batches: 100%|██████████| 898/898 [02:04<00:00,  7.20it/s]\n",
      "Testing Model: 100%|██████████| 113/113 [00:14<00:00,  7.82it/s]\n"
     ]
    },
    {
     "name": "stdout",
     "output_type": "stream",
     "text": [
      "\n",
      "Train loss: 1.8666, Train acc: 24.27%\n",
      "Test loss: 1.8847, Test acc: 23.88%\n",
      "\n",
      "\n",
      "-------Model has finished training-------\n",
      "\n",
      "\n",
      "model_grid4's training history has been saved.\n",
      "\n",
      "train_loss\n",
      "1. 1.8852\n",
      "2. 1.8811\n",
      "3. 1.8730\n",
      "4. 1.8709\n",
      "5. 1.8786\n",
      "6. 1.8753\n",
      "7. 1.8763\n",
      "8. 1.8706\n",
      "9. 1.8696\n",
      "10. 1.8743\n",
      "11. 1.8850\n",
      "12. 1.8912\n",
      "13. 1.8764\n",
      "14. 1.8755\n",
      "15. 1.8666\n",
      "\n",
      "train_acc\n",
      "1. 23.8043\n",
      "2. 24.3019\n",
      "3. 24.7703\n",
      "4. 23.7813\n",
      "5. 24.0736\n",
      "6. 23.7883\n",
      "7. 23.7834\n",
      "8. 23.9156\n",
      "9. 24.7745\n",
      "10. 24.1084\n",
      "11. 22.0671\n",
      "12. 21.5145\n",
      "13. 23.2767\n",
      "14. 23.2614\n",
      "15. 24.2671\n",
      "\n",
      "test_loss\n",
      "1. 1.8819\n",
      "2. 1.8932\n",
      "3. 1.8778\n",
      "4. 1.8774\n",
      "5. 1.8773\n",
      "6. 1.8904\n",
      "7. 1.8731\n",
      "8. 1.8869\n",
      "9. 1.8800\n",
      "10. 1.8829\n",
      "11. 1.9078\n",
      "12. 1.8881\n",
      "13. 1.9423\n",
      "14. 1.8868\n",
      "15. 1.8847\n",
      "\n",
      "test_acc\n",
      "1. 24.2533\n",
      "2. 23.2024\n",
      "3. 23.7942\n",
      "4. 24.3639\n",
      "5. 23.5619\n",
      "6. 23.6449\n",
      "7. 24.5299\n",
      "8. 23.2577\n",
      "9. 24.3363\n",
      "10. 23.7942\n",
      "11. 21.0841\n",
      "12. 22.3562\n",
      "13. 13.8661\n",
      "14. 22.9923\n",
      "15. 23.8772\n",
      "\n",
      "\n",
      "model_grid4's setting has been saved.\n",
      "\n",
      "\n",
      "Epoch 1 / 16: ---------------------------\n"
     ]
    },
    {
     "name": "stderr",
     "output_type": "stream",
     "text": [
      "Training Model on Num Batches: 100%|██████████| 898/898 [01:45<00:00,  8.52it/s]\n",
      "Testing Model: 100%|██████████| 113/113 [00:09<00:00, 12.30it/s]\n"
     ]
    },
    {
     "name": "stdout",
     "output_type": "stream",
     "text": [
      "\n",
      "Train loss: 1.8849, Train acc: 24.25%\n",
      "Test loss: 1.8798, Test acc: 24.53%\n",
      "\n",
      "\n",
      "Epoch 2 / 16: ---------------------------\n"
     ]
    },
    {
     "name": "stderr",
     "output_type": "stream",
     "text": [
      "Training Model on Num Batches: 100%|██████████| 898/898 [01:45<00:00,  8.53it/s]\n",
      "Testing Model: 100%|██████████| 113/113 [00:09<00:00, 12.29it/s]\n"
     ]
    },
    {
     "name": "stdout",
     "output_type": "stream",
     "text": [
      "\n",
      "Train loss: 1.8728, Train acc: 25.11%\n",
      "Test loss: 1.8744, Test acc: 24.53%\n",
      "\n",
      "\n",
      "Epoch 3 / 16: ---------------------------\n"
     ]
    },
    {
     "name": "stderr",
     "output_type": "stream",
     "text": [
      "Training Model on Num Batches: 100%|██████████| 898/898 [01:45<00:00,  8.53it/s]\n",
      "Testing Model: 100%|██████████| 113/113 [00:09<00:00, 12.02it/s]\n"
     ]
    },
    {
     "name": "stdout",
     "output_type": "stream",
     "text": [
      "\n",
      "Train loss: 1.8636, Train acc: 25.10%\n",
      "Test loss: 1.8720, Test acc: 24.53%\n",
      "\n",
      "\n",
      "Epoch 4 / 16: ---------------------------\n"
     ]
    },
    {
     "name": "stderr",
     "output_type": "stream",
     "text": [
      "Training Model on Num Batches: 100%|██████████| 898/898 [01:45<00:00,  8.53it/s]\n",
      "Testing Model: 100%|██████████| 113/113 [00:10<00:00, 10.46it/s]\n"
     ]
    },
    {
     "name": "stdout",
     "output_type": "stream",
     "text": [
      "\n",
      "Train loss: 1.8572, Train acc: 25.01%\n",
      "Test loss: 1.8718, Test acc: 24.53%\n",
      "\n",
      "\n",
      "Epoch 5 / 16: ---------------------------\n"
     ]
    },
    {
     "name": "stderr",
     "output_type": "stream",
     "text": [
      "Training Model on Num Batches: 100%|██████████| 898/898 [01:50<00:00,  8.14it/s]\n",
      "Testing Model: 100%|██████████| 113/113 [00:12<00:00,  8.79it/s]\n"
     ]
    },
    {
     "name": "stdout",
     "output_type": "stream",
     "text": [
      "\n",
      "Train loss: 1.8548, Train acc: 24.99%\n",
      "Test loss: 1.8827, Test acc: 24.50%\n",
      "\n",
      "\n",
      "Epoch 6 / 16: ---------------------------\n"
     ]
    },
    {
     "name": "stderr",
     "output_type": "stream",
     "text": [
      "Training Model on Num Batches: 100%|██████████| 898/898 [01:50<00:00,  8.14it/s]\n",
      "Testing Model: 100%|██████████| 113/113 [00:11<00:00,  9.71it/s]\n"
     ]
    },
    {
     "name": "stdout",
     "output_type": "stream",
     "text": [
      "\n",
      "Train loss: 1.8524, Train acc: 25.22%\n",
      "Test loss: 1.8763, Test acc: 24.64%\n",
      "\n",
      "\n",
      "Epoch 7 / 16: ---------------------------\n"
     ]
    },
    {
     "name": "stderr",
     "output_type": "stream",
     "text": [
      "Training Model on Num Batches: 100%|██████████| 898/898 [01:48<00:00,  8.30it/s]\n",
      "Testing Model: 100%|██████████| 113/113 [00:12<00:00,  9.25it/s]\n"
     ]
    },
    {
     "name": "stdout",
     "output_type": "stream",
     "text": [
      "\n",
      "Train loss: 1.8326, Train acc: 26.20%\n",
      "Test loss: 1.9047, Test acc: 25.58%\n",
      "\n",
      "\n",
      "Epoch 8 / 16: ---------------------------\n"
     ]
    },
    {
     "name": "stderr",
     "output_type": "stream",
     "text": [
      "Training Model on Num Batches: 100%|██████████| 898/898 [01:49<00:00,  8.17it/s]\n",
      "Testing Model: 100%|██████████| 113/113 [00:12<00:00,  9.02it/s]\n"
     ]
    },
    {
     "name": "stdout",
     "output_type": "stream",
     "text": [
      "\n",
      "Train loss: 1.7873, Train acc: 29.09%\n",
      "Test loss: 1.7991, Test acc: 29.44%\n",
      "\n",
      "\n",
      "Epoch 9 / 16: ---------------------------\n"
     ]
    },
    {
     "name": "stderr",
     "output_type": "stream",
     "text": [
      "Training Model on Num Batches: 100%|██████████| 898/898 [01:53<00:00,  7.90it/s]\n",
      "Testing Model: 100%|██████████| 113/113 [00:12<00:00,  8.78it/s]\n"
     ]
    },
    {
     "name": "stdout",
     "output_type": "stream",
     "text": [
      "\n",
      "Train loss: 1.7624, Train acc: 30.12%\n",
      "Test loss: 1.7797, Test acc: 30.32%\n",
      "\n",
      "\n",
      "Epoch 10 / 16: ---------------------------\n"
     ]
    },
    {
     "name": "stderr",
     "output_type": "stream",
     "text": [
      "Training Model on Num Batches: 100%|██████████| 898/898 [01:56<00:00,  7.72it/s]\n",
      "Testing Model: 100%|██████████| 113/113 [00:13<00:00,  8.45it/s]\n"
     ]
    },
    {
     "name": "stdout",
     "output_type": "stream",
     "text": [
      "\n",
      "Train loss: 1.7283, Train acc: 30.15%\n",
      "Test loss: 1.6934, Test acc: 30.85%\n",
      "\n",
      "\n",
      "Epoch 11 / 16: ---------------------------\n"
     ]
    },
    {
     "name": "stderr",
     "output_type": "stream",
     "text": [
      "Training Model on Num Batches: 100%|██████████| 898/898 [01:58<00:00,  7.59it/s]\n",
      "Testing Model: 100%|██████████| 113/113 [00:14<00:00,  8.02it/s]\n"
     ]
    },
    {
     "name": "stdout",
     "output_type": "stream",
     "text": [
      "\n",
      "Train loss: 1.6562, Train acc: 33.01%\n",
      "Test loss: 1.7138, Test acc: 32.73%\n",
      "\n",
      "\n",
      "Epoch 12 / 16: ---------------------------\n"
     ]
    },
    {
     "name": "stderr",
     "output_type": "stream",
     "text": [
      "Training Model on Num Batches: 100%|██████████| 898/898 [01:59<00:00,  7.50it/s]\n",
      "Testing Model: 100%|██████████| 113/113 [00:14<00:00,  7.94it/s]\n"
     ]
    },
    {
     "name": "stdout",
     "output_type": "stream",
     "text": [
      "\n",
      "Train loss: 1.6275, Train acc: 35.09%\n",
      "Test loss: 1.6472, Test acc: 35.11%\n",
      "\n",
      "\n",
      "Epoch 13 / 16: ---------------------------\n"
     ]
    },
    {
     "name": "stderr",
     "output_type": "stream",
     "text": [
      "Training Model on Num Batches: 100%|██████████| 898/898 [02:02<00:00,  7.34it/s]\n",
      "Testing Model: 100%|██████████| 113/113 [00:14<00:00,  7.83it/s]\n"
     ]
    },
    {
     "name": "stdout",
     "output_type": "stream",
     "text": [
      "\n",
      "Train loss: 1.5717, Train acc: 37.29%\n",
      "Test loss: 1.6157, Test acc: 38.37%\n",
      "\n",
      "\n",
      "Epoch 14 / 16: ---------------------------\n"
     ]
    },
    {
     "name": "stderr",
     "output_type": "stream",
     "text": [
      "Training Model on Num Batches: 100%|██████████| 898/898 [02:04<00:00,  7.21it/s]\n",
      "Testing Model: 100%|██████████| 113/113 [00:14<00:00,  7.64it/s]\n"
     ]
    },
    {
     "name": "stdout",
     "output_type": "stream",
     "text": [
      "\n",
      "Train loss: 1.4938, Train acc: 40.84%\n",
      "Test loss: 1.5627, Test acc: 39.00%\n",
      "\n",
      "\n",
      "Epoch 15 / 16: ---------------------------\n"
     ]
    },
    {
     "name": "stderr",
     "output_type": "stream",
     "text": [
      "Training Model on Num Batches: 100%|██████████| 898/898 [02:06<00:00,  7.08it/s]\n",
      "Testing Model: 100%|██████████| 113/113 [00:15<00:00,  7.51it/s]\n"
     ]
    },
    {
     "name": "stdout",
     "output_type": "stream",
     "text": [
      "\n",
      "Train loss: 1.4331, Train acc: 43.43%\n",
      "Test loss: 1.4693, Test acc: 43.58%\n",
      "\n",
      "\n",
      "Epoch 16 / 16: ---------------------------\n"
     ]
    },
    {
     "name": "stderr",
     "output_type": "stream",
     "text": [
      "Training Model on Num Batches: 100%|██████████| 898/898 [02:11<00:00,  6.85it/s]\n",
      "Testing Model: 100%|██████████| 113/113 [00:15<00:00,  7.27it/s]\n"
     ]
    },
    {
     "name": "stdout",
     "output_type": "stream",
     "text": [
      "\n",
      "Train loss: 1.3923, Train acc: 45.05%\n",
      "Test loss: 1.4430, Test acc: 44.80%\n",
      "\n",
      "\n",
      "-------Model has finished training-------\n",
      "\n",
      "\n",
      "model_grid5's training history has been saved.\n",
      "\n",
      "train_loss\n",
      "1. 1.8849\n",
      "2. 1.8728\n",
      "3. 1.8636\n",
      "4. 1.8572\n",
      "5. 1.8548\n",
      "6. 1.8524\n",
      "7. 1.8326\n",
      "8. 1.7873\n",
      "9. 1.7624\n",
      "10. 1.7283\n",
      "11. 1.6562\n",
      "12. 1.6275\n",
      "13. 1.5717\n",
      "14. 1.4938\n",
      "15. 1.4331\n",
      "16. 1.3923\n",
      "\n",
      "train_acc\n",
      "1. 24.2532\n",
      "2. 25.1058\n",
      "3. 25.0954\n",
      "4. 25.0118\n",
      "5. 24.9875\n",
      "6. 25.2206\n",
      "7. 26.2020\n",
      "8. 29.0869\n",
      "9. 30.1204\n",
      "10. 30.1482\n",
      "11. 33.0088\n",
      "12. 35.0863\n",
      "13. 37.2926\n",
      "14. 40.8366\n",
      "15. 43.4312\n",
      "16. 45.0508\n",
      "\n",
      "test_loss\n",
      "1. 1.8798\n",
      "2. 1.8744\n",
      "3. 1.8720\n",
      "4. 1.8718\n",
      "5. 1.8827\n",
      "6. 1.8763\n",
      "7. 1.9047\n",
      "8. 1.7991\n",
      "9. 1.7797\n",
      "10. 1.6934\n",
      "11. 1.7138\n",
      "12. 1.6472\n",
      "13. 1.6157\n",
      "14. 1.5627\n",
      "15. 1.4693\n",
      "16. 1.4430\n",
      "\n",
      "test_acc\n",
      "1. 24.5299\n",
      "2. 24.5299\n",
      "3. 24.5299\n",
      "4. 24.5299\n",
      "5. 24.5022\n",
      "6. 24.6405\n",
      "7. 25.5752\n",
      "8. 29.4358\n",
      "9. 30.3208\n",
      "10. 30.8462\n",
      "11. 32.7268\n",
      "12. 35.1051\n",
      "13. 38.3684\n",
      "14. 39.0044\n",
      "15. 43.5785\n",
      "16. 44.7954\n",
      "\n",
      "\n",
      "model_grid5's setting has been saved.\n",
      "\n",
      "\n",
      "Epoch 1 / 14: ---------------------------\n"
     ]
    },
    {
     "name": "stderr",
     "output_type": "stream",
     "text": [
      "Training Model on Num Batches: 100%|██████████| 898/898 [01:45<00:00,  8.54it/s]\n",
      "Testing Model: 100%|██████████| 113/113 [00:09<00:00, 11.98it/s]\n"
     ]
    },
    {
     "name": "stdout",
     "output_type": "stream",
     "text": [
      "\n",
      "Train loss: 1.8796, Train acc: 24.94%\n",
      "Test loss: 1.8832, Test acc: 24.50%\n",
      "\n",
      "\n",
      "Epoch 2 / 14: ---------------------------\n"
     ]
    },
    {
     "name": "stderr",
     "output_type": "stream",
     "text": [
      "Training Model on Num Batches: 100%|██████████| 898/898 [01:45<00:00,  8.55it/s]\n",
      "Testing Model: 100%|██████████| 113/113 [00:09<00:00, 11.75it/s]\n"
     ]
    },
    {
     "name": "stdout",
     "output_type": "stream",
     "text": [
      "\n",
      "Train loss: 1.8737, Train acc: 25.08%\n",
      "Test loss: 1.9179, Test acc: 19.39%\n",
      "\n",
      "\n",
      "Epoch 3 / 14: ---------------------------\n"
     ]
    },
    {
     "name": "stderr",
     "output_type": "stream",
     "text": [
      "Training Model on Num Batches: 100%|██████████| 898/898 [01:45<00:00,  8.55it/s]\n",
      "Testing Model: 100%|██████████| 113/113 [00:09<00:00, 11.55it/s]\n"
     ]
    },
    {
     "name": "stdout",
     "output_type": "stream",
     "text": [
      "\n",
      "Train loss: 1.8738, Train acc: 25.11%\n",
      "Test loss: 1.8762, Test acc: 24.53%\n",
      "\n",
      "\n",
      "Epoch 4 / 14: ---------------------------\n"
     ]
    },
    {
     "name": "stderr",
     "output_type": "stream",
     "text": [
      "Training Model on Num Batches: 100%|██████████| 898/898 [01:45<00:00,  8.54it/s]\n",
      "Testing Model: 100%|██████████| 113/113 [00:10<00:00, 11.16it/s]\n"
     ]
    },
    {
     "name": "stdout",
     "output_type": "stream",
     "text": [
      "\n",
      "Train loss: 1.8721, Train acc: 25.12%\n",
      "Test loss: 1.8768, Test acc: 24.53%\n",
      "\n",
      "\n",
      "Epoch 5 / 14: ---------------------------\n"
     ]
    },
    {
     "name": "stderr",
     "output_type": "stream",
     "text": [
      "Training Model on Num Batches: 100%|██████████| 898/898 [01:45<00:00,  8.51it/s]\n",
      "Testing Model: 100%|██████████| 113/113 [00:11<00:00,  9.73it/s]\n"
     ]
    },
    {
     "name": "stdout",
     "output_type": "stream",
     "text": [
      "\n",
      "Train loss: 1.8657, Train acc: 25.14%\n",
      "Test loss: 1.8647, Test acc: 24.59%\n",
      "\n",
      "\n",
      "Epoch 6 / 14: ---------------------------\n"
     ]
    },
    {
     "name": "stderr",
     "output_type": "stream",
     "text": [
      "Training Model on Num Batches: 100%|██████████| 898/898 [01:49<00:00,  8.18it/s]\n",
      "Testing Model: 100%|██████████| 113/113 [00:12<00:00,  8.97it/s]\n"
     ]
    },
    {
     "name": "stdout",
     "output_type": "stream",
     "text": [
      "\n",
      "Train loss: 1.8012, Train acc: 25.14%\n",
      "Test loss: 1.7949, Test acc: 24.53%\n",
      "\n",
      "\n",
      "Epoch 7 / 14: ---------------------------\n"
     ]
    },
    {
     "name": "stderr",
     "output_type": "stream",
     "text": [
      "Training Model on Num Batches: 100%|██████████| 898/898 [01:56<00:00,  7.72it/s]\n",
      "Testing Model: 100%|██████████| 113/113 [00:13<00:00,  8.67it/s]\n"
     ]
    },
    {
     "name": "stdout",
     "output_type": "stream",
     "text": [
      "\n",
      "Train loss: 1.7639, Train acc: 27.03%\n",
      "Test loss: 1.7669, Test acc: 29.72%\n",
      "\n",
      "\n",
      "Epoch 8 / 14: ---------------------------\n"
     ]
    },
    {
     "name": "stderr",
     "output_type": "stream",
     "text": [
      "Training Model on Num Batches: 100%|██████████| 898/898 [01:54<00:00,  7.84it/s]\n",
      "Testing Model: 100%|██████████| 113/113 [00:13<00:00,  8.68it/s]\n"
     ]
    },
    {
     "name": "stdout",
     "output_type": "stream",
     "text": [
      "\n",
      "Train loss: 1.6996, Train acc: 30.15%\n",
      "Test loss: 1.6745, Test acc: 31.65%\n",
      "\n",
      "\n",
      "Epoch 9 / 14: ---------------------------\n"
     ]
    },
    {
     "name": "stderr",
     "output_type": "stream",
     "text": [
      "Training Model on Num Batches: 100%|██████████| 898/898 [01:58<00:00,  7.60it/s]\n",
      "Testing Model: 100%|██████████| 113/113 [00:13<00:00,  8.21it/s]\n"
     ]
    },
    {
     "name": "stdout",
     "output_type": "stream",
     "text": [
      "\n",
      "Train loss: 1.6506, Train acc: 32.48%\n",
      "Test loss: 1.6177, Test acc: 34.83%\n",
      "\n",
      "\n",
      "Epoch 10 / 14: ---------------------------\n"
     ]
    },
    {
     "name": "stderr",
     "output_type": "stream",
     "text": [
      "Training Model on Num Batches: 100%|██████████| 898/898 [02:01<00:00,  7.42it/s]\n",
      "Testing Model: 100%|██████████| 113/113 [00:14<00:00,  7.79it/s]\n"
     ]
    },
    {
     "name": "stdout",
     "output_type": "stream",
     "text": [
      "\n",
      "Train loss: 1.5532, Train acc: 37.27%\n",
      "Test loss: 1.5138, Test acc: 39.20%\n",
      "\n",
      "\n",
      "Epoch 11 / 14: ---------------------------\n"
     ]
    },
    {
     "name": "stderr",
     "output_type": "stream",
     "text": [
      "Training Model on Num Batches: 100%|██████████| 898/898 [02:05<00:00,  7.18it/s]\n",
      "Testing Model: 100%|██████████| 113/113 [00:14<00:00,  7.62it/s]\n"
     ]
    },
    {
     "name": "stdout",
     "output_type": "stream",
     "text": [
      "\n",
      "Train loss: 1.4881, Train acc: 40.05%\n",
      "Test loss: 1.4752, Test acc: 40.98%\n",
      "\n",
      "\n",
      "Epoch 12 / 14: ---------------------------\n"
     ]
    },
    {
     "name": "stderr",
     "output_type": "stream",
     "text": [
      "Training Model on Num Batches: 100%|██████████| 898/898 [02:08<00:00,  6.99it/s]\n",
      "Testing Model: 100%|██████████| 113/113 [00:15<00:00,  7.11it/s]\n"
     ]
    },
    {
     "name": "stdout",
     "output_type": "stream",
     "text": [
      "\n",
      "Train loss: 1.4431, Train acc: 41.86%\n",
      "Test loss: 1.4695, Test acc: 41.59%\n",
      "\n",
      "\n",
      "Epoch 13 / 14: ---------------------------\n"
     ]
    },
    {
     "name": "stderr",
     "output_type": "stream",
     "text": [
      "Training Model on Num Batches: 100%|██████████| 898/898 [02:11<00:00,  6.82it/s]\n",
      "Testing Model: 100%|██████████| 113/113 [00:15<00:00,  7.19it/s]\n"
     ]
    },
    {
     "name": "stdout",
     "output_type": "stream",
     "text": [
      "\n",
      "Train loss: 1.4001, Train acc: 43.31%\n",
      "Test loss: 1.4805, Test acc: 41.01%\n",
      "\n",
      "\n",
      "Epoch 14 / 14: ---------------------------\n"
     ]
    },
    {
     "name": "stderr",
     "output_type": "stream",
     "text": [
      "Training Model on Num Batches: 100%|██████████| 898/898 [02:15<00:00,  6.61it/s]\n",
      "Testing Model: 100%|██████████| 113/113 [00:16<00:00,  6.88it/s]\n"
     ]
    },
    {
     "name": "stdout",
     "output_type": "stream",
     "text": [
      "\n",
      "Train loss: 1.3640, Train acc: 44.28%\n",
      "Test loss: 1.4266, Test acc: 42.64%\n",
      "\n",
      "\n",
      "-------Model has finished training-------\n",
      "\n",
      "\n",
      "model_grid6's training history has been saved.\n",
      "\n",
      "train_loss\n",
      "1. 1.8796\n",
      "2. 1.8737\n",
      "3. 1.8738\n",
      "4. 1.8721\n",
      "5. 1.8657\n",
      "6. 1.8012\n",
      "7. 1.7639\n",
      "8. 1.6996\n",
      "9. 1.6506\n",
      "10. 1.5532\n",
      "11. 1.4881\n",
      "12. 1.4431\n",
      "13. 1.4001\n",
      "14. 1.3640\n",
      "\n",
      "train_acc\n",
      "1. 24.9422\n",
      "2. 25.0814\n",
      "3. 25.1128\n",
      "4. 25.1197\n",
      "5. 25.1406\n",
      "6. 25.1406\n",
      "7. 27.0302\n",
      "8. 30.1517\n",
      "9. 32.4833\n",
      "10. 37.2661\n",
      "11. 40.0452\n",
      "12. 41.8583\n",
      "13. 43.3122\n",
      "14. 44.2803\n",
      "\n",
      "test_loss\n",
      "1. 1.8832\n",
      "2. 1.9179\n",
      "3. 1.8762\n",
      "4. 1.8768\n",
      "5. 1.8647\n",
      "6. 1.7949\n",
      "7. 1.7669\n",
      "8. 1.6745\n",
      "9. 1.6177\n",
      "10. 1.5138\n",
      "11. 1.4752\n",
      "12. 1.4695\n",
      "13. 1.4805\n",
      "14. 1.4266\n",
      "\n",
      "test_acc\n",
      "1. 24.5022\n",
      "2. 19.3861\n",
      "3. 24.5299\n",
      "4. 24.5299\n",
      "5. 24.5852\n",
      "6. 24.5299\n",
      "7. 29.7235\n",
      "8. 31.6482\n",
      "9. 34.8285\n",
      "10. 39.1980\n",
      "11. 40.9790\n",
      "12. 41.5874\n",
      "13. 41.0066\n",
      "14. 42.6383\n",
      "\n",
      "\n",
      "model_grid6's setting has been saved.\n",
      "\n",
      "\n",
      "Epoch 1 / 15: ---------------------------\n"
     ]
    },
    {
     "name": "stderr",
     "output_type": "stream",
     "text": [
      "Training Model on Num Batches: 100%|██████████| 898/898 [01:45<00:00,  8.54it/s]\n",
      "Testing Model: 100%|██████████| 113/113 [00:09<00:00, 11.53it/s]\n"
     ]
    },
    {
     "name": "stdout",
     "output_type": "stream",
     "text": [
      "\n",
      "Train loss: 1.9019, Train acc: 24.92%\n",
      "Test loss: 1.9043, Test acc: 24.53%\n",
      "\n",
      "\n",
      "Epoch 2 / 15: ---------------------------\n"
     ]
    },
    {
     "name": "stderr",
     "output_type": "stream",
     "text": [
      "Training Model on Num Batches: 100%|██████████| 898/898 [01:44<00:00,  8.63it/s]\n",
      "Testing Model: 100%|██████████| 113/113 [00:10<00:00, 10.93it/s]\n"
     ]
    },
    {
     "name": "stdout",
     "output_type": "stream",
     "text": [
      "\n",
      "Train loss: 1.8959, Train acc: 25.13%\n",
      "Test loss: 1.9058, Test acc: 24.53%\n",
      "\n",
      "\n",
      "Epoch 3 / 15: ---------------------------\n"
     ]
    },
    {
     "name": "stderr",
     "output_type": "stream",
     "text": [
      "Training Model on Num Batches: 100%|██████████| 898/898 [01:45<00:00,  8.53it/s]\n",
      "Testing Model: 100%|██████████| 113/113 [00:09<00:00, 11.51it/s]\n"
     ]
    },
    {
     "name": "stdout",
     "output_type": "stream",
     "text": [
      "\n",
      "Train loss: 1.8863, Train acc: 25.05%\n",
      "Test loss: 1.8860, Test acc: 24.53%\n",
      "\n",
      "\n",
      "Epoch 4 / 15: ---------------------------\n"
     ]
    },
    {
     "name": "stderr",
     "output_type": "stream",
     "text": [
      "Training Model on Num Batches: 100%|██████████| 898/898 [01:45<00:00,  8.52it/s]\n",
      "Testing Model: 100%|██████████| 113/113 [00:09<00:00, 11.54it/s]\n"
     ]
    },
    {
     "name": "stdout",
     "output_type": "stream",
     "text": [
      "\n",
      "Train loss: 1.8950, Train acc: 22.27%\n",
      "Test loss: 1.9087, Test acc: 20.89%\n",
      "\n",
      "\n",
      "Epoch 5 / 15: ---------------------------\n"
     ]
    },
    {
     "name": "stderr",
     "output_type": "stream",
     "text": [
      "Training Model on Num Batches: 100%|██████████| 898/898 [01:45<00:00,  8.53it/s]\n",
      "Testing Model: 100%|██████████| 113/113 [00:10<00:00, 10.65it/s]\n"
     ]
    },
    {
     "name": "stdout",
     "output_type": "stream",
     "text": [
      "\n",
      "Train loss: 1.9127, Train acc: 20.07%\n",
      "Test loss: 1.9295, Test acc: 16.73%\n",
      "\n",
      "\n",
      "Epoch 6 / 15: ---------------------------\n"
     ]
    },
    {
     "name": "stderr",
     "output_type": "stream",
     "text": [
      "Training Model on Num Batches: 100%|██████████| 898/898 [01:46<00:00,  8.43it/s]\n",
      "Testing Model: 100%|██████████| 113/113 [00:12<00:00,  9.18it/s]\n"
     ]
    },
    {
     "name": "stdout",
     "output_type": "stream",
     "text": [
      "\n",
      "Train loss: 1.9417, Train acc: 14.65%\n",
      "Test loss: 1.9459, Test acc: 13.55%\n",
      "\n",
      "\n",
      "Epoch 7 / 15: ---------------------------\n"
     ]
    },
    {
     "name": "stderr",
     "output_type": "stream",
     "text": [
      "Training Model on Num Batches: 100%|██████████| 898/898 [01:52<00:00,  7.96it/s]\n",
      "Testing Model: 100%|██████████| 113/113 [00:13<00:00,  8.64it/s]\n"
     ]
    },
    {
     "name": "stdout",
     "output_type": "stream",
     "text": [
      "\n",
      "Train loss: 1.9459, Train acc: 13.94%\n",
      "Test loss: 1.9459, Test acc: 13.55%\n",
      "\n",
      "\n",
      "Epoch 8 / 15: ---------------------------\n"
     ]
    },
    {
     "name": "stderr",
     "output_type": "stream",
     "text": [
      "Training Model on Num Batches: 100%|██████████| 898/898 [02:00<00:00,  7.48it/s]\n",
      "Testing Model: 100%|██████████| 113/113 [00:13<00:00,  8.12it/s]\n"
     ]
    },
    {
     "name": "stdout",
     "output_type": "stream",
     "text": [
      "\n",
      "Train loss: 1.9459, Train acc: 13.94%\n",
      "Test loss: 1.9459, Test acc: 13.55%\n",
      "\n",
      "\n",
      "Epoch 9 / 15: ---------------------------\n"
     ]
    },
    {
     "name": "stderr",
     "output_type": "stream",
     "text": [
      "Training Model on Num Batches: 100%|██████████| 898/898 [02:05<00:00,  7.15it/s]\n",
      "Testing Model: 100%|██████████| 113/113 [00:15<00:00,  7.40it/s]\n"
     ]
    },
    {
     "name": "stdout",
     "output_type": "stream",
     "text": [
      "\n",
      "Train loss: 1.9459, Train acc: 13.94%\n",
      "Test loss: 1.9459, Test acc: 13.55%\n",
      "\n",
      "\n",
      "Epoch 10 / 15: ---------------------------\n"
     ]
    },
    {
     "name": "stderr",
     "output_type": "stream",
     "text": [
      "Training Model on Num Batches: 100%|██████████| 898/898 [02:06<00:00,  7.07it/s]\n",
      "Testing Model: 100%|██████████| 113/113 [00:15<00:00,  7.32it/s]\n"
     ]
    },
    {
     "name": "stdout",
     "output_type": "stream",
     "text": [
      "\n",
      "Train loss: 1.9459, Train acc: 13.94%\n",
      "Test loss: 1.9459, Test acc: 13.55%\n",
      "\n",
      "\n",
      "Epoch 11 / 15: ---------------------------\n"
     ]
    },
    {
     "name": "stderr",
     "output_type": "stream",
     "text": [
      "Training Model on Num Batches: 100%|██████████| 898/898 [02:08<00:00,  6.97it/s]\n",
      "Testing Model: 100%|██████████| 113/113 [00:14<00:00,  7.64it/s]\n"
     ]
    },
    {
     "name": "stdout",
     "output_type": "stream",
     "text": [
      "\n",
      "Train loss: 1.9459, Train acc: 13.94%\n",
      "Test loss: 1.9459, Test acc: 13.55%\n",
      "\n",
      "\n",
      "Epoch 12 / 15: ---------------------------\n"
     ]
    },
    {
     "name": "stderr",
     "output_type": "stream",
     "text": [
      "Training Model on Num Batches: 100%|██████████| 898/898 [02:08<00:00,  7.01it/s]\n",
      "Testing Model: 100%|██████████| 113/113 [00:15<00:00,  7.24it/s]\n"
     ]
    },
    {
     "name": "stdout",
     "output_type": "stream",
     "text": [
      "\n",
      "Train loss: 1.9459, Train acc: 13.94%\n",
      "Test loss: 1.9459, Test acc: 13.55%\n",
      "\n",
      "\n",
      "Epoch 13 / 15: ---------------------------\n"
     ]
    },
    {
     "name": "stderr",
     "output_type": "stream",
     "text": [
      "Training Model on Num Batches: 100%|██████████| 898/898 [02:10<00:00,  6.88it/s]\n",
      "Testing Model: 100%|██████████| 113/113 [00:15<00:00,  7.47it/s]\n"
     ]
    },
    {
     "name": "stdout",
     "output_type": "stream",
     "text": [
      "\n",
      "Train loss: 1.9459, Train acc: 13.94%\n",
      "Test loss: 1.9459, Test acc: 13.55%\n",
      "\n",
      "\n",
      "Epoch 14 / 15: ---------------------------\n"
     ]
    },
    {
     "name": "stderr",
     "output_type": "stream",
     "text": [
      "Training Model on Num Batches: 100%|██████████| 898/898 [02:10<00:00,  6.90it/s]\n",
      "Testing Model: 100%|██████████| 113/113 [00:15<00:00,  7.09it/s]\n"
     ]
    },
    {
     "name": "stdout",
     "output_type": "stream",
     "text": [
      "\n",
      "Train loss: 1.9459, Train acc: 13.94%\n",
      "Test loss: 1.9459, Test acc: 13.55%\n",
      "\n",
      "\n",
      "Epoch 15 / 15: ---------------------------\n"
     ]
    },
    {
     "name": "stderr",
     "output_type": "stream",
     "text": [
      "Training Model on Num Batches: 100%|██████████| 898/898 [02:13<00:00,  6.73it/s]\n",
      "Testing Model: 100%|██████████| 113/113 [00:16<00:00,  6.66it/s]\n"
     ]
    },
    {
     "name": "stdout",
     "output_type": "stream",
     "text": [
      "\n",
      "Train loss: 1.9459, Train acc: 13.94%\n",
      "Test loss: 1.9459, Test acc: 13.55%\n",
      "\n",
      "\n",
      "-------Model has finished training-------\n",
      "\n",
      "\n",
      "model_grid7's training history has been saved.\n",
      "\n",
      "train_loss\n",
      "1. 1.9019\n",
      "2. 1.8959\n",
      "3. 1.8863\n",
      "4. 1.8950\n",
      "5. 1.9127\n",
      "6. 1.9417\n",
      "7. 1.9459\n",
      "8. 1.9459\n",
      "9. 1.9459\n",
      "10. 1.9459\n",
      "11. 1.9459\n",
      "12. 1.9459\n",
      "13. 1.9459\n",
      "14. 1.9459\n",
      "15. 1.9459\n",
      "\n",
      "train_acc\n",
      "1. 24.9214\n",
      "2. 25.1267\n",
      "3. 25.0501\n",
      "4. 22.2710\n",
      "5. 20.0717\n",
      "6. 14.6534\n",
      "7. 13.9400\n",
      "8. 13.9400\n",
      "9. 13.9400\n",
      "10. 13.9400\n",
      "11. 13.9400\n",
      "12. 13.9400\n",
      "13. 13.9400\n",
      "14. 13.9400\n",
      "15. 13.9400\n",
      "\n",
      "test_loss\n",
      "1. 1.9043\n",
      "2. 1.9058\n",
      "3. 1.8860\n",
      "4. 1.9087\n",
      "5. 1.9295\n",
      "6. 1.9459\n",
      "7. 1.9459\n",
      "8. 1.9459\n",
      "9. 1.9459\n",
      "10. 1.9459\n",
      "11. 1.9459\n",
      "12. 1.9459\n",
      "13. 1.9459\n",
      "14. 1.9459\n",
      "15. 1.9459\n",
      "\n",
      "test_acc\n",
      "1. 24.5299\n",
      "2. 24.5299\n",
      "3. 24.5299\n",
      "4. 20.8905\n",
      "5. 16.7257\n",
      "6. 13.5454\n",
      "7. 13.5454\n",
      "8. 13.5454\n",
      "9. 13.5454\n",
      "10. 13.5454\n",
      "11. 13.5454\n",
      "12. 13.5454\n",
      "13. 13.5454\n",
      "14. 13.5454\n",
      "15. 13.5454\n",
      "\n",
      "\n",
      "model_grid7's setting has been saved.\n",
      "\n"
     ]
    }
   ],
   "source": [
    "## Hyperparameter Tuning\n",
    "\n",
    "# Original value: 15, 0.0012, 0.3, [1024, 256, 64]\n",
    "# Form: epoch, learningRate, dropoutRate, linear_hiddenUnits_list\n",
    "# Key: ep, lr, dr, lhu\n",
    "hyperparameters_list = []\n",
    "\n",
    "# Set 1\n",
    "temp1 = [15, 0.0012, 0.3, [1024, 256, 64]]\n",
    "\n",
    "# Set 2\n",
    "temp2 = [12, 0.0012, 0.4, [1024, 256, 64]]\n",
    "\n",
    "# Set 3\n",
    "temp3 = [13, 0.001, 0.3, [1024, 256, 64]]\n",
    "\n",
    "# Set 4\n",
    "temp4 = [15, 0.0012, 0.2, [256, 64]]\n",
    "\n",
    "# Set 5\n",
    "temp5 = [16, 0.00125, 0.3, [512, 128, 64]]\n",
    "\n",
    "# Set 6\n",
    "temp6 = [14, 0.0012, 0.25, [512, 32]]\n",
    "\n",
    "# Set 7\n",
    "temp7 = [15, 0.0011, 0.35, [1024, 256, 64]]\n",
    "\n",
    "hyperparameters_list.append(temp1)\n",
    "hyperparameters_list.append(temp2)\n",
    "hyperparameters_list.append(temp3)\n",
    "hyperparameters_list.append(temp4)\n",
    "hyperparameters_list.append(temp5)\n",
    "hyperparameters_list.append(temp6)\n",
    "hyperparameters_list.append(temp7)\n",
    "\n",
    "hyperparameter_history = hyperparameterGridSearch(hyperparameters_list, 7)"
   ]
  },
  {
   "cell_type": "code",
   "execution_count": 98,
   "id": "fc775d6e",
   "metadata": {},
   "outputs": [
    {
     "name": "stdout",
     "output_type": "stream",
     "text": [
      "\n",
      "train_loss: \n",
      "Set 1. 1.4234\n",
      "Set 2. 1.8339\n",
      "Set 3. 1.9459\n",
      "Set 4. 1.8666\n",
      "Set 5. 1.3923\n",
      "Set 6. 1.3640\n",
      "Set 7. 1.9459\n",
      "\n",
      "train_acc: \n",
      "Set 1. 45.3132\n",
      "Set 2. 25.7913\n",
      "Set 3. 13.9400\n",
      "Set 4. 24.2671\n",
      "Set 5. 45.0508\n",
      "Set 6. 44.2803\n",
      "Set 7. 13.9400\n",
      "\n",
      "val_loss: \n",
      "Set 1. 1.4786\n",
      "Set 2. 1.8596\n",
      "Set 3. 1.9459\n",
      "Set 4. 1.8847\n",
      "Set 5. 1.4430\n",
      "Set 6. 1.4266\n",
      "Set 7. 1.9459\n",
      "\n",
      "val_acc: \n",
      "Set 1. 43.7445\n",
      "Set 2. 24.5299\n",
      "Set 3. 13.5454\n",
      "Set 4. 23.8772\n",
      "Set 5. 44.7954\n",
      "Set 6. 42.6383\n",
      "Set 7. 13.5454\n"
     ]
    }
   ],
   "source": [
    "## Show hyperparameter training and testing history\n",
    "for key, dataL in hyperparameter_history.items():\n",
    "    \n",
    "    print(f\"\\n{key}: \")\n",
    "    \n",
    "    for i in range(0, len(dataL)):\n",
    "        data = dataL[i].item()\n",
    "        print(f\"Set {i+1}. {data:.4f}\")"
   ]
  },
  {
   "cell_type": "code",
   "execution_count": 38,
   "id": "5e27d807",
   "metadata": {},
   "outputs": [
    {
     "ename": "TypeError",
     "evalue": "torch.nn.modules.activation.ReLU is not a Module subclass",
     "output_type": "error",
     "traceback": [
      "\u001b[31m---------------------------------------------------------------------------\u001b[39m",
      "\u001b[31mTypeError\u001b[39m                                 Traceback (most recent call last)",
      "\u001b[36mCell\u001b[39m\u001b[36m \u001b[39m\u001b[32mIn[38]\u001b[39m\u001b[32m, line 16\u001b[39m\n\u001b[32m      4\u001b[39m     mb_params = basic_mb_params\n\u001b[32m      6\u001b[39m model_2 = ModelSet(model_name=\u001b[33m\"\u001b[39m\u001b[33mmodel_2\u001b[39m\u001b[33m\"\u001b[39m, \u001b[38;5;66;03m# Change names if you want to save different versions of models\u001b[39;00m\n\u001b[32m      7\u001b[39m                    model_type=\u001b[33m\"\u001b[39m\u001b[33mb0\u001b[39m\u001b[33m\"\u001b[39m, \u001b[38;5;66;03m# from b0 --> b7\u001b[39;00m\n\u001b[32m      8\u001b[39m                    epochs=\u001b[32m15\u001b[39m, \n\u001b[32m   (...)\u001b[39m\u001b[32m     13\u001b[39m                    optimChoice=\u001b[33m\"\u001b[39m\u001b[33mAdam\u001b[39m\u001b[33m\"\u001b[39m, \u001b[38;5;66;03m# Available choice: Adam, AdamW, Adadelta, SGD\u001b[39;00m\n\u001b[32m     14\u001b[39m                    linear_hiddenUnits_list=[\u001b[32m1024\u001b[39m, \u001b[32m256\u001b[39m, \u001b[32m64\u001b[39m]) \u001b[38;5;66;03m# Each value refers to an additional hidden Linear layer with x neuron before the final classification\u001b[39;00m\n\u001b[32m---> \u001b[39m\u001b[32m16\u001b[39m \u001b[43mmodel_2\u001b[49m\u001b[43m.\u001b[49m\u001b[43mmodel_setup\u001b[49m\u001b[43m(\u001b[49m\u001b[43m)\u001b[49m \u001b[38;5;66;03m# Setting up everything\u001b[39;00m\n\u001b[32m     18\u001b[39m modelSettings = model_2.generate_modelSettings_dict()\n",
      "\u001b[36mCell\u001b[39m\u001b[36m \u001b[39m\u001b[32mIn[36]\u001b[39m\u001b[32m, line 20\u001b[39m, in \u001b[36mModelSet.model_setup\u001b[39m\u001b[34m(self)\u001b[39m\n\u001b[32m     17\u001b[39m \u001b[38;5;28;01mdef\u001b[39;00m\u001b[38;5;250m \u001b[39m\u001b[34mmodel_setup\u001b[39m(\u001b[38;5;28mself\u001b[39m):\n\u001b[32m     18\u001b[39m     \u001b[38;5;28mself\u001b[39m.device = \u001b[33m\"\u001b[39m\u001b[33mcuda\u001b[39m\u001b[33m\"\u001b[39m \u001b[38;5;28;01mif\u001b[39;00m torch.cuda.is_available() \u001b[38;5;28;01melse\u001b[39;00m \u001b[33m\"\u001b[39m\u001b[33mcpu\u001b[39m\u001b[33m\"\u001b[39m\n\u001b[32m---> \u001b[39m\u001b[32m20\u001b[39m     \u001b[38;5;28mself\u001b[39m.model, \u001b[38;5;28mself\u001b[39m.train_loader, \u001b[38;5;28mself\u001b[39m.test_loader, \u001b[38;5;28mself\u001b[39m.val_loader, \u001b[38;5;28mself\u001b[39m.optimizer = \u001b[43msetHyperparameters\u001b[49m\u001b[43m(\u001b[49m\u001b[43mmodel_type\u001b[49m\u001b[43m=\u001b[49m\u001b[38;5;28;43mself\u001b[39;49m\u001b[43m.\u001b[49m\u001b[43mmodel_type\u001b[49m\u001b[43m,\u001b[49m\n\u001b[32m     21\u001b[39m \u001b[43m                                                                                                          \u001b[49m\u001b[43mnum_class\u001b[49m\u001b[43m=\u001b[49m\u001b[38;5;28;43mself\u001b[39;49m\u001b[43m.\u001b[49m\u001b[43mnum_class\u001b[49m\u001b[43m,\u001b[49m\n\u001b[32m     22\u001b[39m \u001b[43m                                                                                                          \u001b[49m\u001b[43mbatchSize\u001b[49m\u001b[43m=\u001b[49m\u001b[38;5;28;43mself\u001b[39;49m\u001b[43m.\u001b[49m\u001b[43mbatchSize\u001b[49m\u001b[43m,\u001b[49m\n\u001b[32m     23\u001b[39m \u001b[43m                                                                                                          \u001b[49m\u001b[43mlearningRate\u001b[49m\u001b[43m=\u001b[49m\u001b[38;5;28;43mself\u001b[39;49m\u001b[43m.\u001b[49m\u001b[43mlearningRate\u001b[49m\u001b[43m,\u001b[49m\n\u001b[32m     24\u001b[39m \u001b[43m                                                                                                          \u001b[49m\u001b[43mdevice\u001b[49m\u001b[43m=\u001b[49m\u001b[38;5;28;43mself\u001b[39;49m\u001b[43m.\u001b[49m\u001b[43mdevice\u001b[49m\u001b[43m,\u001b[49m\n\u001b[32m     25\u001b[39m \u001b[43m                                                                                                          \u001b[49m\u001b[43mmb_params\u001b[49m\u001b[43m=\u001b[49m\u001b[38;5;28;43mself\u001b[39;49m\u001b[43m.\u001b[49m\u001b[43mmb_params\u001b[49m\u001b[43m,\u001b[49m\n\u001b[32m     26\u001b[39m \u001b[43m                                                                                                          \u001b[49m\u001b[43mnewDropoutRate\u001b[49m\u001b[43m=\u001b[49m\u001b[38;5;28;43mself\u001b[39;49m\u001b[43m.\u001b[49m\u001b[43mnewDropoutRate\u001b[49m\u001b[43m,\u001b[49m\n\u001b[32m     27\u001b[39m \u001b[43m                                                                                                          \u001b[49m\u001b[43moptimChoice\u001b[49m\u001b[43m=\u001b[49m\u001b[38;5;28;43mself\u001b[39;49m\u001b[43m.\u001b[49m\u001b[43moptimChoice\u001b[49m\u001b[43m,\u001b[49m\n\u001b[32m     28\u001b[39m \u001b[43m                                                                                                          \u001b[49m\u001b[43mlinear_hiddenUnits_list\u001b[49m\u001b[43m=\u001b[49m\u001b[38;5;28;43mself\u001b[39;49m\u001b[43m.\u001b[49m\u001b[43mlinear_hiddenUnits_list\u001b[49m\u001b[43m)\u001b[49m\n\u001b[32m     30\u001b[39m     \u001b[38;5;28mself\u001b[39m.lossFn = nn.CrossEntropyLoss()\n\u001b[32m     32\u001b[39m     \u001b[38;5;28mself\u001b[39m.accFn = Accuracy(\u001b[33m'\u001b[39m\u001b[33mmulticlass\u001b[39m\u001b[33m'\u001b[39m, num_classes=\u001b[38;5;28mself\u001b[39m.num_class).to(\u001b[38;5;28mself\u001b[39m.device)\n",
      "\u001b[36mCell\u001b[39m\u001b[36m \u001b[39m\u001b[32mIn[28]\u001b[39m\u001b[32m, line 9\u001b[39m, in \u001b[36msetHyperparameters\u001b[39m\u001b[34m(model_type, num_class, batchSize, learningRate, device, mb_params, newDropoutRate, optimChoice, linear_hiddenUnits_list)\u001b[39m\n\u001b[32m      6\u001b[39m test_loader = loadDataset(resolution, batchSize, \u001b[33m\"\u001b[39m\u001b[33mtest\u001b[39m\u001b[33m\"\u001b[39m)\n\u001b[32m      7\u001b[39m val_loader = loadDataset(resolution, batchSize, \u001b[33m\"\u001b[39m\u001b[33mvalidation\u001b[39m\u001b[33m\"\u001b[39m)\n\u001b[32m----> \u001b[39m\u001b[32m9\u001b[39m model = \u001b[43mEfficientNet\u001b[49m\u001b[43m(\u001b[49m\u001b[43mmodel_name\u001b[49m\u001b[43m=\u001b[49m\u001b[43mmodel_type\u001b[49m\u001b[43m,\u001b[49m\n\u001b[32m     10\u001b[39m \u001b[43m                     \u001b[49m\u001b[43moutput\u001b[49m\u001b[43m=\u001b[49m\u001b[43mnum_class\u001b[49m\u001b[43m,\u001b[49m\n\u001b[32m     11\u001b[39m \u001b[43m                     \u001b[49m\u001b[43mmb_params\u001b[49m\u001b[43m=\u001b[49m\u001b[43mmb_params\u001b[49m\u001b[43m,\u001b[49m\n\u001b[32m     12\u001b[39m \u001b[43m                     \u001b[49m\u001b[43mdropout_newVal\u001b[49m\u001b[43m=\u001b[49m\u001b[43mnewDropoutRate\u001b[49m\u001b[43m,\u001b[49m\n\u001b[32m     13\u001b[39m \u001b[43m                     \u001b[49m\u001b[43mlinear_hiddenUnits_list\u001b[49m\u001b[43m=\u001b[49m\u001b[43mlinear_hiddenUnits_list\u001b[49m\u001b[43m)\u001b[49m\n\u001b[32m     15\u001b[39m model.to(device)\n\u001b[32m     17\u001b[39m \u001b[38;5;28;01mmatch\u001b[39;00m (optimChoice):\n",
      "\u001b[36mCell\u001b[39m\u001b[36m \u001b[39m\u001b[32mIn[24]\u001b[39m\u001b[32m, line 42\u001b[39m, in \u001b[36mEfficientNet.__init__\u001b[39m\u001b[34m(self, model_name, output, mb_params, dropout_newVal, linear_hiddenUnits_list)\u001b[39m\n\u001b[32m     39\u001b[39m feed_forward_network_layers.append(nn.Linear(linear_hiddenUnits_list[\u001b[38;5;28mlen\u001b[39m(linear_hiddenUnits_list)-\u001b[32m1\u001b[39m], output))\n\u001b[32m     40\u001b[39m feed_forward_network_layers.append(nn.ReLU)\n\u001b[32m---> \u001b[39m\u001b[32m42\u001b[39m \u001b[38;5;28mself\u001b[39m.classifier = \u001b[43mnn\u001b[49m\u001b[43m.\u001b[49m\u001b[43mSequential\u001b[49m\u001b[43m(\u001b[49m\u001b[43m*\u001b[49m\u001b[43mfeed_forward_network_layers\u001b[49m\u001b[43m)\u001b[49m\n",
      "\u001b[36mFile \u001b[39m\u001b[32m~\\AppData\\Roaming\\Python\\Python313\\site-packages\\torch\\nn\\modules\\container.py:117\u001b[39m, in \u001b[36mSequential.__init__\u001b[39m\u001b[34m(self, *args)\u001b[39m\n\u001b[32m    115\u001b[39m \u001b[38;5;28;01melse\u001b[39;00m:\n\u001b[32m    116\u001b[39m     \u001b[38;5;28;01mfor\u001b[39;00m idx, module \u001b[38;5;129;01min\u001b[39;00m \u001b[38;5;28menumerate\u001b[39m(args):\n\u001b[32m--> \u001b[39m\u001b[32m117\u001b[39m         \u001b[38;5;28;43mself\u001b[39;49m\u001b[43m.\u001b[49m\u001b[43madd_module\u001b[49m\u001b[43m(\u001b[49m\u001b[38;5;28;43mstr\u001b[39;49m\u001b[43m(\u001b[49m\u001b[43midx\u001b[49m\u001b[43m)\u001b[49m\u001b[43m,\u001b[49m\u001b[43m \u001b[49m\u001b[43mmodule\u001b[49m\u001b[43m)\u001b[49m\n",
      "\u001b[36mFile \u001b[39m\u001b[32m~\\AppData\\Roaming\\Python\\Python313\\site-packages\\torch\\nn\\modules\\module.py:635\u001b[39m, in \u001b[36mModule.add_module\u001b[39m\u001b[34m(self, name, module)\u001b[39m\n\u001b[32m    625\u001b[39m \u001b[38;5;250m\u001b[39m\u001b[33mr\u001b[39m\u001b[33;03m\"\"\"Add a child module to the current module.\u001b[39;00m\n\u001b[32m    626\u001b[39m \n\u001b[32m    627\u001b[39m \u001b[33;03mThe module can be accessed as an attribute using the given name.\u001b[39;00m\n\u001b[32m   (...)\u001b[39m\u001b[32m    632\u001b[39m \u001b[33;03m    module (Module): child module to be added to the module.\u001b[39;00m\n\u001b[32m    633\u001b[39m \u001b[33;03m\"\"\"\u001b[39;00m\n\u001b[32m    634\u001b[39m \u001b[38;5;28;01mif\u001b[39;00m \u001b[38;5;129;01mnot\u001b[39;00m \u001b[38;5;28misinstance\u001b[39m(module, Module) \u001b[38;5;129;01mand\u001b[39;00m module \u001b[38;5;129;01mis\u001b[39;00m \u001b[38;5;129;01mnot\u001b[39;00m \u001b[38;5;28;01mNone\u001b[39;00m:\n\u001b[32m--> \u001b[39m\u001b[32m635\u001b[39m     \u001b[38;5;28;01mraise\u001b[39;00m \u001b[38;5;167;01mTypeError\u001b[39;00m(\u001b[33mf\u001b[39m\u001b[33m\"\u001b[39m\u001b[38;5;132;01m{\u001b[39;00mtorch.typename(module)\u001b[38;5;132;01m}\u001b[39;00m\u001b[33m is not a Module subclass\u001b[39m\u001b[33m\"\u001b[39m)\n\u001b[32m    636\u001b[39m \u001b[38;5;28;01melif\u001b[39;00m \u001b[38;5;129;01mnot\u001b[39;00m \u001b[38;5;28misinstance\u001b[39m(name, \u001b[38;5;28mstr\u001b[39m):\n\u001b[32m    637\u001b[39m     \u001b[38;5;28;01mraise\u001b[39;00m \u001b[38;5;167;01mTypeError\u001b[39;00m(\n\u001b[32m    638\u001b[39m         \u001b[33mf\u001b[39m\u001b[33m\"\u001b[39m\u001b[33mmodule name should be a string. Got \u001b[39m\u001b[38;5;132;01m{\u001b[39;00mtorch.typename(name)\u001b[38;5;132;01m}\u001b[39;00m\u001b[33m\"\u001b[39m\n\u001b[32m    639\u001b[39m     )\n",
      "\u001b[31mTypeError\u001b[39m: torch.nn.modules.activation.ReLU is not a Module subclass"
     ]
    }
   ],
   "source": [
    "## Creating a model\n",
    "\n",
    "if (mb_params == basic_mb_params):\n",
    "    mb_params = basic_mb_params\n",
    "\n",
    "model_2 = ModelSet(model_name=\"model_2\", # Change names if you want to save different versions of models\n",
    "                   model_type=\"b0\", # from b0 --> b7\n",
    "                   epochs=15, \n",
    "                   batchSize=32, # Typically in the power of 2\n",
    "                   learningRate=0.0012, # Different choices for different optimizers\n",
    "                   mb_params=mb_params, # Can refer to previous block / If None, use basic_mb_params\n",
    "                   newDropoutRate=0.3, # Can refer to previous block / If None, use basic dropout rate\n",
    "                   optimChoice=\"Adam\", # Available choice: Adam, AdamW, Adadelta, SGD\n",
    "                   linear_hiddenUnits_list=[1024, 256, 64]) # Each value refers to an additional hidden Linear layer with x neuron before the final classification\n",
    "\n",
    "model_2.model_setup() # Setting up everything\n",
    "\n",
    "modelSettings = model_2.generate_modelSettings_dict()"
   ]
  },
  {
   "cell_type": "code",
   "execution_count": 65,
   "id": "9413a704",
   "metadata": {},
   "outputs": [
    {
     "name": "stdout",
     "output_type": "stream",
     "text": [
      "----------------------------------------------------------------\n",
      "        Layer (type)               Output Shape         Param #\n",
      "================================================================\n",
      "            Conv2d-1         [-1, 32, 112, 112]             896\n",
      "       BatchNorm2d-2         [-1, 32, 112, 112]              64\n",
      "              SiLU-3         [-1, 32, 112, 112]               0\n",
      "         ConvBlock-4         [-1, 32, 112, 112]               0\n",
      "            Conv2d-5         [-1, 32, 112, 112]             320\n",
      "       BatchNorm2d-6         [-1, 32, 112, 112]              64\n",
      "              SiLU-7         [-1, 32, 112, 112]               0\n",
      "         ConvBlock-8         [-1, 32, 112, 112]               0\n",
      " AdaptiveAvgPool2d-9             [-1, 32, 1, 1]               0\n",
      "           Conv2d-10             [-1, 16, 1, 1]             528\n",
      "             SiLU-11             [-1, 16, 1, 1]               0\n",
      "           Conv2d-12             [-1, 32, 1, 1]             544\n",
      "          Sigmoid-13             [-1, 32, 1, 1]               0\n",
      "SqueezeExcitation-14         [-1, 32, 112, 112]               0\n",
      "           Conv2d-15         [-1, 16, 112, 112]             528\n",
      "      BatchNorm2d-16         [-1, 16, 112, 112]              32\n",
      "           MBConv-17         [-1, 16, 112, 112]               0\n",
      "           Conv2d-18         [-1, 96, 112, 112]          13,920\n",
      "      BatchNorm2d-19         [-1, 96, 112, 112]             192\n",
      "             SiLU-20         [-1, 96, 112, 112]               0\n",
      "        ConvBlock-21         [-1, 96, 112, 112]               0\n",
      "           Conv2d-22           [-1, 96, 56, 56]             960\n",
      "      BatchNorm2d-23           [-1, 96, 56, 56]             192\n",
      "             SiLU-24           [-1, 96, 56, 56]               0\n",
      "        ConvBlock-25           [-1, 96, 56, 56]               0\n",
      "AdaptiveAvgPool2d-26             [-1, 96, 1, 1]               0\n",
      "           Conv2d-27              [-1, 8, 1, 1]             776\n",
      "             SiLU-28              [-1, 8, 1, 1]               0\n",
      "           Conv2d-29             [-1, 96, 1, 1]             864\n",
      "          Sigmoid-30             [-1, 96, 1, 1]               0\n",
      "SqueezeExcitation-31           [-1, 96, 56, 56]               0\n",
      "           Conv2d-32           [-1, 24, 56, 56]           2,328\n",
      "      BatchNorm2d-33           [-1, 24, 56, 56]              48\n",
      "           MBConv-34           [-1, 24, 56, 56]               0\n",
      "           Conv2d-35          [-1, 144, 56, 56]          31,248\n",
      "      BatchNorm2d-36          [-1, 144, 56, 56]             288\n",
      "             SiLU-37          [-1, 144, 56, 56]               0\n",
      "        ConvBlock-38          [-1, 144, 56, 56]               0\n",
      "           Conv2d-39          [-1, 144, 56, 56]           1,440\n",
      "      BatchNorm2d-40          [-1, 144, 56, 56]             288\n",
      "             SiLU-41          [-1, 144, 56, 56]               0\n",
      "        ConvBlock-42          [-1, 144, 56, 56]               0\n",
      "AdaptiveAvgPool2d-43            [-1, 144, 1, 1]               0\n",
      "           Conv2d-44             [-1, 12, 1, 1]           1,740\n",
      "             SiLU-45             [-1, 12, 1, 1]               0\n",
      "           Conv2d-46            [-1, 144, 1, 1]           1,872\n",
      "          Sigmoid-47            [-1, 144, 1, 1]               0\n",
      "SqueezeExcitation-48          [-1, 144, 56, 56]               0\n",
      "           Conv2d-49           [-1, 24, 56, 56]           3,480\n",
      "      BatchNorm2d-50           [-1, 24, 56, 56]              48\n",
      "           MBConv-51           [-1, 24, 56, 56]               0\n",
      "           Conv2d-52          [-1, 144, 56, 56]          31,248\n",
      "      BatchNorm2d-53          [-1, 144, 56, 56]             288\n",
      "             SiLU-54          [-1, 144, 56, 56]               0\n",
      "        ConvBlock-55          [-1, 144, 56, 56]               0\n",
      "           Conv2d-56          [-1, 144, 28, 28]           3,744\n",
      "      BatchNorm2d-57          [-1, 144, 28, 28]             288\n",
      "             SiLU-58          [-1, 144, 28, 28]               0\n",
      "        ConvBlock-59          [-1, 144, 28, 28]               0\n",
      "AdaptiveAvgPool2d-60            [-1, 144, 1, 1]               0\n",
      "           Conv2d-61             [-1, 12, 1, 1]           1,740\n",
      "             SiLU-62             [-1, 12, 1, 1]               0\n",
      "           Conv2d-63            [-1, 144, 1, 1]           1,872\n",
      "          Sigmoid-64            [-1, 144, 1, 1]               0\n",
      "SqueezeExcitation-65          [-1, 144, 28, 28]               0\n",
      "           Conv2d-66           [-1, 40, 28, 28]           5,800\n",
      "      BatchNorm2d-67           [-1, 40, 28, 28]              80\n",
      "           MBConv-68           [-1, 40, 28, 28]               0\n",
      "           Conv2d-69          [-1, 240, 28, 28]          86,640\n",
      "      BatchNorm2d-70          [-1, 240, 28, 28]             480\n",
      "             SiLU-71          [-1, 240, 28, 28]               0\n",
      "        ConvBlock-72          [-1, 240, 28, 28]               0\n",
      "           Conv2d-73          [-1, 240, 28, 28]           6,240\n",
      "      BatchNorm2d-74          [-1, 240, 28, 28]             480\n",
      "             SiLU-75          [-1, 240, 28, 28]               0\n",
      "        ConvBlock-76          [-1, 240, 28, 28]               0\n",
      "AdaptiveAvgPool2d-77            [-1, 240, 1, 1]               0\n",
      "           Conv2d-78             [-1, 20, 1, 1]           4,820\n",
      "             SiLU-79             [-1, 20, 1, 1]               0\n",
      "           Conv2d-80            [-1, 240, 1, 1]           5,040\n",
      "          Sigmoid-81            [-1, 240, 1, 1]               0\n",
      "SqueezeExcitation-82          [-1, 240, 28, 28]               0\n",
      "           Conv2d-83           [-1, 40, 28, 28]           9,640\n",
      "      BatchNorm2d-84           [-1, 40, 28, 28]              80\n",
      "           MBConv-85           [-1, 40, 28, 28]               0\n",
      "           Conv2d-86          [-1, 240, 28, 28]          86,640\n",
      "      BatchNorm2d-87          [-1, 240, 28, 28]             480\n",
      "             SiLU-88          [-1, 240, 28, 28]               0\n",
      "        ConvBlock-89          [-1, 240, 28, 28]               0\n",
      "           Conv2d-90          [-1, 240, 14, 14]           2,400\n",
      "      BatchNorm2d-91          [-1, 240, 14, 14]             480\n",
      "             SiLU-92          [-1, 240, 14, 14]               0\n",
      "        ConvBlock-93          [-1, 240, 14, 14]               0\n",
      "AdaptiveAvgPool2d-94            [-1, 240, 1, 1]               0\n",
      "           Conv2d-95             [-1, 20, 1, 1]           4,820\n",
      "             SiLU-96             [-1, 20, 1, 1]               0\n",
      "           Conv2d-97            [-1, 240, 1, 1]           5,040\n",
      "          Sigmoid-98            [-1, 240, 1, 1]               0\n",
      "SqueezeExcitation-99          [-1, 240, 14, 14]               0\n",
      "          Conv2d-100           [-1, 80, 14, 14]          19,280\n",
      "     BatchNorm2d-101           [-1, 80, 14, 14]             160\n",
      "          MBConv-102           [-1, 80, 14, 14]               0\n",
      "          Conv2d-103          [-1, 480, 14, 14]         346,080\n",
      "     BatchNorm2d-104          [-1, 480, 14, 14]             960\n",
      "            SiLU-105          [-1, 480, 14, 14]               0\n",
      "       ConvBlock-106          [-1, 480, 14, 14]               0\n",
      "          Conv2d-107          [-1, 480, 14, 14]           4,800\n",
      "     BatchNorm2d-108          [-1, 480, 14, 14]             960\n",
      "            SiLU-109          [-1, 480, 14, 14]               0\n",
      "       ConvBlock-110          [-1, 480, 14, 14]               0\n",
      "AdaptiveAvgPool2d-111            [-1, 480, 1, 1]               0\n",
      "          Conv2d-112             [-1, 40, 1, 1]          19,240\n",
      "            SiLU-113             [-1, 40, 1, 1]               0\n",
      "          Conv2d-114            [-1, 480, 1, 1]          19,680\n",
      "         Sigmoid-115            [-1, 480, 1, 1]               0\n",
      "SqueezeExcitation-116          [-1, 480, 14, 14]               0\n",
      "          Conv2d-117           [-1, 80, 14, 14]          38,480\n",
      "     BatchNorm2d-118           [-1, 80, 14, 14]             160\n",
      "          MBConv-119           [-1, 80, 14, 14]               0\n",
      "          Conv2d-120          [-1, 480, 14, 14]         346,080\n",
      "     BatchNorm2d-121          [-1, 480, 14, 14]             960\n",
      "            SiLU-122          [-1, 480, 14, 14]               0\n",
      "       ConvBlock-123          [-1, 480, 14, 14]               0\n",
      "          Conv2d-124          [-1, 480, 14, 14]           4,800\n",
      "     BatchNorm2d-125          [-1, 480, 14, 14]             960\n",
      "            SiLU-126          [-1, 480, 14, 14]               0\n",
      "       ConvBlock-127          [-1, 480, 14, 14]               0\n",
      "AdaptiveAvgPool2d-128            [-1, 480, 1, 1]               0\n",
      "          Conv2d-129             [-1, 40, 1, 1]          19,240\n",
      "            SiLU-130             [-1, 40, 1, 1]               0\n",
      "          Conv2d-131            [-1, 480, 1, 1]          19,680\n",
      "         Sigmoid-132            [-1, 480, 1, 1]               0\n",
      "SqueezeExcitation-133          [-1, 480, 14, 14]               0\n",
      "          Conv2d-134           [-1, 80, 14, 14]          38,480\n",
      "     BatchNorm2d-135           [-1, 80, 14, 14]             160\n",
      "          MBConv-136           [-1, 80, 14, 14]               0\n",
      "          Conv2d-137          [-1, 480, 14, 14]         346,080\n",
      "     BatchNorm2d-138          [-1, 480, 14, 14]             960\n",
      "            SiLU-139          [-1, 480, 14, 14]               0\n",
      "       ConvBlock-140          [-1, 480, 14, 14]               0\n",
      "          Conv2d-141          [-1, 480, 14, 14]          12,480\n",
      "     BatchNorm2d-142          [-1, 480, 14, 14]             960\n",
      "            SiLU-143          [-1, 480, 14, 14]               0\n",
      "       ConvBlock-144          [-1, 480, 14, 14]               0\n",
      "AdaptiveAvgPool2d-145            [-1, 480, 1, 1]               0\n",
      "          Conv2d-146             [-1, 40, 1, 1]          19,240\n",
      "            SiLU-147             [-1, 40, 1, 1]               0\n",
      "          Conv2d-148            [-1, 480, 1, 1]          19,680\n",
      "         Sigmoid-149            [-1, 480, 1, 1]               0\n",
      "SqueezeExcitation-150          [-1, 480, 14, 14]               0\n",
      "          Conv2d-151          [-1, 112, 14, 14]          53,872\n",
      "     BatchNorm2d-152          [-1, 112, 14, 14]             224\n",
      "          MBConv-153          [-1, 112, 14, 14]               0\n",
      "          Conv2d-154          [-1, 672, 14, 14]         678,048\n",
      "     BatchNorm2d-155          [-1, 672, 14, 14]           1,344\n",
      "            SiLU-156          [-1, 672, 14, 14]               0\n",
      "       ConvBlock-157          [-1, 672, 14, 14]               0\n",
      "          Conv2d-158          [-1, 672, 14, 14]          17,472\n",
      "     BatchNorm2d-159          [-1, 672, 14, 14]           1,344\n",
      "            SiLU-160          [-1, 672, 14, 14]               0\n",
      "       ConvBlock-161          [-1, 672, 14, 14]               0\n",
      "AdaptiveAvgPool2d-162            [-1, 672, 1, 1]               0\n",
      "          Conv2d-163             [-1, 56, 1, 1]          37,688\n",
      "            SiLU-164             [-1, 56, 1, 1]               0\n",
      "          Conv2d-165            [-1, 672, 1, 1]          38,304\n",
      "         Sigmoid-166            [-1, 672, 1, 1]               0\n",
      "SqueezeExcitation-167          [-1, 672, 14, 14]               0\n",
      "          Conv2d-168          [-1, 112, 14, 14]          75,376\n",
      "     BatchNorm2d-169          [-1, 112, 14, 14]             224\n",
      "          MBConv-170          [-1, 112, 14, 14]               0\n",
      "          Conv2d-171          [-1, 672, 14, 14]         678,048\n",
      "     BatchNorm2d-172          [-1, 672, 14, 14]           1,344\n",
      "            SiLU-173          [-1, 672, 14, 14]               0\n",
      "       ConvBlock-174          [-1, 672, 14, 14]               0\n",
      "          Conv2d-175          [-1, 672, 14, 14]          17,472\n",
      "     BatchNorm2d-176          [-1, 672, 14, 14]           1,344\n",
      "            SiLU-177          [-1, 672, 14, 14]               0\n",
      "       ConvBlock-178          [-1, 672, 14, 14]               0\n",
      "AdaptiveAvgPool2d-179            [-1, 672, 1, 1]               0\n",
      "          Conv2d-180             [-1, 56, 1, 1]          37,688\n",
      "            SiLU-181             [-1, 56, 1, 1]               0\n",
      "          Conv2d-182            [-1, 672, 1, 1]          38,304\n",
      "         Sigmoid-183            [-1, 672, 1, 1]               0\n",
      "SqueezeExcitation-184          [-1, 672, 14, 14]               0\n",
      "          Conv2d-185          [-1, 112, 14, 14]          75,376\n",
      "     BatchNorm2d-186          [-1, 112, 14, 14]             224\n",
      "          MBConv-187          [-1, 112, 14, 14]               0\n",
      "          Conv2d-188          [-1, 672, 14, 14]         678,048\n",
      "     BatchNorm2d-189          [-1, 672, 14, 14]           1,344\n",
      "            SiLU-190          [-1, 672, 14, 14]               0\n",
      "       ConvBlock-191          [-1, 672, 14, 14]               0\n",
      "          Conv2d-192            [-1, 672, 7, 7]          17,472\n",
      "     BatchNorm2d-193            [-1, 672, 7, 7]           1,344\n",
      "            SiLU-194            [-1, 672, 7, 7]               0\n",
      "       ConvBlock-195            [-1, 672, 7, 7]               0\n",
      "AdaptiveAvgPool2d-196            [-1, 672, 1, 1]               0\n",
      "          Conv2d-197             [-1, 56, 1, 1]          37,688\n",
      "            SiLU-198             [-1, 56, 1, 1]               0\n",
      "          Conv2d-199            [-1, 672, 1, 1]          38,304\n",
      "         Sigmoid-200            [-1, 672, 1, 1]               0\n",
      "SqueezeExcitation-201            [-1, 672, 7, 7]               0\n",
      "          Conv2d-202            [-1, 192, 7, 7]         129,216\n",
      "     BatchNorm2d-203            [-1, 192, 7, 7]             384\n",
      "          MBConv-204            [-1, 192, 7, 7]               0\n",
      "          Conv2d-205           [-1, 1152, 7, 7]       1,991,808\n",
      "     BatchNorm2d-206           [-1, 1152, 7, 7]           2,304\n",
      "            SiLU-207           [-1, 1152, 7, 7]               0\n",
      "       ConvBlock-208           [-1, 1152, 7, 7]               0\n",
      "          Conv2d-209           [-1, 1152, 7, 7]          29,952\n",
      "     BatchNorm2d-210           [-1, 1152, 7, 7]           2,304\n",
      "            SiLU-211           [-1, 1152, 7, 7]               0\n",
      "       ConvBlock-212           [-1, 1152, 7, 7]               0\n",
      "AdaptiveAvgPool2d-213           [-1, 1152, 1, 1]               0\n",
      "          Conv2d-214             [-1, 96, 1, 1]         110,688\n",
      "            SiLU-215             [-1, 96, 1, 1]               0\n",
      "          Conv2d-216           [-1, 1152, 1, 1]         111,744\n",
      "         Sigmoid-217           [-1, 1152, 1, 1]               0\n",
      "SqueezeExcitation-218           [-1, 1152, 7, 7]               0\n",
      "          Conv2d-219            [-1, 192, 7, 7]         221,376\n",
      "     BatchNorm2d-220            [-1, 192, 7, 7]             384\n",
      "          MBConv-221            [-1, 192, 7, 7]               0\n",
      "          Conv2d-222           [-1, 1152, 7, 7]       1,991,808\n",
      "     BatchNorm2d-223           [-1, 1152, 7, 7]           2,304\n",
      "            SiLU-224           [-1, 1152, 7, 7]               0\n",
      "       ConvBlock-225           [-1, 1152, 7, 7]               0\n",
      "          Conv2d-226           [-1, 1152, 7, 7]          29,952\n",
      "     BatchNorm2d-227           [-1, 1152, 7, 7]           2,304\n",
      "            SiLU-228           [-1, 1152, 7, 7]               0\n",
      "       ConvBlock-229           [-1, 1152, 7, 7]               0\n",
      "AdaptiveAvgPool2d-230           [-1, 1152, 1, 1]               0\n",
      "          Conv2d-231             [-1, 96, 1, 1]         110,688\n",
      "            SiLU-232             [-1, 96, 1, 1]               0\n",
      "          Conv2d-233           [-1, 1152, 1, 1]         111,744\n",
      "         Sigmoid-234           [-1, 1152, 1, 1]               0\n",
      "SqueezeExcitation-235           [-1, 1152, 7, 7]               0\n",
      "          Conv2d-236            [-1, 192, 7, 7]         221,376\n",
      "     BatchNorm2d-237            [-1, 192, 7, 7]             384\n",
      "          MBConv-238            [-1, 192, 7, 7]               0\n",
      "          Conv2d-239           [-1, 1152, 7, 7]       1,991,808\n",
      "     BatchNorm2d-240           [-1, 1152, 7, 7]           2,304\n",
      "            SiLU-241           [-1, 1152, 7, 7]               0\n",
      "       ConvBlock-242           [-1, 1152, 7, 7]               0\n",
      "          Conv2d-243           [-1, 1152, 7, 7]          29,952\n",
      "     BatchNorm2d-244           [-1, 1152, 7, 7]           2,304\n",
      "            SiLU-245           [-1, 1152, 7, 7]               0\n",
      "       ConvBlock-246           [-1, 1152, 7, 7]               0\n",
      "AdaptiveAvgPool2d-247           [-1, 1152, 1, 1]               0\n",
      "          Conv2d-248             [-1, 96, 1, 1]         110,688\n",
      "            SiLU-249             [-1, 96, 1, 1]               0\n",
      "          Conv2d-250           [-1, 1152, 1, 1]         111,744\n",
      "         Sigmoid-251           [-1, 1152, 1, 1]               0\n",
      "SqueezeExcitation-252           [-1, 1152, 7, 7]               0\n",
      "          Conv2d-253            [-1, 192, 7, 7]         221,376\n",
      "     BatchNorm2d-254            [-1, 192, 7, 7]             384\n",
      "          MBConv-255            [-1, 192, 7, 7]               0\n",
      "          Conv2d-256           [-1, 1152, 7, 7]       1,991,808\n",
      "     BatchNorm2d-257           [-1, 1152, 7, 7]           2,304\n",
      "            SiLU-258           [-1, 1152, 7, 7]               0\n",
      "       ConvBlock-259           [-1, 1152, 7, 7]               0\n",
      "          Conv2d-260           [-1, 1152, 7, 7]          11,520\n",
      "     BatchNorm2d-261           [-1, 1152, 7, 7]           2,304\n",
      "            SiLU-262           [-1, 1152, 7, 7]               0\n",
      "       ConvBlock-263           [-1, 1152, 7, 7]               0\n",
      "AdaptiveAvgPool2d-264           [-1, 1152, 1, 1]               0\n",
      "          Conv2d-265             [-1, 96, 1, 1]         110,688\n",
      "            SiLU-266             [-1, 96, 1, 1]               0\n",
      "          Conv2d-267           [-1, 1152, 1, 1]         111,744\n",
      "         Sigmoid-268           [-1, 1152, 1, 1]               0\n",
      "SqueezeExcitation-269           [-1, 1152, 7, 7]               0\n",
      "          Conv2d-270            [-1, 320, 7, 7]         368,960\n",
      "     BatchNorm2d-271            [-1, 320, 7, 7]             640\n",
      "          MBConv-272            [-1, 320, 7, 7]               0\n",
      "          Conv2d-273           [-1, 1280, 7, 7]         410,880\n",
      "     BatchNorm2d-274           [-1, 1280, 7, 7]           2,560\n",
      "            SiLU-275           [-1, 1280, 7, 7]               0\n",
      "       ConvBlock-276           [-1, 1280, 7, 7]               0\n",
      "AdaptiveAvgPool2d-277           [-1, 1280, 1, 1]               0\n",
      "         Flatten-278                 [-1, 1280]               0\n",
      "         Dropout-279                 [-1, 1280]               0\n",
      "          Linear-280                    [-1, 7]           8,967\n",
      "================================================================\n",
      "Total params: 14,692,111\n",
      "Trainable params: 14,692,111\n",
      "Non-trainable params: 0\n",
      "----------------------------------------------------------------\n",
      "Input size (MB): 0.57\n",
      "Forward/backward pass size (MB): 219.04\n",
      "Params size (MB): 56.05\n",
      "Estimated Total Size (MB): 275.66\n",
      "----------------------------------------------------------------\n"
     ]
    }
   ],
   "source": [
    "## Generate model summary\n",
    "\n",
    "summary(model_2.model, (3, 224, 224))"
   ]
  },
  {
   "cell_type": "code",
   "execution_count": null,
   "id": "59dceb39",
   "metadata": {},
   "outputs": [
    {
     "name": "stdout",
     "output_type": "stream",
     "text": [
      "\n",
      "Epoch 1 / 30: ---------------------------\n"
     ]
    },
    {
     "name": "stderr",
     "output_type": "stream",
     "text": [
      "Training Model on Num Batches: 100%|██████████| 898/898 [01:44<00:00,  8.58it/s]\n",
      "Testing Model: 100%|██████████| 113/113 [00:09<00:00, 12.25it/s]\n"
     ]
    },
    {
     "name": "stdout",
     "output_type": "stream",
     "text": [
      "\n",
      "Train loss: 1.8183, Train acc: 24.32%\n",
      "Test loss: 1.8174, Test acc: 24.53%\n",
      "\n",
      "\n",
      "Epoch 2 / 30: ---------------------------\n"
     ]
    },
    {
     "name": "stderr",
     "output_type": "stream",
     "text": [
      "Training Model on Num Batches: 100%|██████████| 898/898 [01:44<00:00,  8.58it/s]\n",
      "Testing Model: 100%|██████████| 113/113 [00:09<00:00, 12.43it/s]\n"
     ]
    },
    {
     "name": "stdout",
     "output_type": "stream",
     "text": [
      "\n",
      "Train loss: 1.7661, Train acc: 27.04%\n",
      "Test loss: 1.7151, Test acc: 33.03%\n",
      "\n",
      "\n",
      "Epoch 3 / 30: ---------------------------\n"
     ]
    },
    {
     "name": "stderr",
     "output_type": "stream",
     "text": [
      "Training Model on Num Batches: 100%|██████████| 898/898 [01:44<00:00,  8.56it/s]\n",
      "Testing Model: 100%|██████████| 113/113 [00:09<00:00, 12.02it/s]\n"
     ]
    },
    {
     "name": "stdout",
     "output_type": "stream",
     "text": [
      "\n",
      "Train loss: 1.5991, Train acc: 36.18%\n",
      "Test loss: 1.5682, Test acc: 37.83%\n",
      "\n",
      "\n",
      "Epoch 4 / 30: ---------------------------\n"
     ]
    },
    {
     "name": "stderr",
     "output_type": "stream",
     "text": [
      "Training Model on Num Batches: 100%|██████████| 898/898 [01:44<00:00,  8.58it/s]\n",
      "Testing Model: 100%|██████████| 113/113 [00:09<00:00, 11.55it/s]\n"
     ]
    },
    {
     "name": "stdout",
     "output_type": "stream",
     "text": [
      "\n",
      "Train loss: 1.4795, Train acc: 41.27%\n",
      "Test loss: 1.4869, Test acc: 40.81%\n",
      "\n",
      "\n",
      "Epoch 5 / 30: ---------------------------\n"
     ]
    },
    {
     "name": "stderr",
     "output_type": "stream",
     "text": [
      "Training Model on Num Batches: 100%|██████████| 898/898 [01:44<00:00,  8.58it/s]\n",
      "Testing Model: 100%|██████████| 113/113 [00:10<00:00, 11.19it/s]\n"
     ]
    },
    {
     "name": "stdout",
     "output_type": "stream",
     "text": [
      "\n",
      "Train loss: 1.4045, Train acc: 44.61%\n",
      "Test loss: 1.4295, Test acc: 42.80%\n",
      "\n",
      "\n",
      "Epoch 6 / 30: ---------------------------\n"
     ]
    },
    {
     "name": "stderr",
     "output_type": "stream",
     "text": [
      "Training Model on Num Batches: 100%|██████████| 898/898 [01:45<00:00,  8.53it/s]\n",
      "Testing Model: 100%|██████████| 113/113 [00:11<00:00, 10.07it/s]\n"
     ]
    },
    {
     "name": "stdout",
     "output_type": "stream",
     "text": [
      "\n",
      "Train loss: 1.3307, Train acc: 48.28%\n",
      "Test loss: 1.3439, Test acc: 47.31%\n",
      "\n",
      "\n",
      "Epoch 7 / 30: ---------------------------\n"
     ]
    },
    {
     "name": "stderr",
     "output_type": "stream",
     "text": [
      "Training Model on Num Batches: 100%|██████████| 898/898 [01:45<00:00,  8.51it/s]\n",
      "Testing Model: 100%|██████████| 113/113 [00:11<00:00,  9.93it/s]\n"
     ]
    },
    {
     "name": "stdout",
     "output_type": "stream",
     "text": [
      "\n",
      "Train loss: 1.2559, Train acc: 51.56%\n",
      "Test loss: 1.3228, Test acc: 48.29%\n",
      "\n",
      "\n",
      "Epoch 8 / 30: ---------------------------\n"
     ]
    },
    {
     "name": "stderr",
     "output_type": "stream",
     "text": [
      "Training Model on Num Batches: 100%|██████████| 898/898 [01:47<00:00,  8.36it/s]\n",
      "Testing Model: 100%|██████████| 113/113 [00:11<00:00,  9.55it/s]\n"
     ]
    },
    {
     "name": "stdout",
     "output_type": "stream",
     "text": [
      "\n",
      "Train loss: 1.1890, Train acc: 54.65%\n",
      "Test loss: 1.3276, Test acc: 48.73%\n",
      "\n",
      "\n",
      "Epoch 9 / 30: ---------------------------\n"
     ]
    },
    {
     "name": "stderr",
     "output_type": "stream",
     "text": [
      "Training Model on Num Batches: 100%|██████████| 898/898 [01:49<00:00,  8.22it/s]\n",
      "Testing Model: 100%|██████████| 113/113 [00:12<00:00,  9.33it/s]\n"
     ]
    },
    {
     "name": "stdout",
     "output_type": "stream",
     "text": [
      "\n",
      "Train loss: 1.1320, Train acc: 56.78%\n",
      "Test loss: 1.3108, Test acc: 50.01%\n",
      "\n",
      "\n",
      "Epoch 10 / 30: ---------------------------\n"
     ]
    },
    {
     "name": "stderr",
     "output_type": "stream",
     "text": [
      "Training Model on Num Batches: 100%|██████████| 898/898 [01:52<00:00,  8.01it/s]\n",
      "Testing Model: 100%|██████████| 113/113 [00:12<00:00,  9.04it/s]\n"
     ]
    },
    {
     "name": "stdout",
     "output_type": "stream",
     "text": [
      "\n",
      "Train loss: 1.0802, Train acc: 58.79%\n",
      "Test loss: 1.2927, Test acc: 51.47%\n",
      "\n",
      "\n",
      "Epoch 11 / 30: ---------------------------\n"
     ]
    },
    {
     "name": "stderr",
     "output_type": "stream",
     "text": [
      "Training Model on Num Batches: 100%|██████████| 898/898 [01:53<00:00,  7.89it/s]\n",
      "Testing Model: 100%|██████████| 113/113 [00:13<00:00,  8.54it/s]\n"
     ]
    },
    {
     "name": "stdout",
     "output_type": "stream",
     "text": [
      "\n",
      "Train loss: 1.0277, Train acc: 60.68%\n",
      "Test loss: 1.2669, Test acc: 52.61%\n",
      "\n",
      "\n",
      "Epoch 12 / 30: ---------------------------\n"
     ]
    },
    {
     "name": "stderr",
     "output_type": "stream",
     "text": [
      "Training Model on Num Batches: 100%|██████████| 898/898 [01:56<00:00,  7.72it/s]\n",
      "Testing Model: 100%|██████████| 113/113 [00:13<00:00,  8.48it/s]\n"
     ]
    },
    {
     "name": "stdout",
     "output_type": "stream",
     "text": [
      "\n",
      "Train loss: 0.9810, Train acc: 62.58%\n",
      "Test loss: 1.3808, Test acc: 51.17%\n",
      "\n",
      "\n",
      "Epoch 13 / 30: ---------------------------\n"
     ]
    },
    {
     "name": "stderr",
     "output_type": "stream",
     "text": [
      "Training Model on Num Batches: 100%|██████████| 898/898 [02:00<00:00,  7.48it/s]\n",
      "Testing Model: 100%|██████████| 113/113 [00:13<00:00,  8.23it/s]\n"
     ]
    },
    {
     "name": "stdout",
     "output_type": "stream",
     "text": [
      "\n",
      "Train loss: 0.9326, Train acc: 64.39%\n",
      "Test loss: 1.3234, Test acc: 51.83%\n",
      "\n",
      "\n",
      "Epoch 14 / 30: ---------------------------\n"
     ]
    },
    {
     "name": "stderr",
     "output_type": "stream",
     "text": [
      "Training Model on Num Batches: 100%|██████████| 898/898 [02:01<00:00,  7.38it/s]\n",
      "Testing Model: 100%|██████████| 113/113 [00:14<00:00,  7.56it/s]\n"
     ]
    },
    {
     "name": "stdout",
     "output_type": "stream",
     "text": [
      "\n",
      "Train loss: 0.8888, Train acc: 66.11%\n",
      "Test loss: 1.3392, Test acc: 50.92%\n",
      "\n",
      "\n",
      "Epoch 15 / 30: ---------------------------\n"
     ]
    },
    {
     "name": "stderr",
     "output_type": "stream",
     "text": [
      "Training Model on Num Batches: 100%|██████████| 898/898 [02:07<00:00,  7.07it/s]\n",
      "Testing Model: 100%|██████████| 113/113 [00:14<00:00,  7.65it/s]\n"
     ]
    },
    {
     "name": "stdout",
     "output_type": "stream",
     "text": [
      "\n",
      "Train loss: 0.8405, Train acc: 67.96%\n",
      "Test loss: 1.3978, Test acc: 51.68%\n",
      "\n",
      "\n",
      "Epoch 16 / 30: ---------------------------\n"
     ]
    },
    {
     "name": "stderr",
     "output_type": "stream",
     "text": [
      "Training Model on Num Batches: 100%|██████████| 898/898 [02:09<00:00,  6.94it/s]\n",
      "Testing Model: 100%|██████████| 113/113 [00:16<00:00,  6.66it/s]\n"
     ]
    },
    {
     "name": "stdout",
     "output_type": "stream",
     "text": [
      "\n",
      "Train loss: 0.7961, Train acc: 69.36%\n",
      "Test loss: 1.4688, Test acc: 50.97%\n",
      "\n",
      "\n",
      "Epoch 17 / 30: ---------------------------\n"
     ]
    },
    {
     "name": "stderr",
     "output_type": "stream",
     "text": [
      "Training Model on Num Batches: 100%|██████████| 898/898 [02:12<00:00,  6.76it/s]\n",
      "Testing Model: 100%|██████████| 113/113 [00:16<00:00,  6.91it/s]\n"
     ]
    },
    {
     "name": "stdout",
     "output_type": "stream",
     "text": [
      "\n",
      "Train loss: 0.7409, Train acc: 71.83%\n",
      "Test loss: 1.5255, Test acc: 51.11%\n",
      "\n",
      "\n",
      "Epoch 18 / 30: ---------------------------\n"
     ]
    },
    {
     "name": "stderr",
     "output_type": "stream",
     "text": [
      "Training Model on Num Batches: 100%|██████████| 898/898 [02:14<00:00,  6.69it/s]\n",
      "Testing Model: 100%|██████████| 113/113 [00:18<00:00,  6.24it/s]\n"
     ]
    },
    {
     "name": "stdout",
     "output_type": "stream",
     "text": [
      "\n",
      "Train loss: 0.7019, Train acc: 73.52%\n",
      "Test loss: 1.5853, Test acc: 51.22%\n",
      "\n",
      "\n",
      "Epoch 19 / 30: ---------------------------\n"
     ]
    },
    {
     "name": "stderr",
     "output_type": "stream",
     "text": [
      "Training Model on Num Batches: 100%|██████████| 898/898 [02:16<00:00,  6.58it/s]\n",
      "Testing Model: 100%|██████████| 113/113 [00:17<00:00,  6.47it/s]\n"
     ]
    },
    {
     "name": "stdout",
     "output_type": "stream",
     "text": [
      "\n",
      "Train loss: 0.6526, Train acc: 75.17%\n",
      "Test loss: 1.7086, Test acc: 51.50%\n",
      "\n",
      "\n",
      "Epoch 20 / 30: ---------------------------\n"
     ]
    },
    {
     "name": "stderr",
     "output_type": "stream",
     "text": [
      "Training Model on Num Batches: 100%|██████████| 898/898 [02:21<00:00,  6.32it/s]\n",
      "Testing Model: 100%|██████████| 113/113 [00:18<00:00,  5.97it/s]\n"
     ]
    },
    {
     "name": "stdout",
     "output_type": "stream",
     "text": [
      "\n",
      "Train loss: 0.6193, Train acc: 76.35%\n",
      "Test loss: 1.7530, Test acc: 50.57%\n",
      "\n",
      "\n",
      "Epoch 21 / 30: ---------------------------\n"
     ]
    },
    {
     "name": "stderr",
     "output_type": "stream",
     "text": [
      "Training Model on Num Batches: 100%|██████████| 898/898 [02:27<00:00,  6.11it/s]\n",
      "Testing Model: 100%|██████████| 113/113 [00:23<00:00,  4.87it/s]\n"
     ]
    },
    {
     "name": "stdout",
     "output_type": "stream",
     "text": [
      "\n",
      "Train loss: 0.5733, Train acc: 78.45%\n",
      "Test loss: 1.7684, Test acc: 51.14%\n",
      "\n",
      "\n",
      "Epoch 22 / 30: ---------------------------\n"
     ]
    },
    {
     "name": "stderr",
     "output_type": "stream",
     "text": [
      "Training Model on Num Batches: 100%|██████████| 898/898 [02:32<00:00,  5.89it/s]\n",
      "Testing Model: 100%|██████████| 113/113 [00:21<00:00,  5.23it/s]\n"
     ]
    },
    {
     "name": "stdout",
     "output_type": "stream",
     "text": [
      "\n",
      "Train loss: 0.5451, Train acc: 79.44%\n",
      "Test loss: 1.8554, Test acc: 51.19%\n",
      "\n",
      "\n",
      "Epoch 23 / 30: ---------------------------\n"
     ]
    },
    {
     "name": "stderr",
     "output_type": "stream",
     "text": [
      "Training Model on Num Batches: 100%|██████████| 898/898 [02:37<00:00,  5.71it/s]\n",
      "Testing Model: 100%|██████████| 113/113 [00:24<00:00,  4.69it/s]\n"
     ]
    },
    {
     "name": "stdout",
     "output_type": "stream",
     "text": [
      "\n",
      "Train loss: 0.5030, Train acc: 80.91%\n",
      "Test loss: 1.9143, Test acc: 50.09%\n",
      "\n",
      "\n",
      "Epoch 24 / 30: ---------------------------\n"
     ]
    },
    {
     "name": "stderr",
     "output_type": "stream",
     "text": [
      "Training Model on Num Batches: 100%|██████████| 898/898 [02:44<00:00,  5.46it/s]\n",
      "Testing Model: 100%|██████████| 113/113 [00:23<00:00,  4.75it/s]\n"
     ]
    },
    {
     "name": "stdout",
     "output_type": "stream",
     "text": [
      "\n",
      "Train loss: 0.4713, Train acc: 82.41%\n",
      "Test loss: 2.0609, Test acc: 49.96%\n",
      "\n",
      "\n",
      "Epoch 25 / 30: ---------------------------\n"
     ]
    },
    {
     "name": "stderr",
     "output_type": "stream",
     "text": [
      "Training Model on Num Batches: 100%|██████████| 898/898 [02:44<00:00,  5.46it/s]\n",
      "Testing Model: 100%|██████████| 113/113 [00:24<00:00,  4.62it/s]\n"
     ]
    },
    {
     "name": "stdout",
     "output_type": "stream",
     "text": [
      "\n",
      "Train loss: 0.4373, Train acc: 83.60%\n",
      "Test loss: 2.1526, Test acc: 49.67%\n",
      "\n",
      "\n",
      "Epoch 26 / 30: ---------------------------\n"
     ]
    },
    {
     "name": "stderr",
     "output_type": "stream",
     "text": [
      "Training Model on Num Batches: 100%|██████████| 898/898 [02:55<00:00,  5.11it/s]\n",
      "Testing Model: 100%|██████████| 113/113 [00:25<00:00,  4.39it/s]\n"
     ]
    },
    {
     "name": "stdout",
     "output_type": "stream",
     "text": [
      "\n",
      "Train loss: 0.4184, Train acc: 84.19%\n",
      "Test loss: 2.0785, Test acc: 50.54%\n",
      "\n",
      "\n",
      "Epoch 27 / 30: ---------------------------\n"
     ]
    },
    {
     "name": "stderr",
     "output_type": "stream",
     "text": [
      "Training Model on Num Batches: 100%|██████████| 898/898 [03:01<00:00,  4.93it/s]\n",
      "Testing Model: 100%|██████████| 113/113 [00:26<00:00,  4.27it/s]\n"
     ]
    },
    {
     "name": "stdout",
     "output_type": "stream",
     "text": [
      "\n",
      "Train loss: 0.3866, Train acc: 85.65%\n",
      "Test loss: 2.2302, Test acc: 50.42%\n",
      "\n",
      "\n",
      "Epoch 28 / 30: ---------------------------\n"
     ]
    },
    {
     "name": "stderr",
     "output_type": "stream",
     "text": [
      "Training Model on Num Batches: 100%|██████████| 898/898 [03:17<00:00,  4.55it/s]\n",
      "Testing Model: 100%|██████████| 113/113 [00:30<00:00,  3.68it/s]\n"
     ]
    },
    {
     "name": "stdout",
     "output_type": "stream",
     "text": [
      "\n",
      "Train loss: 0.3646, Train acc: 86.45%\n",
      "Test loss: 2.1885, Test acc: 49.57%\n",
      "\n",
      "\n",
      "Epoch 29 / 30: ---------------------------\n"
     ]
    },
    {
     "name": "stderr",
     "output_type": "stream",
     "text": [
      "Training Model on Num Batches: 100%|██████████| 898/898 [03:21<00:00,  4.47it/s]\n",
      "Testing Model: 100%|██████████| 113/113 [00:35<00:00,  3.22it/s]\n"
     ]
    },
    {
     "name": "stdout",
     "output_type": "stream",
     "text": [
      "\n",
      "Train loss: 0.3386, Train acc: 87.38%\n",
      "Test loss: 2.3806, Test acc: 49.26%\n",
      "\n",
      "\n",
      "Epoch 30 / 30: ---------------------------\n"
     ]
    },
    {
     "name": "stderr",
     "output_type": "stream",
     "text": [
      "Training Model on Num Batches: 100%|██████████| 898/898 [03:33<00:00,  4.22it/s]\n",
      "Testing Model: 100%|██████████| 113/113 [00:29<00:00,  3.78it/s]"
     ]
    },
    {
     "name": "stdout",
     "output_type": "stream",
     "text": [
      "\n",
      "Train loss: 0.3202, Train acc: 88.35%\n",
      "Test loss: 2.3830, Test acc: 50.45%\n",
      "\n",
      "\n",
      "-------Model has finished training-------\n",
      "\n"
     ]
    },
    {
     "name": "stderr",
     "output_type": "stream",
     "text": [
      "\n"
     ]
    }
   ],
   "source": [
    "## Start training and testing loop\n",
    "\n",
    "model_2.model, model_2.history = model_train_test(model=model_2.model,\n",
    "                                                  epochs=model_2.epochs,\n",
    "                                                  train_loader=model_2.train_loader,\n",
    "                                                  test_loader=model_2.test_loader,\n",
    "                                                  device=model_2.device,\n",
    "                                                  lossFn=model_2.lossFn,\n",
    "                                                  accFn=model_2.accFn,\n",
    "                                                  optimizer=model_2.optimizer)"
   ]
  },
  {
   "cell_type": "code",
   "execution_count": 86,
   "id": "27868f33",
   "metadata": {},
   "outputs": [
    {
     "name": "stdout",
     "output_type": "stream",
     "text": [
      "\n",
      "model_2's settings file existed previously. New model_2's settings file is not saved.\n",
      "\n",
      "\n",
      "model_2 state dictionary file existed previously. New model_2's state is not saved.\n",
      "\n",
      "model_2 file existed previously. New model_2 is not saved.\n",
      "\n",
      "model_2's training history has been saved.\n",
      "\n",
      "train_loss\n",
      "1. 1.8183\n",
      "2. 1.7661\n",
      "3. 1.5991\n",
      "4. 1.4795\n",
      "5. 1.4045\n",
      "6. 1.3307\n",
      "7. 1.2559\n",
      "8. 1.1890\n",
      "9. 1.1320\n",
      "10. 1.0802\n",
      "11. 1.0277\n",
      "12. 0.9810\n",
      "13. 0.9326\n",
      "14. 0.8888\n",
      "15. 0.8405\n",
      "16. 0.7961\n",
      "17. 0.7409\n",
      "18. 0.7019\n",
      "19. 0.6526\n",
      "20. 0.6193\n",
      "21. 0.5733\n",
      "22. 0.5451\n",
      "23. 0.5030\n",
      "24. 0.4713\n",
      "25. 0.4373\n",
      "26. 0.4184\n",
      "27. 0.3866\n",
      "28. 0.3646\n",
      "29. 0.3386\n",
      "30. 0.3202\n",
      "\n",
      "train_acc\n",
      "1. 24.3158\n",
      "2. 27.0372\n",
      "3. 36.1818\n",
      "4. 41.2730\n",
      "5. 44.6089\n",
      "6. 48.2830\n",
      "7. 51.5611\n",
      "8. 54.6464\n",
      "9. 56.7845\n",
      "10. 58.7904\n",
      "11. 60.6765\n",
      "12. 62.5766\n",
      "13. 64.3931\n",
      "14. 66.1052\n",
      "15. 67.9566\n",
      "16. 69.3555\n",
      "17. 71.8298\n",
      "18. 73.5175\n",
      "19. 75.1705\n",
      "20. 76.3502\n",
      "21. 78.4521\n",
      "22. 79.4369\n",
      "23. 80.9124\n",
      "24. 82.4123\n",
      "25. 83.6025\n",
      "26. 84.1892\n",
      "27. 85.6452\n",
      "28. 86.4491\n",
      "29. 87.3782\n",
      "30. 88.3477\n",
      "\n",
      "test_loss\n",
      "1. 1.8174\n",
      "2. 1.7151\n",
      "3. 1.5682\n",
      "4. 1.4869\n",
      "5. 1.4295\n",
      "6. 1.3439\n",
      "7. 1.3228\n",
      "8. 1.3276\n",
      "9. 1.3108\n",
      "10. 1.2927\n",
      "11. 1.2669\n",
      "12. 1.3808\n",
      "13. 1.3234\n",
      "14. 1.3392\n",
      "15. 1.3978\n",
      "16. 1.4688\n",
      "17. 1.5255\n",
      "18. 1.5853\n",
      "19. 1.7086\n",
      "20. 1.7530\n",
      "21. 1.7684\n",
      "22. 1.8554\n",
      "23. 1.9143\n",
      "24. 2.0609\n",
      "25. 2.1526\n",
      "26. 2.0785\n",
      "27. 2.2302\n",
      "28. 2.1885\n",
      "29. 2.3806\n",
      "30. 2.3830\n",
      "\n",
      "test_acc\n",
      "1. 24.5299\n",
      "2. 33.0254\n",
      "3. 37.8263\n",
      "4. 40.8131\n",
      "5. 42.8042\n",
      "6. 47.3119\n",
      "7. 48.2909\n",
      "8. 48.7334\n",
      "9. 50.0055\n",
      "10. 51.4712\n",
      "11. 52.6051\n",
      "12. 51.1670\n",
      "13. 51.8307\n",
      "14. 50.9181\n",
      "15. 51.6759\n",
      "16. 50.9734\n",
      "17. 51.1117\n",
      "18. 51.2223\n",
      "19. 51.4989\n",
      "20. 50.5697\n",
      "21. 51.1394\n",
      "22. 51.1947\n",
      "23. 50.0885\n",
      "24. 49.9613\n",
      "25. 49.6737\n",
      "26. 50.5420\n",
      "27. 50.4203\n",
      "28. 49.5741\n",
      "29. 49.2589\n",
      "30. 50.4480\n",
      "\n"
     ]
    }
   ],
   "source": [
    "## Saving model settings, model files and model metrics\n",
    "\n",
    "save_modelSettings(modelSettings, model_2.model_name)\n",
    "\n",
    "save_model_and_modelWeights(model_2.model, model_2.model_name)\n",
    "\n",
    "show_and_save_trainTest_history(model_2.history, model_2.model_name)"
   ]
  },
  {
   "cell_type": "code",
   "execution_count": 18,
   "id": "363ddc61",
   "metadata": {},
   "outputs": [
    {
     "data": {
      "text/plain": [
       "'\\nModel_2 Hyperparameters and Settings\\n\\nmodel_name: \"model_2\",\\nmodel_type: \"b0\",\\nnum_class: 7 ,\\nepochs: 30,\\nbatch_size: 32,\\nlearning_rate: 0.0012, \\n\\nMBConv parameters: [[1, 16, 1, 1, 3], \\n                    [6, 24, 2, 2, 3], \\n                    [6, 40, 2, 2, 5], \\n                    [6, 80, 3, 2, 3], \\n                    [6, 112, 3, 1, 5], \\n                    [6, 192, 4, 2, 5], \\n                    [6, 320, 1, 1, 3]], \\n\\ndropout_rate: 0.3, \\noptimizer: \"Adam\", \\nloss_function: \"Cross Entropy Loss\"\\n\\n==> Further reference purposes\\n'"
      ]
     },
     "execution_count": 18,
     "metadata": {},
     "output_type": "execute_result"
    }
   ],
   "source": [
    "\"\"\"\n",
    "Model_2 Hyperparameters and Settings\n",
    "\n",
    "model_name: \"model_2\",\n",
    "model_type: \"b0\",\n",
    "num_class: 7 ,\n",
    "epochs: 30,\n",
    "batch_size: 32,\n",
    "learning_rate: 0.0012, \n",
    "\n",
    "MBConv parameters: [[1, 16, 1, 1, 3], \n",
    "                    [6, 24, 2, 2, 3], \n",
    "                    [6, 40, 2, 2, 5], \n",
    "                    [6, 80, 3, 2, 3], \n",
    "                    [6, 112, 3, 1, 5], \n",
    "                    [6, 192, 4, 2, 5], \n",
    "                    [6, 320, 1, 1, 3]], \n",
    "\n",
    "dropout_rate: 0.3, \n",
    "optimizer: \"Adam\", \n",
    "loss_function: \"Cross Entropy Loss\"\n",
    "\n",
    "==> Further reference purposes\n",
    "\"\"\""
   ]
  },
  {
   "cell_type": "code",
   "execution_count": null,
   "id": "a81a64f7",
   "metadata": {},
   "outputs": [],
   "source": [
    "\"\"\"\n",
    "From the data seen in the model_2, the model is overfitting due several reasons: \n",
    "    --> High train accuracy and low test accuracy\n",
    "    --> Test accuracy peaked at epoch and gradually went down\n",
    "        ==> It means model is not learning well with the features but instead memorizing the train dataset only\n",
    "\n",
    "Solution:\n",
    "\n",
    "2. Try different sets of hyperparameters to find out best hyperparameters\n",
    "    --> Learning rate\n",
    "    --> Dropout rate\n",
    "    --> Num epochs (reduced)\n",
    "    ==> Others will remain the same\n",
    "    \n",
    "3. Perform k-fold Cross Validation to train a less biased model on more variety of data, because\n",
    "    --> Recalling the data preprocessing Jupyter notebook, there is clearly a data imbalance in classes:\n",
    "        ==> Num data of \"fear\" class is too little\n",
    "        ==> Num data of \"happy\" class is more than others\n",
    "    --> Required to ensure model stability\n",
    "    --> Required to reduce bias when training model\n",
    "    --> Required to reduce overfitting\n",
    "\"\"\""
   ]
  },
  {
   "cell_type": "code",
   "execution_count": 20,
   "id": "1b29c3c6",
   "metadata": {},
   "outputs": [],
   "source": [
    "## Function for New Dataset Image Extraction\n",
    "\n",
    "def loadImageFolder(res, datasetType):\n",
    "    base_dir = os.getcwd()\n",
    "    folder_dir = os.path.join(base_dir, \"processed_data\", datasetType)\n",
    "    \n",
    "    transformation = v2.Compose([\n",
    "        v2.ToImage(),\n",
    "        v2.ToDtype(torch.float32, scale=True), # Convert image to float ranging from 0 - 1\n",
    "        v2.Resize((res, res)),\n",
    "    ])\n",
    "\n",
    "    dataset = ImageFolder(folder_dir, transform=transformation)\n",
    "\n",
    "    return dataset"
   ]
  },
  {
   "cell_type": "code",
   "execution_count": 21,
   "id": "86bde4c7",
   "metadata": {},
   "outputs": [
    {
     "name": "stdout",
     "output_type": "stream",
     "text": [
      "(Image([[[0., 0., 0.,  ..., 0., 0., 0.],\n",
      "        [0., 0., 0.,  ..., 0., 0., 0.],\n",
      "        [0., 0., 0.,  ..., 0., 0., 0.],\n",
      "        ...,\n",
      "        [0., 0., 0.,  ..., 0., 0., 0.],\n",
      "        [0., 0., 0.,  ..., 0., 0., 0.],\n",
      "        [0., 0., 0.,  ..., 0., 0., 0.]],\n",
      "\n",
      "       [[0., 0., 0.,  ..., 0., 0., 0.],\n",
      "        [0., 0., 0.,  ..., 0., 0., 0.],\n",
      "        [0., 0., 0.,  ..., 0., 0., 0.],\n",
      "        ...,\n",
      "        [0., 0., 0.,  ..., 0., 0., 0.],\n",
      "        [0., 0., 0.,  ..., 0., 0., 0.],\n",
      "        [0., 0., 0.,  ..., 0., 0., 0.]],\n",
      "\n",
      "       [[0., 0., 0.,  ..., 0., 0., 0.],\n",
      "        [0., 0., 0.,  ..., 0., 0., 0.],\n",
      "        [0., 0., 0.,  ..., 0., 0., 0.],\n",
      "        ...,\n",
      "        [0., 0., 0.,  ..., 0., 0., 0.],\n",
      "        [0., 0., 0.,  ..., 0., 0., 0.],\n",
      "        [0., 0., 0.,  ..., 0., 0., 0.]]], ), 0)\n"
     ]
    }
   ],
   "source": [
    "# Combine train and test dataset \n",
    "\n",
    "train_dataset = loadImageFolder(224, \"train\")\n",
    "test_dataset = loadImageFolder(224, \"test\")\n",
    "\n",
    "combinedData = []\n",
    "\n",
    "combinedData.append(train_dataset)\n",
    "combinedData.append(test_dataset)\n",
    "\n",
    "image_datasets = torch.utils.data.ConcatDataset(combinedData)\n",
    "\n",
    "print(image_datasets[0])"
   ]
  },
  {
   "cell_type": "code",
   "execution_count": 29,
   "id": "663095e4",
   "metadata": {},
   "outputs": [],
   "source": [
    "def train(model, device, train_loader, optimizer, epoch, lossFn, accFn):\n",
    "    \n",
    "    ### Training\n",
    "    model.train()\n",
    "\n",
    "    train_loss = 0\n",
    "    train_acc = 0\n",
    "\n",
    "    bar_desc = \"Training Model on Epoch \" + str(epoch)\n",
    "\n",
    "    for batch_idx, (X, y) in enumerate(tqdm(train_loader, desc=bar_desc)):\n",
    "        X, y = X.to(device), y.to(device)\n",
    "\n",
    "        optimizer.zero_grad()\n",
    "\n",
    "        y_pred = model(X)\n",
    "        \n",
    "        loss = lossFn(y_pred, y)\n",
    "        \n",
    "        train_loss += loss\n",
    "        train_acc += accFn(y_pred.argmax(dim=1), y)\n",
    "\n",
    "        loss.backward()\n",
    "\n",
    "        optimizer.step()\n",
    "    \n",
    "    train_loss /= len(train_loader)\n",
    "    train_acc /= len(train_loader)\n",
    "    train_acc *= 100\n",
    "    \n",
    "    return train_loss, train_acc"
   ]
  },
  {
   "cell_type": "code",
   "execution_count": null,
   "id": "1cdd024a",
   "metadata": {},
   "outputs": [],
   "source": [
    "## Function for K-fold Cross Validation\n",
    "\n",
    "def k_fold_cross_validation(learningRate, dropoutRate, num_k_folds, epochs):\n",
    "    # Define the number of folds and batch size\n",
    "    k_folds = num_k_folds\n",
    "    batch_size = 32\n",
    "\n",
    "    # Define the device (CPU or GPU)\n",
    "    device = \"cuda\" if torch.cuda.is_available() else \"cpu\"\n",
    "\n",
    "    # Initialize history dictionary to record results of training and testing\n",
    "    history = {\"train_loss\": [],\n",
    "               \"train_acc\": [],\n",
    "               \"test_loss\": [],\n",
    "               \"test_acc\": []}\n",
    "\n",
    "    # Initialize the k-fold cross validation\n",
    "    kf = KFold(n_splits=k_folds,\n",
    "            shuffle=True)\n",
    "\n",
    "    lossFn = nn.CrossEntropyLoss()\n",
    "    accFn = Accuracy('multiclass', num_classes=7).to(device)\n",
    "\n",
    "    # Loop through each fold\n",
    "    for fold, (train_idx, test_idx) in enumerate(kf.split(image_datasets)):\n",
    "        \n",
    "        print(f\"\\nFold {fold+1} / {k_folds}:--------------------------\")\n",
    "\n",
    "        # Define the data laoders for the current fold\n",
    "        train_loader = DataLoader(\n",
    "            dataset=image_datasets,\n",
    "            batch_size=batch_size,\n",
    "            sampler=torch.utils.data.SubsetRandomSampler(train_idx),\n",
    "        )\n",
    "\n",
    "        test_loader = DataLoader(\n",
    "            dataset=image_datasets,\n",
    "            batch_size=batch_size,\n",
    "            sampler=torch.utils.data.SubsetRandomSampler(test_idx)\n",
    "        )\n",
    "\n",
    "        # Initialize the model and optimizer\n",
    "        model = EfficientNet(model_name=\"b0\", # Same architecture but does not need to run previous cells\n",
    "                             output=7,\n",
    "                             mb_params=mb_params,\n",
    "                             dropout_newVal=dropoutRate).to(device)\n",
    "        \n",
    "        optimizer = torch.optim.Adam(model.parameters(), lr=learningRate)\n",
    "\n",
    "        train_loss = 0\n",
    "        train_acc = 0\n",
    "\n",
    "        # Train the model on the current fold\n",
    "        for epoch in range(1, (epochs+1)):\n",
    "            temp_train_loss, temp_train_acc = train(model=model,\n",
    "                  device=device,\n",
    "                  train_loader=train_loader,\n",
    "                  optimizer=optimizer,\n",
    "                  epoch=epoch,\n",
    "                  lossFn=lossFn,\n",
    "                  accFn=accFn)\n",
    "            \n",
    "            train_loss = temp_train_loss\n",
    "            train_acc = temp_train_acc\n",
    "\n",
    "            print(f\"Train loss: {temp_train_loss:.4f}, Train acc: {temp_train_acc:.2f}%\\n\")\n",
    "\n",
    "        print(f\"Average train loss: {train_loss:.4f}, Average rain acc: {train_acc:.2f}%\\n\")\n",
    "        history[\"train_loss\"].append(train_loss)\n",
    "        history[\"train_acc\"].append(train_acc)\n",
    "        \n",
    "        # Evaluate model on the test set\n",
    "        model.eval()\n",
    "\n",
    "        test_loss = 0\n",
    "        test_acc = 0\n",
    "\n",
    "        with torch.inference_mode():\n",
    "            for X, y in enumerate(tqdm(test_loader, desc=\"Testing Model\")):\n",
    "                X, y = X.to(device), y.to(device)\n",
    "                test_logits = model(X)\n",
    "                test_pred = test_logits.argmax(dim=1)\n",
    "\n",
    "                test_loss += lossFn(test_logits, y)\n",
    "                test_acc += accFn(test_pred, y)\n",
    "\n",
    "            test_loss /= len(test_loader.dataset)\n",
    "            test_acc /= len(test_loader.dataset)\n",
    "            test_acc *= 100\n",
    "\n",
    "        # Print results for the current fold\n",
    "        print(f\"Test loss: {test_loss:.4f}, Test acc: {test_acc:.2f}%\\n\")\n",
    "        \n",
    "        history[\"test_loss\"].append(test_loss)\n",
    "        history[\"test_acc\"].append(test_acc)\n",
    "    \n",
    "    return model, history"
   ]
  },
  {
   "cell_type": "code",
   "execution_count": 31,
   "id": "545f7314",
   "metadata": {},
   "outputs": [],
   "source": [
    "## Do not change this, only for reference!!\n",
    "basic_mb_params = [\n",
    "    # Expand ratio, out channels, num layers, stride, kernel_size\n",
    "    # k, c, t, s, k\n",
    "    [1, 16, 1, 1, 3],\n",
    "    [6, 24, 2, 2, 3],\n",
    "    [6, 40, 2, 2, 5],\n",
    "    [6, 80, 3, 2, 3],\n",
    "    [6, 112, 3, 1, 5],\n",
    "    [6, 192, 4, 2, 5],\n",
    "    [6, 320, 1, 1, 3],\n",
    "]\n",
    "\n",
    "# Do not change this too!\n",
    "alpha, beta = 1.2, 1.1\n",
    "\n",
    "## Change any settings you want on this one\n",
    "mb_params = [\n",
    "    # Expand ratio, out channels, num layers, stride, kernel_size\n",
    "    # k, c, t, s, k\n",
    "    [1, 16, 1, 1, 3],\n",
    "    [6, 24, 2, 2, 3],\n",
    "    [6, 40, 2, 2, 5],\n",
    "    [6, 80, 3, 2, 3],\n",
    "    [6, 112, 3, 1, 5],\n",
    "    [6, 192, 4, 2, 5],\n",
    "    [6, 320, 1, 1, 3],\n",
    "]\n",
    "\n",
    "## Do not change anything with it, only for reference!!\n",
    "scale_values = {\n",
    "    # (Phi, resolution, dropout)\n",
    "\n",
    "    \"b0\": (0, 224, 0.2),\n",
    "    \"b1\": (0.5, 240, 0.2),\n",
    "    \"b2\": (1, 260, 0.3),\n",
    "    \"b3\": (2, 300, 0.3),\n",
    "    \"b4\": (3, 380, 0.4),\n",
    "    \"b5\": (4, 456, 0.4),\n",
    "    \"b6\": (5, 528, 0.5),\n",
    "    \"b7\": (6, 600, 0.5),\n",
    "}"
   ]
  },
  {
   "cell_type": "code",
   "execution_count": null,
   "id": "7421634e",
   "metadata": {},
   "outputs": [],
   "source": [
    "## Class for model hyperparameters and training settings\n",
    "\n",
    "class ModelSetHyperparameterTuning:\n",
    "    def __init__(self, model_name, numFolds, learningRate, newDropoutRate, numEpochs):\n",
    "        self.model_name = model_name\n",
    "        self.model_type = \"b0\"\n",
    "        self.num_class = 7\n",
    "        self.numFolds = numFolds\n",
    "        self.epochs = numEpochs\n",
    "        self.batchSize = 32\n",
    "        self.learningRate = learningRate\n",
    "        self.mb_params = mb_params\n",
    "        self.newDropoutRate = newDropoutRate\n",
    "        self.history = None\n",
    "        self.optimChoice = \"Adam\"\n",
    "    \n",
    "    def model_training(self):\n",
    "\n",
    "        self.model, self.history = k_fold_cross_validation(learningRate=self.learningRate,\n",
    "                                                           dropoutRate=self.newDropoutRate,\n",
    "                                                           num_k_folds=self.numFolds,\n",
    "                                                           epochs=self.epochs)\n",
    "    \n",
    "    ## Function to save model settings as json file\n",
    "\n",
    "    def generate_modelSettings_dict(self):\n",
    "\n",
    "        phi, res, ori_dp_rate = scale_values[self.model_type]\n",
    "\n",
    "        if self.newDropoutRate == None:\n",
    "            self.newDropoutRate = ori_dp_rate\n",
    "\n",
    "        modelSettings = {\"model_name\": self.model_name,\n",
    "                         \"model_type\": self.model_type,\n",
    "                         \"num_class\": 7,\n",
    "                         \"num_k_folds\": self.numFolds,\n",
    "                         \"batch_size\": self.batchSize,\n",
    "                         \"learning_rate\": self.learningRate,\n",
    "                         \"MBConv parameters\": self.mb_params,\n",
    "                         \"dropout_rate\": self.newDropoutRate,\n",
    "                         \"optimizer\": self.optimChoice,\n",
    "                         \"loss_function\": \"Cross Entropy Loss\"}\n",
    "        \n",
    "        return modelSettings\n",
    "\n",
    "    # dataType: \"validation\" / \"test\"\n",
    "    def model_testing(self, dataType, classficationReport_flag = False):\n",
    "        lossFn = nn.CrossEntropyLoss()\n",
    "        accFn = Accuracy('multiclass', num_classes=7).to(device)\n",
    "        \n",
    "        temp = loadImageFolder(224, \"validation\")\n",
    "        \n",
    "        data_loader = loadDataset(224, len(temp), dataType)\n",
    "\n",
    "        self.model.eval()\n",
    "\n",
    "        test_loss = 0\n",
    "        test_acc = 0\n",
    "\n",
    "        class_names = list(labelToNum_dict.keys())\n",
    "\n",
    "        with torch.inference_mode():\n",
    "            for batch, (X, y) in enumerate(tqdm(data_loader, desc=\"Testing model on validation data\")):\n",
    "\n",
    "                test_logits = self.model(X)\n",
    "                test_pred = test_logits.argmax(dim=1)\n",
    "\n",
    "                test_loss += lossFn(test_logits, y)\n",
    "                test_acc += accFn(test_pred, y)\n",
    "\n",
    "                if classficationReport_flag:\n",
    "                    report = classification_report(y, test_pred, target_names=class_names)\n",
    "\n",
    "            test_loss /= len(data_loader.dataset)\n",
    "            test_acc /= len(data_loader.dataset)\n",
    "            test_acc *= 100\n",
    "        \n",
    "        if classficationReport_flag:\n",
    "            return test_loss, test_acc, report\n",
    "        else:\n",
    "            return test_loss, test_acc"
   ]
  },
  {
   "cell_type": "code",
   "execution_count": 33,
   "id": "86a2814b",
   "metadata": {},
   "outputs": [],
   "source": [
    "## Putting everything together\n",
    "\n",
    "if (mb_params == basic_mb_params):\n",
    "    mb_params = basic_mb_params\n",
    "\n",
    "model_3 = ModelSetHyperparameterTuning(model_name=\"model_3\",\n",
    "                                       numFolds=5,\n",
    "                                       learningRate=0.0012,\n",
    "                                       newDropoutRate=0.3,\n",
    "                                       numEpochs=10)\n",
    "\n",
    "tunedModelSettings = model_3.generate_modelSettings_dict()"
   ]
  },
  {
   "cell_type": "code",
   "execution_count": 34,
   "id": "371e5b7b",
   "metadata": {},
   "outputs": [
    {
     "name": "stdout",
     "output_type": "stream",
     "text": [
      "\n",
      "Fold 1 / 5:--------------------------\n"
     ]
    },
    {
     "name": "stderr",
     "output_type": "stream",
     "text": [
      "Training Model on Epoch 1: 100%|██████████| 808/808 [01:34<00:00,  8.57it/s]\n"
     ]
    },
    {
     "name": "stdout",
     "output_type": "stream",
     "text": [
      "Train loss: 1.8202, Train acc: 24.44%\n",
      "\n"
     ]
    },
    {
     "name": "stderr",
     "output_type": "stream",
     "text": [
      "Training Model on Epoch 2: 100%|██████████| 808/808 [01:34<00:00,  8.59it/s]\n"
     ]
    },
    {
     "name": "stdout",
     "output_type": "stream",
     "text": [
      "Train loss: 1.8064, Train acc: 24.75%\n",
      "\n"
     ]
    },
    {
     "name": "stderr",
     "output_type": "stream",
     "text": [
      "Training Model on Epoch 3: 100%|██████████| 808/808 [01:34<00:00,  8.58it/s]\n"
     ]
    },
    {
     "name": "stdout",
     "output_type": "stream",
     "text": [
      "Train loss: 1.7723, Train acc: 25.96%\n",
      "\n"
     ]
    },
    {
     "name": "stderr",
     "output_type": "stream",
     "text": [
      "Training Model on Epoch 4: 100%|██████████| 808/808 [01:34<00:00,  8.57it/s]\n"
     ]
    },
    {
     "name": "stdout",
     "output_type": "stream",
     "text": [
      "Train loss: 1.7202, Train acc: 28.75%\n",
      "\n"
     ]
    },
    {
     "name": "stderr",
     "output_type": "stream",
     "text": [
      "Training Model on Epoch 5: 100%|██████████| 808/808 [01:34<00:00,  8.58it/s]\n"
     ]
    },
    {
     "name": "stdout",
     "output_type": "stream",
     "text": [
      "Train loss: 1.6317, Train acc: 34.21%\n",
      "\n"
     ]
    },
    {
     "name": "stderr",
     "output_type": "stream",
     "text": [
      "Training Model on Epoch 6: 100%|██████████| 808/808 [01:34<00:00,  8.58it/s]\n"
     ]
    },
    {
     "name": "stdout",
     "output_type": "stream",
     "text": [
      "Train loss: 1.4989, Train acc: 40.59%\n",
      "\n"
     ]
    },
    {
     "name": "stderr",
     "output_type": "stream",
     "text": [
      "Training Model on Epoch 7: 100%|██████████| 808/808 [01:34<00:00,  8.59it/s]\n"
     ]
    },
    {
     "name": "stdout",
     "output_type": "stream",
     "text": [
      "Train loss: 1.4280, Train acc: 44.16%\n",
      "\n"
     ]
    },
    {
     "name": "stderr",
     "output_type": "stream",
     "text": [
      "Training Model on Epoch 8: 100%|██████████| 808/808 [01:34<00:00,  8.58it/s]\n"
     ]
    },
    {
     "name": "stdout",
     "output_type": "stream",
     "text": [
      "Train loss: 1.3850, Train acc: 46.09%\n",
      "\n"
     ]
    },
    {
     "name": "stderr",
     "output_type": "stream",
     "text": [
      "Training Model on Epoch 9: 100%|██████████| 808/808 [01:34<00:00,  8.56it/s]\n"
     ]
    },
    {
     "name": "stdout",
     "output_type": "stream",
     "text": [
      "Train loss: 1.3497, Train acc: 47.41%\n",
      "\n"
     ]
    },
    {
     "name": "stderr",
     "output_type": "stream",
     "text": [
      "Training Model on Epoch 10: 100%|██████████| 808/808 [01:34<00:00,  8.58it/s]\n"
     ]
    },
    {
     "name": "stdout",
     "output_type": "stream",
     "text": [
      "Train loss: 1.3189, Train acc: 48.82%\n",
      "\n",
      "Average train loss: 1.5731, Average rain acc: 36.52%\n",
      "\n"
     ]
    },
    {
     "name": "stderr",
     "output_type": "stream",
     "text": [
      "Testing Model: 100%|██████████| 202/202 [00:16<00:00, 12.35it/s]\n"
     ]
    },
    {
     "name": "stdout",
     "output_type": "stream",
     "text": [
      "Test loss: 0.0082, Test acc: 0.30%\n",
      "\n",
      "\n",
      "Fold 2 / 5:--------------------------\n"
     ]
    },
    {
     "name": "stderr",
     "output_type": "stream",
     "text": [
      "Training Model on Epoch 1: 100%|██████████| 808/808 [01:34<00:00,  8.58it/s]\n"
     ]
    },
    {
     "name": "stdout",
     "output_type": "stream",
     "text": [
      "Train loss: 1.8272, Train acc: 24.36%\n",
      "\n"
     ]
    },
    {
     "name": "stderr",
     "output_type": "stream",
     "text": [
      "Training Model on Epoch 2: 100%|██████████| 808/808 [01:34<00:00,  8.57it/s]\n"
     ]
    },
    {
     "name": "stdout",
     "output_type": "stream",
     "text": [
      "Train loss: 1.8136, Train acc: 24.48%\n",
      "\n"
     ]
    },
    {
     "name": "stderr",
     "output_type": "stream",
     "text": [
      "Training Model on Epoch 3: 100%|██████████| 808/808 [01:34<00:00,  8.56it/s]\n"
     ]
    },
    {
     "name": "stdout",
     "output_type": "stream",
     "text": [
      "Train loss: 1.8125, Train acc: 24.60%\n",
      "\n"
     ]
    },
    {
     "name": "stderr",
     "output_type": "stream",
     "text": [
      "Training Model on Epoch 4: 100%|██████████| 808/808 [01:34<00:00,  8.58it/s]\n"
     ]
    },
    {
     "name": "stdout",
     "output_type": "stream",
     "text": [
      "Train loss: 1.8120, Train acc: 24.89%\n",
      "\n"
     ]
    },
    {
     "name": "stderr",
     "output_type": "stream",
     "text": [
      "Training Model on Epoch 5: 100%|██████████| 808/808 [01:34<00:00,  8.57it/s]\n"
     ]
    },
    {
     "name": "stdout",
     "output_type": "stream",
     "text": [
      "Train loss: 1.8134, Train acc: 24.72%\n",
      "\n"
     ]
    },
    {
     "name": "stderr",
     "output_type": "stream",
     "text": [
      "Training Model on Epoch 6: 100%|██████████| 808/808 [01:34<00:00,  8.58it/s]\n"
     ]
    },
    {
     "name": "stdout",
     "output_type": "stream",
     "text": [
      "Train loss: 1.8140, Train acc: 24.67%\n",
      "\n"
     ]
    },
    {
     "name": "stderr",
     "output_type": "stream",
     "text": [
      "Training Model on Epoch 7: 100%|██████████| 808/808 [01:34<00:00,  8.58it/s]\n"
     ]
    },
    {
     "name": "stdout",
     "output_type": "stream",
     "text": [
      "Train loss: 1.8104, Train acc: 24.85%\n",
      "\n"
     ]
    },
    {
     "name": "stderr",
     "output_type": "stream",
     "text": [
      "Training Model on Epoch 8: 100%|██████████| 808/808 [01:34<00:00,  8.56it/s]\n"
     ]
    },
    {
     "name": "stdout",
     "output_type": "stream",
     "text": [
      "Train loss: 1.8008, Train acc: 24.75%\n",
      "\n"
     ]
    },
    {
     "name": "stderr",
     "output_type": "stream",
     "text": [
      "Training Model on Epoch 9: 100%|██████████| 808/808 [01:34<00:00,  8.57it/s]\n"
     ]
    },
    {
     "name": "stdout",
     "output_type": "stream",
     "text": [
      "Train loss: 1.7748, Train acc: 25.85%\n",
      "\n"
     ]
    },
    {
     "name": "stderr",
     "output_type": "stream",
     "text": [
      "Training Model on Epoch 10: 100%|██████████| 808/808 [01:34<00:00,  8.54it/s]\n"
     ]
    },
    {
     "name": "stdout",
     "output_type": "stream",
     "text": [
      "Train loss: 1.6812, Train acc: 31.15%\n",
      "\n",
      "Average train loss: 1.7960, Average rain acc: 25.43%\n",
      "\n"
     ]
    },
    {
     "name": "stderr",
     "output_type": "stream",
     "text": [
      "Testing Model: 100%|██████████| 202/202 [00:21<00:00,  9.49it/s]\n"
     ]
    },
    {
     "name": "stdout",
     "output_type": "stream",
     "text": [
      "Test loss: 0.0102, Test acc: 0.22%\n",
      "\n",
      "\n",
      "Fold 3 / 5:--------------------------\n"
     ]
    },
    {
     "name": "stderr",
     "output_type": "stream",
     "text": [
      "Training Model on Epoch 1: 100%|██████████| 808/808 [01:34<00:00,  8.51it/s]\n"
     ]
    },
    {
     "name": "stdout",
     "output_type": "stream",
     "text": [
      "Train loss: 1.8293, Train acc: 24.73%\n",
      "\n"
     ]
    },
    {
     "name": "stderr",
     "output_type": "stream",
     "text": [
      "Training Model on Epoch 2: 100%|██████████| 808/808 [01:36<00:00,  8.41it/s]\n"
     ]
    },
    {
     "name": "stdout",
     "output_type": "stream",
     "text": [
      "Train loss: 1.7969, Train acc: 25.14%\n",
      "\n"
     ]
    },
    {
     "name": "stderr",
     "output_type": "stream",
     "text": [
      "Training Model on Epoch 3: 100%|██████████| 808/808 [01:36<00:00,  8.37it/s]\n"
     ]
    },
    {
     "name": "stdout",
     "output_type": "stream",
     "text": [
      "Train loss: 1.7409, Train acc: 28.87%\n",
      "\n"
     ]
    },
    {
     "name": "stderr",
     "output_type": "stream",
     "text": [
      "Training Model on Epoch 4: 100%|██████████| 808/808 [01:38<00:00,  8.19it/s]\n"
     ]
    },
    {
     "name": "stdout",
     "output_type": "stream",
     "text": [
      "Train loss: 1.6172, Train acc: 34.86%\n",
      "\n"
     ]
    },
    {
     "name": "stderr",
     "output_type": "stream",
     "text": [
      "Training Model on Epoch 5: 100%|██████████| 808/808 [01:40<00:00,  8.03it/s]\n"
     ]
    },
    {
     "name": "stdout",
     "output_type": "stream",
     "text": [
      "Train loss: 1.4955, Train acc: 40.68%\n",
      "\n"
     ]
    },
    {
     "name": "stderr",
     "output_type": "stream",
     "text": [
      "Training Model on Epoch 6: 100%|██████████| 808/808 [01:42<00:00,  7.91it/s]\n"
     ]
    },
    {
     "name": "stdout",
     "output_type": "stream",
     "text": [
      "Train loss: 1.4153, Train acc: 44.29%\n",
      "\n"
     ]
    },
    {
     "name": "stderr",
     "output_type": "stream",
     "text": [
      "Training Model on Epoch 7: 100%|██████████| 808/808 [01:44<00:00,  7.76it/s]\n"
     ]
    },
    {
     "name": "stdout",
     "output_type": "stream",
     "text": [
      "Train loss: 1.3535, Train acc: 47.70%\n",
      "\n"
     ]
    },
    {
     "name": "stderr",
     "output_type": "stream",
     "text": [
      "Training Model on Epoch 8: 100%|██████████| 808/808 [01:45<00:00,  7.67it/s]\n"
     ]
    },
    {
     "name": "stdout",
     "output_type": "stream",
     "text": [
      "Train loss: 1.3055, Train acc: 49.60%\n",
      "\n"
     ]
    },
    {
     "name": "stderr",
     "output_type": "stream",
     "text": [
      "Training Model on Epoch 9: 100%|██████████| 808/808 [01:47<00:00,  7.51it/s]\n"
     ]
    },
    {
     "name": "stdout",
     "output_type": "stream",
     "text": [
      "Train loss: 1.2641, Train acc: 51.28%\n",
      "\n"
     ]
    },
    {
     "name": "stderr",
     "output_type": "stream",
     "text": [
      "Training Model on Epoch 10: 100%|██████████| 808/808 [01:49<00:00,  7.41it/s]\n"
     ]
    },
    {
     "name": "stdout",
     "output_type": "stream",
     "text": [
      "Train loss: 1.2248, Train acc: 52.96%\n",
      "\n",
      "Average train loss: 1.5043, Average rain acc: 40.01%\n",
      "\n"
     ]
    },
    {
     "name": "stderr",
     "output_type": "stream",
     "text": [
      "Testing Model: 100%|██████████| 202/202 [00:26<00:00,  7.69it/s]\n"
     ]
    },
    {
     "name": "stdout",
     "output_type": "stream",
     "text": [
      "Test loss: 0.0078, Test acc: 0.33%\n",
      "\n",
      "\n",
      "Fold 4 / 5:--------------------------\n"
     ]
    },
    {
     "name": "stderr",
     "output_type": "stream",
     "text": [
      "Training Model on Epoch 1: 100%|██████████| 808/808 [01:51<00:00,  7.25it/s]\n"
     ]
    },
    {
     "name": "stdout",
     "output_type": "stream",
     "text": [
      "Train loss: 1.8238, Train acc: 24.33%\n",
      "\n"
     ]
    },
    {
     "name": "stderr",
     "output_type": "stream",
     "text": [
      "Training Model on Epoch 2: 100%|██████████| 808/808 [01:52<00:00,  7.15it/s]\n"
     ]
    },
    {
     "name": "stdout",
     "output_type": "stream",
     "text": [
      "Train loss: 1.7646, Train acc: 27.26%\n",
      "\n"
     ]
    },
    {
     "name": "stderr",
     "output_type": "stream",
     "text": [
      "Training Model on Epoch 3:   7%|▋         | 59/808 [00:08<01:49,  6.86it/s]\n"
     ]
    },
    {
     "ename": "KeyboardInterrupt",
     "evalue": "",
     "output_type": "error",
     "traceback": [
      "\u001b[31m---------------------------------------------------------------------------\u001b[39m",
      "\u001b[31mKeyboardInterrupt\u001b[39m                         Traceback (most recent call last)",
      "\u001b[36mCell\u001b[39m\u001b[36m \u001b[39m\u001b[32mIn[34]\u001b[39m\u001b[32m, line 3\u001b[39m\n\u001b[32m      1\u001b[39m \u001b[38;5;66;03m## Training\u001b[39;00m\n\u001b[32m----> \u001b[39m\u001b[32m3\u001b[39m \u001b[43mmodel_3\u001b[49m\u001b[43m.\u001b[49m\u001b[43mmodel_training\u001b[49m\u001b[43m(\u001b[49m\u001b[43m)\u001b[49m\n",
      "\u001b[36mCell\u001b[39m\u001b[36m \u001b[39m\u001b[32mIn[32]\u001b[39m\u001b[32m, line 19\u001b[39m, in \u001b[36mModelSetHyperparameterTuning.model_training\u001b[39m\u001b[34m(self)\u001b[39m\n\u001b[32m     17\u001b[39m \u001b[38;5;28;01mdef\u001b[39;00m\u001b[38;5;250m \u001b[39m\u001b[34mmodel_training\u001b[39m(\u001b[38;5;28mself\u001b[39m):\n\u001b[32m---> \u001b[39m\u001b[32m19\u001b[39m     \u001b[38;5;28mself\u001b[39m.model, \u001b[38;5;28mself\u001b[39m.history = \u001b[43mnewModelTraining\u001b[49m\u001b[43m(\u001b[49m\u001b[43mlearningRate\u001b[49m\u001b[43m=\u001b[49m\u001b[38;5;28;43mself\u001b[39;49m\u001b[43m.\u001b[49m\u001b[43mlearningRate\u001b[49m\u001b[43m,\u001b[49m\n\u001b[32m     20\u001b[39m \u001b[43m                                                \u001b[49m\u001b[43mdropoutRate\u001b[49m\u001b[43m=\u001b[49m\u001b[38;5;28;43mself\u001b[39;49m\u001b[43m.\u001b[49m\u001b[43mnewDropoutRate\u001b[49m\u001b[43m,\u001b[49m\n\u001b[32m     21\u001b[39m \u001b[43m                                                \u001b[49m\u001b[43mnum_k_folds\u001b[49m\u001b[43m=\u001b[49m\u001b[38;5;28;43mself\u001b[39;49m\u001b[43m.\u001b[49m\u001b[43mnumFolds\u001b[49m\u001b[43m,\u001b[49m\n\u001b[32m     22\u001b[39m \u001b[43m                                                \u001b[49m\u001b[43mepochs\u001b[49m\u001b[43m=\u001b[49m\u001b[38;5;28;43mself\u001b[39;49m\u001b[43m.\u001b[49m\u001b[43mepochs\u001b[49m\u001b[43m)\u001b[49m\n",
      "\u001b[36mCell\u001b[39m\u001b[36m \u001b[39m\u001b[32mIn[30]\u001b[39m\u001b[32m, line 55\u001b[39m, in \u001b[36mnewModelTraining\u001b[39m\u001b[34m(learningRate, dropoutRate, num_k_folds, epochs)\u001b[39m\n\u001b[32m     53\u001b[39m \u001b[38;5;66;03m# Train the model on the current fold\u001b[39;00m\n\u001b[32m     54\u001b[39m \u001b[38;5;28;01mfor\u001b[39;00m epoch \u001b[38;5;129;01min\u001b[39;00m \u001b[38;5;28mrange\u001b[39m(\u001b[32m1\u001b[39m, (epochs+\u001b[32m1\u001b[39m)):\n\u001b[32m---> \u001b[39m\u001b[32m55\u001b[39m     temp_train_loss, temp_train_acc = \u001b[43mtrain\u001b[49m\u001b[43m(\u001b[49m\u001b[43mmodel\u001b[49m\u001b[43m=\u001b[49m\u001b[43mmodel\u001b[49m\u001b[43m,\u001b[49m\n\u001b[32m     56\u001b[39m \u001b[43m          \u001b[49m\u001b[43mdevice\u001b[49m\u001b[43m=\u001b[49m\u001b[43mdevice\u001b[49m\u001b[43m,\u001b[49m\n\u001b[32m     57\u001b[39m \u001b[43m          \u001b[49m\u001b[43mtrain_loader\u001b[49m\u001b[43m=\u001b[49m\u001b[43mtrain_loader\u001b[49m\u001b[43m,\u001b[49m\n\u001b[32m     58\u001b[39m \u001b[43m          \u001b[49m\u001b[43moptimizer\u001b[49m\u001b[43m=\u001b[49m\u001b[43moptimizer\u001b[49m\u001b[43m,\u001b[49m\n\u001b[32m     59\u001b[39m \u001b[43m          \u001b[49m\u001b[43mepoch\u001b[49m\u001b[43m=\u001b[49m\u001b[43mepoch\u001b[49m\u001b[43m,\u001b[49m\n\u001b[32m     60\u001b[39m \u001b[43m          \u001b[49m\u001b[43mlossFn\u001b[49m\u001b[43m=\u001b[49m\u001b[43mlossFn\u001b[49m\u001b[43m,\u001b[49m\n\u001b[32m     61\u001b[39m \u001b[43m          \u001b[49m\u001b[43maccFn\u001b[49m\u001b[43m=\u001b[49m\u001b[43maccFn\u001b[49m\u001b[43m)\u001b[49m\n\u001b[32m     63\u001b[39m     train_loss += temp_train_loss\n\u001b[32m     64\u001b[39m     train_acc += temp_train_acc\n",
      "\u001b[36mCell\u001b[39m\u001b[36m \u001b[39m\u001b[32mIn[29]\u001b[39m\u001b[32m, line 11\u001b[39m, in \u001b[36mtrain\u001b[39m\u001b[34m(model, device, train_loader, optimizer, epoch, lossFn, accFn)\u001b[39m\n\u001b[32m      7\u001b[39m train_acc = \u001b[32m0\u001b[39m\n\u001b[32m      9\u001b[39m bar_desc = \u001b[33m\"\u001b[39m\u001b[33mTraining Model on Epoch \u001b[39m\u001b[33m\"\u001b[39m + \u001b[38;5;28mstr\u001b[39m(epoch)\n\u001b[32m---> \u001b[39m\u001b[32m11\u001b[39m \u001b[43m\u001b[49m\u001b[38;5;28;43;01mfor\u001b[39;49;00m\u001b[43m \u001b[49m\u001b[43mbatch_idx\u001b[49m\u001b[43m,\u001b[49m\u001b[43m \u001b[49m\u001b[43m(\u001b[49m\u001b[43mX\u001b[49m\u001b[43m,\u001b[49m\u001b[43m \u001b[49m\u001b[43my\u001b[49m\u001b[43m)\u001b[49m\u001b[43m \u001b[49m\u001b[38;5;129;43;01min\u001b[39;49;00m\u001b[43m \u001b[49m\u001b[38;5;28;43menumerate\u001b[39;49m\u001b[43m(\u001b[49m\u001b[43mtqdm\u001b[49m\u001b[43m(\u001b[49m\u001b[43mtrain_loader\u001b[49m\u001b[43m,\u001b[49m\u001b[43m \u001b[49m\u001b[43mdesc\u001b[49m\u001b[43m=\u001b[49m\u001b[43mbar_desc\u001b[49m\u001b[43m)\u001b[49m\u001b[43m)\u001b[49m\u001b[43m:\u001b[49m\n\u001b[32m     12\u001b[39m \u001b[43m    \u001b[49m\u001b[43mX\u001b[49m\u001b[43m,\u001b[49m\u001b[43m \u001b[49m\u001b[43my\u001b[49m\u001b[43m \u001b[49m\u001b[43m=\u001b[49m\u001b[43m \u001b[49m\u001b[43mX\u001b[49m\u001b[43m.\u001b[49m\u001b[43mto\u001b[49m\u001b[43m(\u001b[49m\u001b[43mdevice\u001b[49m\u001b[43m)\u001b[49m\u001b[43m,\u001b[49m\u001b[43m \u001b[49m\u001b[43my\u001b[49m\u001b[43m.\u001b[49m\u001b[43mto\u001b[49m\u001b[43m(\u001b[49m\u001b[43mdevice\u001b[49m\u001b[43m)\u001b[49m\n\u001b[32m     14\u001b[39m \u001b[43m    \u001b[49m\u001b[43moptimizer\u001b[49m\u001b[43m.\u001b[49m\u001b[43mzero_grad\u001b[49m\u001b[43m(\u001b[49m\u001b[43m)\u001b[49m\n",
      "\u001b[36mFile \u001b[39m\u001b[32m~\\AppData\\Roaming\\Python\\Python313\\site-packages\\tqdm\\std.py:1181\u001b[39m, in \u001b[36mtqdm.__iter__\u001b[39m\u001b[34m(self)\u001b[39m\n\u001b[32m   1178\u001b[39m time = \u001b[38;5;28mself\u001b[39m._time\n\u001b[32m   1180\u001b[39m \u001b[38;5;28;01mtry\u001b[39;00m:\n\u001b[32m-> \u001b[39m\u001b[32m1181\u001b[39m \u001b[43m    \u001b[49m\u001b[38;5;28;43;01mfor\u001b[39;49;00m\u001b[43m \u001b[49m\u001b[43mobj\u001b[49m\u001b[43m \u001b[49m\u001b[38;5;129;43;01min\u001b[39;49;00m\u001b[43m \u001b[49m\u001b[43miterable\u001b[49m\u001b[43m:\u001b[49m\n\u001b[32m   1182\u001b[39m \u001b[43m        \u001b[49m\u001b[38;5;28;43;01myield\u001b[39;49;00m\u001b[43m \u001b[49m\u001b[43mobj\u001b[49m\n\u001b[32m   1183\u001b[39m \u001b[43m        \u001b[49m\u001b[38;5;66;43;03m# Update and possibly print the progressbar.\u001b[39;49;00m\n\u001b[32m   1184\u001b[39m \u001b[43m        \u001b[49m\u001b[38;5;66;43;03m# Note: does not call self.update(1) for speed optimisation.\u001b[39;49;00m\n",
      "\u001b[36mFile \u001b[39m\u001b[32m~\\AppData\\Roaming\\Python\\Python313\\site-packages\\torch\\utils\\data\\dataloader.py:733\u001b[39m, in \u001b[36m_BaseDataLoaderIter.__next__\u001b[39m\u001b[34m(self)\u001b[39m\n\u001b[32m    730\u001b[39m \u001b[38;5;28;01mif\u001b[39;00m \u001b[38;5;28mself\u001b[39m._sampler_iter \u001b[38;5;129;01mis\u001b[39;00m \u001b[38;5;28;01mNone\u001b[39;00m:\n\u001b[32m    731\u001b[39m     \u001b[38;5;66;03m# TODO(https://github.com/pytorch/pytorch/issues/76750)\u001b[39;00m\n\u001b[32m    732\u001b[39m     \u001b[38;5;28mself\u001b[39m._reset()  \u001b[38;5;66;03m# type: ignore[call-arg]\u001b[39;00m\n\u001b[32m--> \u001b[39m\u001b[32m733\u001b[39m data = \u001b[38;5;28;43mself\u001b[39;49m\u001b[43m.\u001b[49m\u001b[43m_next_data\u001b[49m\u001b[43m(\u001b[49m\u001b[43m)\u001b[49m\n\u001b[32m    734\u001b[39m \u001b[38;5;28mself\u001b[39m._num_yielded += \u001b[32m1\u001b[39m\n\u001b[32m    735\u001b[39m \u001b[38;5;28;01mif\u001b[39;00m (\n\u001b[32m    736\u001b[39m     \u001b[38;5;28mself\u001b[39m._dataset_kind == _DatasetKind.Iterable\n\u001b[32m    737\u001b[39m     \u001b[38;5;129;01mand\u001b[39;00m \u001b[38;5;28mself\u001b[39m._IterableDataset_len_called \u001b[38;5;129;01mis\u001b[39;00m \u001b[38;5;129;01mnot\u001b[39;00m \u001b[38;5;28;01mNone\u001b[39;00m\n\u001b[32m    738\u001b[39m     \u001b[38;5;129;01mand\u001b[39;00m \u001b[38;5;28mself\u001b[39m._num_yielded > \u001b[38;5;28mself\u001b[39m._IterableDataset_len_called\n\u001b[32m    739\u001b[39m ):\n",
      "\u001b[36mFile \u001b[39m\u001b[32m~\\AppData\\Roaming\\Python\\Python313\\site-packages\\torch\\utils\\data\\dataloader.py:789\u001b[39m, in \u001b[36m_SingleProcessDataLoaderIter._next_data\u001b[39m\u001b[34m(self)\u001b[39m\n\u001b[32m    787\u001b[39m \u001b[38;5;28;01mdef\u001b[39;00m\u001b[38;5;250m \u001b[39m\u001b[34m_next_data\u001b[39m(\u001b[38;5;28mself\u001b[39m):\n\u001b[32m    788\u001b[39m     index = \u001b[38;5;28mself\u001b[39m._next_index()  \u001b[38;5;66;03m# may raise StopIteration\u001b[39;00m\n\u001b[32m--> \u001b[39m\u001b[32m789\u001b[39m     data = \u001b[38;5;28;43mself\u001b[39;49m\u001b[43m.\u001b[49m\u001b[43m_dataset_fetcher\u001b[49m\u001b[43m.\u001b[49m\u001b[43mfetch\u001b[49m\u001b[43m(\u001b[49m\u001b[43mindex\u001b[49m\u001b[43m)\u001b[49m  \u001b[38;5;66;03m# may raise StopIteration\u001b[39;00m\n\u001b[32m    790\u001b[39m     \u001b[38;5;28;01mif\u001b[39;00m \u001b[38;5;28mself\u001b[39m._pin_memory:\n\u001b[32m    791\u001b[39m         data = _utils.pin_memory.pin_memory(data, \u001b[38;5;28mself\u001b[39m._pin_memory_device)\n",
      "\u001b[36mFile \u001b[39m\u001b[32m~\\AppData\\Roaming\\Python\\Python313\\site-packages\\torch\\utils\\data\\_utils\\fetch.py:52\u001b[39m, in \u001b[36m_MapDatasetFetcher.fetch\u001b[39m\u001b[34m(self, possibly_batched_index)\u001b[39m\n\u001b[32m     50\u001b[39m         data = \u001b[38;5;28mself\u001b[39m.dataset.__getitems__(possibly_batched_index)\n\u001b[32m     51\u001b[39m     \u001b[38;5;28;01melse\u001b[39;00m:\n\u001b[32m---> \u001b[39m\u001b[32m52\u001b[39m         data = [\u001b[38;5;28;43mself\u001b[39;49m\u001b[43m.\u001b[49m\u001b[43mdataset\u001b[49m\u001b[43m[\u001b[49m\u001b[43midx\u001b[49m\u001b[43m]\u001b[49m \u001b[38;5;28;01mfor\u001b[39;00m idx \u001b[38;5;129;01min\u001b[39;00m possibly_batched_index]\n\u001b[32m     53\u001b[39m \u001b[38;5;28;01melse\u001b[39;00m:\n\u001b[32m     54\u001b[39m     data = \u001b[38;5;28mself\u001b[39m.dataset[possibly_batched_index]\n",
      "\u001b[36mFile \u001b[39m\u001b[32m~\\AppData\\Roaming\\Python\\Python313\\site-packages\\torch\\utils\\data\\dataset.py:346\u001b[39m, in \u001b[36mConcatDataset.__getitem__\u001b[39m\u001b[34m(self, idx)\u001b[39m\n\u001b[32m    344\u001b[39m \u001b[38;5;28;01melse\u001b[39;00m:\n\u001b[32m    345\u001b[39m     sample_idx = idx - \u001b[38;5;28mself\u001b[39m.cumulative_sizes[dataset_idx - \u001b[32m1\u001b[39m]\n\u001b[32m--> \u001b[39m\u001b[32m346\u001b[39m \u001b[38;5;28;01mreturn\u001b[39;00m \u001b[38;5;28;43mself\u001b[39;49m\u001b[43m.\u001b[49m\u001b[43mdatasets\u001b[49m\u001b[43m[\u001b[49m\u001b[43mdataset_idx\u001b[49m\u001b[43m]\u001b[49m\u001b[43m[\u001b[49m\u001b[43msample_idx\u001b[49m\u001b[43m]\u001b[49m\n",
      "\u001b[36mFile \u001b[39m\u001b[32m~\\AppData\\Roaming\\Python\\Python313\\site-packages\\torchvision\\datasets\\folder.py:245\u001b[39m, in \u001b[36mDatasetFolder.__getitem__\u001b[39m\u001b[34m(self, index)\u001b[39m\n\u001b[32m    237\u001b[39m \u001b[38;5;250m\u001b[39m\u001b[33;03m\"\"\"\u001b[39;00m\n\u001b[32m    238\u001b[39m \u001b[33;03mArgs:\u001b[39;00m\n\u001b[32m    239\u001b[39m \u001b[33;03m    index (int): Index\u001b[39;00m\n\u001b[32m   (...)\u001b[39m\u001b[32m    242\u001b[39m \u001b[33;03m    tuple: (sample, target) where target is class_index of the target class.\u001b[39;00m\n\u001b[32m    243\u001b[39m \u001b[33;03m\"\"\"\u001b[39;00m\n\u001b[32m    244\u001b[39m path, target = \u001b[38;5;28mself\u001b[39m.samples[index]\n\u001b[32m--> \u001b[39m\u001b[32m245\u001b[39m sample = \u001b[38;5;28;43mself\u001b[39;49m\u001b[43m.\u001b[49m\u001b[43mloader\u001b[49m\u001b[43m(\u001b[49m\u001b[43mpath\u001b[49m\u001b[43m)\u001b[49m\n\u001b[32m    246\u001b[39m \u001b[38;5;28;01mif\u001b[39;00m \u001b[38;5;28mself\u001b[39m.transform \u001b[38;5;129;01mis\u001b[39;00m \u001b[38;5;129;01mnot\u001b[39;00m \u001b[38;5;28;01mNone\u001b[39;00m:\n\u001b[32m    247\u001b[39m     sample = \u001b[38;5;28mself\u001b[39m.transform(sample)\n",
      "\u001b[36mFile \u001b[39m\u001b[32m~\\AppData\\Roaming\\Python\\Python313\\site-packages\\torchvision\\datasets\\folder.py:284\u001b[39m, in \u001b[36mdefault_loader\u001b[39m\u001b[34m(path)\u001b[39m\n\u001b[32m    282\u001b[39m     \u001b[38;5;28;01mreturn\u001b[39;00m accimage_loader(path)\n\u001b[32m    283\u001b[39m \u001b[38;5;28;01melse\u001b[39;00m:\n\u001b[32m--> \u001b[39m\u001b[32m284\u001b[39m     \u001b[38;5;28;01mreturn\u001b[39;00m \u001b[43mpil_loader\u001b[49m\u001b[43m(\u001b[49m\u001b[43mpath\u001b[49m\u001b[43m)\u001b[49m\n",
      "\u001b[36mFile \u001b[39m\u001b[32m~\\AppData\\Roaming\\Python\\Python313\\site-packages\\torchvision\\datasets\\folder.py:264\u001b[39m, in \u001b[36mpil_loader\u001b[39m\u001b[34m(path)\u001b[39m\n\u001b[32m    262\u001b[39m \u001b[38;5;28;01mwith\u001b[39;00m \u001b[38;5;28mopen\u001b[39m(path, \u001b[33m\"\u001b[39m\u001b[33mrb\u001b[39m\u001b[33m\"\u001b[39m) \u001b[38;5;28;01mas\u001b[39;00m f:\n\u001b[32m    263\u001b[39m     img = Image.open(f)\n\u001b[32m--> \u001b[39m\u001b[32m264\u001b[39m     \u001b[38;5;28;01mreturn\u001b[39;00m \u001b[43mimg\u001b[49m\u001b[43m.\u001b[49m\u001b[43mconvert\u001b[49m\u001b[43m(\u001b[49m\u001b[33;43m\"\u001b[39;49m\u001b[33;43mRGB\u001b[39;49m\u001b[33;43m\"\u001b[39;49m\u001b[43m)\u001b[49m\n",
      "\u001b[36mFile \u001b[39m\u001b[32m~\\AppData\\Roaming\\Python\\Python313\\site-packages\\PIL\\Image.py:1141\u001b[39m, in \u001b[36mImage.convert\u001b[39m\u001b[34m(self, mode, matrix, dither, palette, colors)\u001b[39m\n\u001b[32m   1138\u001b[39m     dither = Dither.FLOYDSTEINBERG\n\u001b[32m   1140\u001b[39m \u001b[38;5;28;01mtry\u001b[39;00m:\n\u001b[32m-> \u001b[39m\u001b[32m1141\u001b[39m     im = \u001b[38;5;28;43mself\u001b[39;49m\u001b[43m.\u001b[49m\u001b[43mim\u001b[49m\u001b[43m.\u001b[49m\u001b[43mconvert\u001b[49m\u001b[43m(\u001b[49m\u001b[43mmode\u001b[49m\u001b[43m,\u001b[49m\u001b[43m \u001b[49m\u001b[43mdither\u001b[49m\u001b[43m)\u001b[49m\n\u001b[32m   1142\u001b[39m \u001b[38;5;28;01mexcept\u001b[39;00m \u001b[38;5;167;01mValueError\u001b[39;00m:\n\u001b[32m   1143\u001b[39m     \u001b[38;5;28;01mtry\u001b[39;00m:\n\u001b[32m   1144\u001b[39m         \u001b[38;5;66;03m# normalize source image and try again\u001b[39;00m\n",
      "\u001b[31mKeyboardInterrupt\u001b[39m: "
     ]
    }
   ],
   "source": [
    "## Training\n",
    "\n",
    "model_3.model_training()"
   ]
  },
  {
   "cell_type": "code",
   "execution_count": null,
   "id": "bfeb2a70",
   "metadata": {},
   "outputs": [],
   "source": [
    "## Generate model summary (Need to train first in order to obtain model)\n",
    "\n",
    "summary(model_3.model, (3, 224, 224))"
   ]
  },
  {
   "cell_type": "code",
   "execution_count": null,
   "id": "177b5f16",
   "metadata": {},
   "outputs": [],
   "source": [
    "## Saving tuned settings, model files and model metrics\n",
    "\n",
    "save_modelSettings(tunedModelSettings, model_3.model_name)\n",
    "\n",
    "save_model_and_modelWeights(model_3.model, model_3.model_name)\n",
    "\n",
    "show_and_save_trainTest_history(model_3.history, model_3.model_name)"
   ]
  },
  {
   "cell_type": "code",
   "execution_count": null,
   "id": "f28e54a7",
   "metadata": {},
   "outputs": [],
   "source": [
    "## Perform model testing on test dataset and validation dataset\n",
    "\n",
    "test_loss, test_acc, test_report = model_3.model_testing(\"test\", classficationReport_flag=True)\n",
    "val_loss, val_acc, val_report = model_3.model_testing(\"validation\", classficationReport_flag=True)\n",
    "\n",
    "print(f\"\\nTest loss: {test_loss:.4f}\")\n",
    "print(f\"Test accuracy: {test_acc:.2f}\")\n",
    "print(f\"Test Classification Report:\\n{test_report}\")\n",
    "\n",
    "print(f\"\\nValidation loss: {val_loss:.4f}\")\n",
    "print(f\"Validation accuracy: {val_acc:.2f}\")\n",
    "print(f\"Validation Classification Report:\\n{val_report}\")"
   ]
  }
 ],
 "metadata": {
  "kernelspec": {
   "display_name": "Python 3",
   "language": "python",
   "name": "python3"
  },
  "language_info": {
   "codemirror_mode": {
    "name": "ipython",
    "version": 3
   },
   "file_extension": ".py",
   "mimetype": "text/x-python",
   "name": "python",
   "nbconvert_exporter": "python",
   "pygments_lexer": "ipython3",
   "version": "3.13.3"
  }
 },
 "nbformat": 4,
 "nbformat_minor": 5
}
